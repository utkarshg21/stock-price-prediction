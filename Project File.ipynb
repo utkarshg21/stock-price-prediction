{
 "cells": [
  {
   "cell_type": "markdown",
   "metadata": {},
   "source": [
    "# 1.Dataset of Tata Motors Limited "
   ]
  },
  {
   "cell_type": "code",
   "execution_count": null,
   "metadata": {},
   "outputs": [],
   "source": []
  },
  {
   "cell_type": "code",
   "execution_count": 1,
   "metadata": {},
   "outputs": [
    {
     "data": {
      "text/html": [
       "<div>\n",
       "<style scoped>\n",
       "    .dataframe tbody tr th:only-of-type {\n",
       "        vertical-align: middle;\n",
       "    }\n",
       "\n",
       "    .dataframe tbody tr th {\n",
       "        vertical-align: top;\n",
       "    }\n",
       "\n",
       "    .dataframe thead th {\n",
       "        text-align: right;\n",
       "    }\n",
       "</style>\n",
       "<table border=\"1\" class=\"dataframe\">\n",
       "  <thead>\n",
       "    <tr style=\"text-align: right;\">\n",
       "      <th></th>\n",
       "      <th>Date</th>\n",
       "      <th>Open</th>\n",
       "      <th>High</th>\n",
       "      <th>Low</th>\n",
       "      <th>Close</th>\n",
       "      <th>Adj Close</th>\n",
       "      <th>Volume</th>\n",
       "    </tr>\n",
       "  </thead>\n",
       "  <tbody>\n",
       "    <tr>\n",
       "      <th>0</th>\n",
       "      <td>2011-06-06</td>\n",
       "      <td>22.620001</td>\n",
       "      <td>22.750000</td>\n",
       "      <td>22.309999</td>\n",
       "      <td>22.420000</td>\n",
       "      <td>21.369839</td>\n",
       "      <td>1994300</td>\n",
       "    </tr>\n",
       "    <tr>\n",
       "      <th>1</th>\n",
       "      <td>2011-06-13</td>\n",
       "      <td>22.420000</td>\n",
       "      <td>22.600000</td>\n",
       "      <td>21.480000</td>\n",
       "      <td>21.610001</td>\n",
       "      <td>20.597778</td>\n",
       "      <td>12451000</td>\n",
       "    </tr>\n",
       "    <tr>\n",
       "      <th>2</th>\n",
       "      <td>2011-06-20</td>\n",
       "      <td>20.990000</td>\n",
       "      <td>21.400000</td>\n",
       "      <td>20.750000</td>\n",
       "      <td>21.330000</td>\n",
       "      <td>20.330894</td>\n",
       "      <td>14072600</td>\n",
       "    </tr>\n",
       "    <tr>\n",
       "      <th>3</th>\n",
       "      <td>2011-06-27</td>\n",
       "      <td>21.410000</td>\n",
       "      <td>22.920000</td>\n",
       "      <td>21.350000</td>\n",
       "      <td>22.879999</td>\n",
       "      <td>21.808290</td>\n",
       "      <td>11078800</td>\n",
       "    </tr>\n",
       "    <tr>\n",
       "      <th>4</th>\n",
       "      <td>2011-07-04</td>\n",
       "      <td>23.090000</td>\n",
       "      <td>24.290001</td>\n",
       "      <td>23.090000</td>\n",
       "      <td>23.700001</td>\n",
       "      <td>22.589882</td>\n",
       "      <td>10278800</td>\n",
       "    </tr>\n",
       "    <tr>\n",
       "      <th>5</th>\n",
       "      <td>2011-07-11</td>\n",
       "      <td>23.540001</td>\n",
       "      <td>23.900000</td>\n",
       "      <td>22.500000</td>\n",
       "      <td>22.660000</td>\n",
       "      <td>21.598597</td>\n",
       "      <td>9283400</td>\n",
       "    </tr>\n",
       "    <tr>\n",
       "      <th>6</th>\n",
       "      <td>2011-07-18</td>\n",
       "      <td>22.490000</td>\n",
       "      <td>22.530001</td>\n",
       "      <td>21.770000</td>\n",
       "      <td>22.309999</td>\n",
       "      <td>21.679342</td>\n",
       "      <td>9372000</td>\n",
       "    </tr>\n",
       "    <tr>\n",
       "      <th>7</th>\n",
       "      <td>2011-07-25</td>\n",
       "      <td>22.510000</td>\n",
       "      <td>22.639999</td>\n",
       "      <td>21.010000</td>\n",
       "      <td>21.420000</td>\n",
       "      <td>20.814501</td>\n",
       "      <td>7890900</td>\n",
       "    </tr>\n",
       "    <tr>\n",
       "      <th>8</th>\n",
       "      <td>2011-08-01</td>\n",
       "      <td>21.730000</td>\n",
       "      <td>21.809999</td>\n",
       "      <td>18.510000</td>\n",
       "      <td>19.170000</td>\n",
       "      <td>18.628103</td>\n",
       "      <td>14884900</td>\n",
       "    </tr>\n",
       "    <tr>\n",
       "      <th>9</th>\n",
       "      <td>2011-08-08</td>\n",
       "      <td>17.719999</td>\n",
       "      <td>18.670000</td>\n",
       "      <td>17.000000</td>\n",
       "      <td>18.209999</td>\n",
       "      <td>17.695236</td>\n",
       "      <td>14818500</td>\n",
       "    </tr>\n",
       "    <tr>\n",
       "      <th>10</th>\n",
       "      <td>2011-08-15</td>\n",
       "      <td>18.290001</td>\n",
       "      <td>18.520000</td>\n",
       "      <td>15.380000</td>\n",
       "      <td>15.590000</td>\n",
       "      <td>15.149302</td>\n",
       "      <td>13953400</td>\n",
       "    </tr>\n",
       "    <tr>\n",
       "      <th>11</th>\n",
       "      <td>2011-08-22</td>\n",
       "      <td>15.980000</td>\n",
       "      <td>16.180000</td>\n",
       "      <td>14.950000</td>\n",
       "      <td>15.500000</td>\n",
       "      <td>15.061846</td>\n",
       "      <td>11321400</td>\n",
       "    </tr>\n",
       "    <tr>\n",
       "      <th>12</th>\n",
       "      <td>2011-08-29</td>\n",
       "      <td>16.059999</td>\n",
       "      <td>16.809999</td>\n",
       "      <td>15.880000</td>\n",
       "      <td>16.030001</td>\n",
       "      <td>15.576864</td>\n",
       "      <td>10988200</td>\n",
       "    </tr>\n",
       "    <tr>\n",
       "      <th>13</th>\n",
       "      <td>2011-09-05</td>\n",
       "      <td>16.209999</td>\n",
       "      <td>17.150000</td>\n",
       "      <td>15.160000</td>\n",
       "      <td>15.350000</td>\n",
       "      <td>14.916087</td>\n",
       "      <td>11195100</td>\n",
       "    </tr>\n",
       "    <tr>\n",
       "      <th>14</th>\n",
       "      <td>2011-09-12</td>\n",
       "      <td>15.040000</td>\n",
       "      <td>16.990000</td>\n",
       "      <td>14.500000</td>\n",
       "      <td>16.930000</td>\n",
       "      <td>16.451422</td>\n",
       "      <td>13630300</td>\n",
       "    </tr>\n",
       "    <tr>\n",
       "      <th>15</th>\n",
       "      <td>2011-09-19</td>\n",
       "      <td>16.580000</td>\n",
       "      <td>17.139999</td>\n",
       "      <td>14.600000</td>\n",
       "      <td>15.020000</td>\n",
       "      <td>14.595416</td>\n",
       "      <td>11693800</td>\n",
       "    </tr>\n",
       "    <tr>\n",
       "      <th>16</th>\n",
       "      <td>2011-09-26</td>\n",
       "      <td>14.860000</td>\n",
       "      <td>16.480000</td>\n",
       "      <td>14.510000</td>\n",
       "      <td>15.380000</td>\n",
       "      <td>14.945237</td>\n",
       "      <td>7804000</td>\n",
       "    </tr>\n",
       "    <tr>\n",
       "      <th>17</th>\n",
       "      <td>2011-10-03</td>\n",
       "      <td>15.280000</td>\n",
       "      <td>16.540001</td>\n",
       "      <td>14.330000</td>\n",
       "      <td>16.240000</td>\n",
       "      <td>15.780928</td>\n",
       "      <td>10198400</td>\n",
       "    </tr>\n",
       "    <tr>\n",
       "      <th>18</th>\n",
       "      <td>2011-10-10</td>\n",
       "      <td>17.160000</td>\n",
       "      <td>18.690001</td>\n",
       "      <td>17.049999</td>\n",
       "      <td>18.590000</td>\n",
       "      <td>18.064497</td>\n",
       "      <td>12011200</td>\n",
       "    </tr>\n",
       "    <tr>\n",
       "      <th>19</th>\n",
       "      <td>2011-10-17</td>\n",
       "      <td>18.809999</td>\n",
       "      <td>18.879999</td>\n",
       "      <td>17.809999</td>\n",
       "      <td>18.250000</td>\n",
       "      <td>17.734106</td>\n",
       "      <td>8055600</td>\n",
       "    </tr>\n",
       "    <tr>\n",
       "      <th>20</th>\n",
       "      <td>2011-10-24</td>\n",
       "      <td>18.490000</td>\n",
       "      <td>21.959999</td>\n",
       "      <td>18.450001</td>\n",
       "      <td>21.340000</td>\n",
       "      <td>20.736761</td>\n",
       "      <td>12455900</td>\n",
       "    </tr>\n",
       "    <tr>\n",
       "      <th>21</th>\n",
       "      <td>2011-10-31</td>\n",
       "      <td>20.540001</td>\n",
       "      <td>20.540001</td>\n",
       "      <td>18.850000</td>\n",
       "      <td>19.290001</td>\n",
       "      <td>18.744711</td>\n",
       "      <td>11212900</td>\n",
       "    </tr>\n",
       "    <tr>\n",
       "      <th>22</th>\n",
       "      <td>2011-11-07</td>\n",
       "      <td>19.270000</td>\n",
       "      <td>19.540001</td>\n",
       "      <td>17.820000</td>\n",
       "      <td>18.510000</td>\n",
       "      <td>17.986759</td>\n",
       "      <td>9135800</td>\n",
       "    </tr>\n",
       "    <tr>\n",
       "      <th>23</th>\n",
       "      <td>2011-11-14</td>\n",
       "      <td>17.900000</td>\n",
       "      <td>18.150000</td>\n",
       "      <td>16.110001</td>\n",
       "      <td>16.350000</td>\n",
       "      <td>15.887818</td>\n",
       "      <td>11530600</td>\n",
       "    </tr>\n",
       "    <tr>\n",
       "      <th>24</th>\n",
       "      <td>2011-11-21</td>\n",
       "      <td>15.620000</td>\n",
       "      <td>16.490000</td>\n",
       "      <td>14.860000</td>\n",
       "      <td>16.040001</td>\n",
       "      <td>15.586581</td>\n",
       "      <td>9012300</td>\n",
       "    </tr>\n",
       "    <tr>\n",
       "      <th>25</th>\n",
       "      <td>2011-11-28</td>\n",
       "      <td>17.250000</td>\n",
       "      <td>18.650000</td>\n",
       "      <td>16.620001</td>\n",
       "      <td>18.370001</td>\n",
       "      <td>17.850716</td>\n",
       "      <td>11435000</td>\n",
       "    </tr>\n",
       "    <tr>\n",
       "      <th>26</th>\n",
       "      <td>2011-12-05</td>\n",
       "      <td>18.580000</td>\n",
       "      <td>18.730000</td>\n",
       "      <td>17.469999</td>\n",
       "      <td>18.040001</td>\n",
       "      <td>17.530045</td>\n",
       "      <td>7654400</td>\n",
       "    </tr>\n",
       "    <tr>\n",
       "      <th>27</th>\n",
       "      <td>2011-12-12</td>\n",
       "      <td>16.850000</td>\n",
       "      <td>17.030001</td>\n",
       "      <td>15.880000</td>\n",
       "      <td>15.940000</td>\n",
       "      <td>15.489407</td>\n",
       "      <td>8872000</td>\n",
       "    </tr>\n",
       "    <tr>\n",
       "      <th>28</th>\n",
       "      <td>2011-12-19</td>\n",
       "      <td>16.510000</td>\n",
       "      <td>17.670000</td>\n",
       "      <td>16.110001</td>\n",
       "      <td>17.440001</td>\n",
       "      <td>16.947006</td>\n",
       "      <td>7962600</td>\n",
       "    </tr>\n",
       "    <tr>\n",
       "      <th>29</th>\n",
       "      <td>2011-12-26</td>\n",
       "      <td>17.030001</td>\n",
       "      <td>17.080000</td>\n",
       "      <td>16.500000</td>\n",
       "      <td>16.900000</td>\n",
       "      <td>16.422270</td>\n",
       "      <td>4086400</td>\n",
       "    </tr>\n",
       "    <tr>\n",
       "      <th>...</th>\n",
       "      <td>...</td>\n",
       "      <td>...</td>\n",
       "      <td>...</td>\n",
       "      <td>...</td>\n",
       "      <td>...</td>\n",
       "      <td>...</td>\n",
       "      <td>...</td>\n",
       "    </tr>\n",
       "    <tr>\n",
       "      <th>494</th>\n",
       "      <td>2020-11-23</td>\n",
       "      <td>11.570000</td>\n",
       "      <td>12.610000</td>\n",
       "      <td>11.320000</td>\n",
       "      <td>12.380000</td>\n",
       "      <td>12.380000</td>\n",
       "      <td>6980000</td>\n",
       "    </tr>\n",
       "    <tr>\n",
       "      <th>495</th>\n",
       "      <td>2020-11-30</td>\n",
       "      <td>12.350000</td>\n",
       "      <td>12.770000</td>\n",
       "      <td>11.880000</td>\n",
       "      <td>12.510000</td>\n",
       "      <td>12.510000</td>\n",
       "      <td>9216500</td>\n",
       "    </tr>\n",
       "    <tr>\n",
       "      <th>496</th>\n",
       "      <td>2020-12-07</td>\n",
       "      <td>12.500000</td>\n",
       "      <td>12.620000</td>\n",
       "      <td>11.830000</td>\n",
       "      <td>12.120000</td>\n",
       "      <td>12.120000</td>\n",
       "      <td>10281300</td>\n",
       "    </tr>\n",
       "    <tr>\n",
       "      <th>497</th>\n",
       "      <td>2020-12-14</td>\n",
       "      <td>12.170000</td>\n",
       "      <td>12.620000</td>\n",
       "      <td>11.860000</td>\n",
       "      <td>12.180000</td>\n",
       "      <td>12.180000</td>\n",
       "      <td>7074700</td>\n",
       "    </tr>\n",
       "    <tr>\n",
       "      <th>498</th>\n",
       "      <td>2020-12-21</td>\n",
       "      <td>11.150000</td>\n",
       "      <td>12.000000</td>\n",
       "      <td>11.010000</td>\n",
       "      <td>11.800000</td>\n",
       "      <td>11.800000</td>\n",
       "      <td>6455200</td>\n",
       "    </tr>\n",
       "    <tr>\n",
       "      <th>499</th>\n",
       "      <td>2020-12-28</td>\n",
       "      <td>12.500000</td>\n",
       "      <td>12.690000</td>\n",
       "      <td>12.290000</td>\n",
       "      <td>12.600000</td>\n",
       "      <td>12.600000</td>\n",
       "      <td>4709000</td>\n",
       "    </tr>\n",
       "    <tr>\n",
       "      <th>500</th>\n",
       "      <td>2021-01-04</td>\n",
       "      <td>12.970000</td>\n",
       "      <td>13.700000</td>\n",
       "      <td>12.670000</td>\n",
       "      <td>13.670000</td>\n",
       "      <td>13.670000</td>\n",
       "      <td>8258200</td>\n",
       "    </tr>\n",
       "    <tr>\n",
       "      <th>501</th>\n",
       "      <td>2021-01-11</td>\n",
       "      <td>15.020000</td>\n",
       "      <td>17.990000</td>\n",
       "      <td>15.020000</td>\n",
       "      <td>17.559999</td>\n",
       "      <td>17.559999</td>\n",
       "      <td>19997200</td>\n",
       "    </tr>\n",
       "    <tr>\n",
       "      <th>502</th>\n",
       "      <td>2021-01-18</td>\n",
       "      <td>17.610001</td>\n",
       "      <td>20.139999</td>\n",
       "      <td>17.520000</td>\n",
       "      <td>19.570000</td>\n",
       "      <td>19.570000</td>\n",
       "      <td>13779100</td>\n",
       "    </tr>\n",
       "    <tr>\n",
       "      <th>503</th>\n",
       "      <td>2021-01-25</td>\n",
       "      <td>18.840000</td>\n",
       "      <td>19.010000</td>\n",
       "      <td>17.740000</td>\n",
       "      <td>17.809999</td>\n",
       "      <td>17.809999</td>\n",
       "      <td>13654400</td>\n",
       "    </tr>\n",
       "    <tr>\n",
       "      <th>504</th>\n",
       "      <td>2021-02-01</td>\n",
       "      <td>18.770000</td>\n",
       "      <td>22.750000</td>\n",
       "      <td>18.770000</td>\n",
       "      <td>21.540001</td>\n",
       "      <td>21.540001</td>\n",
       "      <td>15111900</td>\n",
       "    </tr>\n",
       "    <tr>\n",
       "      <th>505</th>\n",
       "      <td>2021-02-08</td>\n",
       "      <td>22.870001</td>\n",
       "      <td>23.379999</td>\n",
       "      <td>21.950001</td>\n",
       "      <td>22.580000</td>\n",
       "      <td>22.580000</td>\n",
       "      <td>8048100</td>\n",
       "    </tr>\n",
       "    <tr>\n",
       "      <th>506</th>\n",
       "      <td>2021-02-15</td>\n",
       "      <td>22.580000</td>\n",
       "      <td>22.680000</td>\n",
       "      <td>21.110001</td>\n",
       "      <td>21.430000</td>\n",
       "      <td>21.430000</td>\n",
       "      <td>7877300</td>\n",
       "    </tr>\n",
       "    <tr>\n",
       "      <th>507</th>\n",
       "      <td>2021-02-22</td>\n",
       "      <td>20.910000</td>\n",
       "      <td>22.959999</td>\n",
       "      <td>20.520000</td>\n",
       "      <td>21.990000</td>\n",
       "      <td>21.990000</td>\n",
       "      <td>10026400</td>\n",
       "    </tr>\n",
       "    <tr>\n",
       "      <th>508</th>\n",
       "      <td>2021-03-01</td>\n",
       "      <td>22.459999</td>\n",
       "      <td>23.700001</td>\n",
       "      <td>21.309999</td>\n",
       "      <td>22.320000</td>\n",
       "      <td>22.320000</td>\n",
       "      <td>10974200</td>\n",
       "    </tr>\n",
       "    <tr>\n",
       "      <th>509</th>\n",
       "      <td>2021-03-08</td>\n",
       "      <td>21.850000</td>\n",
       "      <td>22.530001</td>\n",
       "      <td>21.420000</td>\n",
       "      <td>21.969999</td>\n",
       "      <td>21.969999</td>\n",
       "      <td>5962500</td>\n",
       "    </tr>\n",
       "    <tr>\n",
       "      <th>510</th>\n",
       "      <td>2021-03-15</td>\n",
       "      <td>21.830000</td>\n",
       "      <td>22.000000</td>\n",
       "      <td>20.230000</td>\n",
       "      <td>21.219999</td>\n",
       "      <td>21.219999</td>\n",
       "      <td>5653500</td>\n",
       "    </tr>\n",
       "    <tr>\n",
       "      <th>511</th>\n",
       "      <td>2021-03-22</td>\n",
       "      <td>20.889999</td>\n",
       "      <td>21.100000</td>\n",
       "      <td>19.260000</td>\n",
       "      <td>20.400000</td>\n",
       "      <td>20.400000</td>\n",
       "      <td>8075100</td>\n",
       "    </tr>\n",
       "    <tr>\n",
       "      <th>512</th>\n",
       "      <td>2021-03-29</td>\n",
       "      <td>20.420000</td>\n",
       "      <td>21.180000</td>\n",
       "      <td>19.980000</td>\n",
       "      <td>21.030001</td>\n",
       "      <td>21.030001</td>\n",
       "      <td>4499400</td>\n",
       "    </tr>\n",
       "    <tr>\n",
       "      <th>513</th>\n",
       "      <td>2021-04-05</td>\n",
       "      <td>21.030001</td>\n",
       "      <td>21.240000</td>\n",
       "      <td>20.350000</td>\n",
       "      <td>21.240000</td>\n",
       "      <td>21.240000</td>\n",
       "      <td>5213100</td>\n",
       "    </tr>\n",
       "    <tr>\n",
       "      <th>514</th>\n",
       "      <td>2021-04-12</td>\n",
       "      <td>19.160000</td>\n",
       "      <td>20.680000</td>\n",
       "      <td>18.559999</td>\n",
       "      <td>20.510000</td>\n",
       "      <td>20.510000</td>\n",
       "      <td>8825100</td>\n",
       "    </tr>\n",
       "    <tr>\n",
       "      <th>515</th>\n",
       "      <td>2021-04-19</td>\n",
       "      <td>19.990000</td>\n",
       "      <td>20.049999</td>\n",
       "      <td>19.129999</td>\n",
       "      <td>19.700001</td>\n",
       "      <td>19.700001</td>\n",
       "      <td>5419200</td>\n",
       "    </tr>\n",
       "    <tr>\n",
       "      <th>516</th>\n",
       "      <td>2021-04-26</td>\n",
       "      <td>19.660000</td>\n",
       "      <td>20.590000</td>\n",
       "      <td>19.309999</td>\n",
       "      <td>19.350000</td>\n",
       "      <td>19.350000</td>\n",
       "      <td>5003200</td>\n",
       "    </tr>\n",
       "    <tr>\n",
       "      <th>517</th>\n",
       "      <td>2021-05-03</td>\n",
       "      <td>19.570000</td>\n",
       "      <td>20.670000</td>\n",
       "      <td>19.100000</td>\n",
       "      <td>20.580000</td>\n",
       "      <td>20.580000</td>\n",
       "      <td>5087100</td>\n",
       "    </tr>\n",
       "    <tr>\n",
       "      <th>518</th>\n",
       "      <td>2021-05-10</td>\n",
       "      <td>21.190001</td>\n",
       "      <td>22.000000</td>\n",
       "      <td>20.870001</td>\n",
       "      <td>21.240000</td>\n",
       "      <td>21.240000</td>\n",
       "      <td>9361000</td>\n",
       "    </tr>\n",
       "    <tr>\n",
       "      <th>519</th>\n",
       "      <td>2021-05-17</td>\n",
       "      <td>21.700001</td>\n",
       "      <td>22.389999</td>\n",
       "      <td>20.639999</td>\n",
       "      <td>21.299999</td>\n",
       "      <td>21.299999</td>\n",
       "      <td>7540900</td>\n",
       "    </tr>\n",
       "    <tr>\n",
       "      <th>520</th>\n",
       "      <td>2021-05-24</td>\n",
       "      <td>21.270000</td>\n",
       "      <td>22.270000</td>\n",
       "      <td>21.110001</td>\n",
       "      <td>21.730000</td>\n",
       "      <td>21.730000</td>\n",
       "      <td>5413900</td>\n",
       "    </tr>\n",
       "    <tr>\n",
       "      <th>521</th>\n",
       "      <td>2021-05-31</td>\n",
       "      <td>21.860001</td>\n",
       "      <td>23.680000</td>\n",
       "      <td>21.690001</td>\n",
       "      <td>23.600000</td>\n",
       "      <td>23.600000</td>\n",
       "      <td>5987500</td>\n",
       "    </tr>\n",
       "    <tr>\n",
       "      <th>522</th>\n",
       "      <td>2021-06-07</td>\n",
       "      <td>23.680000</td>\n",
       "      <td>24.270000</td>\n",
       "      <td>23.379999</td>\n",
       "      <td>23.420000</td>\n",
       "      <td>23.420000</td>\n",
       "      <td>5581200</td>\n",
       "    </tr>\n",
       "    <tr>\n",
       "      <th>523</th>\n",
       "      <td>2021-06-10</td>\n",
       "      <td>23.540001</td>\n",
       "      <td>23.719999</td>\n",
       "      <td>23.465000</td>\n",
       "      <td>23.559999</td>\n",
       "      <td>23.559999</td>\n",
       "      <td>703164</td>\n",
       "    </tr>\n",
       "  </tbody>\n",
       "</table>\n",
       "<p>524 rows × 7 columns</p>\n",
       "</div>"
      ],
      "text/plain": [
       "           Date       Open       High        Low      Close  Adj Close  \\\n",
       "0    2011-06-06  22.620001  22.750000  22.309999  22.420000  21.369839   \n",
       "1    2011-06-13  22.420000  22.600000  21.480000  21.610001  20.597778   \n",
       "2    2011-06-20  20.990000  21.400000  20.750000  21.330000  20.330894   \n",
       "3    2011-06-27  21.410000  22.920000  21.350000  22.879999  21.808290   \n",
       "4    2011-07-04  23.090000  24.290001  23.090000  23.700001  22.589882   \n",
       "5    2011-07-11  23.540001  23.900000  22.500000  22.660000  21.598597   \n",
       "6    2011-07-18  22.490000  22.530001  21.770000  22.309999  21.679342   \n",
       "7    2011-07-25  22.510000  22.639999  21.010000  21.420000  20.814501   \n",
       "8    2011-08-01  21.730000  21.809999  18.510000  19.170000  18.628103   \n",
       "9    2011-08-08  17.719999  18.670000  17.000000  18.209999  17.695236   \n",
       "10   2011-08-15  18.290001  18.520000  15.380000  15.590000  15.149302   \n",
       "11   2011-08-22  15.980000  16.180000  14.950000  15.500000  15.061846   \n",
       "12   2011-08-29  16.059999  16.809999  15.880000  16.030001  15.576864   \n",
       "13   2011-09-05  16.209999  17.150000  15.160000  15.350000  14.916087   \n",
       "14   2011-09-12  15.040000  16.990000  14.500000  16.930000  16.451422   \n",
       "15   2011-09-19  16.580000  17.139999  14.600000  15.020000  14.595416   \n",
       "16   2011-09-26  14.860000  16.480000  14.510000  15.380000  14.945237   \n",
       "17   2011-10-03  15.280000  16.540001  14.330000  16.240000  15.780928   \n",
       "18   2011-10-10  17.160000  18.690001  17.049999  18.590000  18.064497   \n",
       "19   2011-10-17  18.809999  18.879999  17.809999  18.250000  17.734106   \n",
       "20   2011-10-24  18.490000  21.959999  18.450001  21.340000  20.736761   \n",
       "21   2011-10-31  20.540001  20.540001  18.850000  19.290001  18.744711   \n",
       "22   2011-11-07  19.270000  19.540001  17.820000  18.510000  17.986759   \n",
       "23   2011-11-14  17.900000  18.150000  16.110001  16.350000  15.887818   \n",
       "24   2011-11-21  15.620000  16.490000  14.860000  16.040001  15.586581   \n",
       "25   2011-11-28  17.250000  18.650000  16.620001  18.370001  17.850716   \n",
       "26   2011-12-05  18.580000  18.730000  17.469999  18.040001  17.530045   \n",
       "27   2011-12-12  16.850000  17.030001  15.880000  15.940000  15.489407   \n",
       "28   2011-12-19  16.510000  17.670000  16.110001  17.440001  16.947006   \n",
       "29   2011-12-26  17.030001  17.080000  16.500000  16.900000  16.422270   \n",
       "..          ...        ...        ...        ...        ...        ...   \n",
       "494  2020-11-23  11.570000  12.610000  11.320000  12.380000  12.380000   \n",
       "495  2020-11-30  12.350000  12.770000  11.880000  12.510000  12.510000   \n",
       "496  2020-12-07  12.500000  12.620000  11.830000  12.120000  12.120000   \n",
       "497  2020-12-14  12.170000  12.620000  11.860000  12.180000  12.180000   \n",
       "498  2020-12-21  11.150000  12.000000  11.010000  11.800000  11.800000   \n",
       "499  2020-12-28  12.500000  12.690000  12.290000  12.600000  12.600000   \n",
       "500  2021-01-04  12.970000  13.700000  12.670000  13.670000  13.670000   \n",
       "501  2021-01-11  15.020000  17.990000  15.020000  17.559999  17.559999   \n",
       "502  2021-01-18  17.610001  20.139999  17.520000  19.570000  19.570000   \n",
       "503  2021-01-25  18.840000  19.010000  17.740000  17.809999  17.809999   \n",
       "504  2021-02-01  18.770000  22.750000  18.770000  21.540001  21.540001   \n",
       "505  2021-02-08  22.870001  23.379999  21.950001  22.580000  22.580000   \n",
       "506  2021-02-15  22.580000  22.680000  21.110001  21.430000  21.430000   \n",
       "507  2021-02-22  20.910000  22.959999  20.520000  21.990000  21.990000   \n",
       "508  2021-03-01  22.459999  23.700001  21.309999  22.320000  22.320000   \n",
       "509  2021-03-08  21.850000  22.530001  21.420000  21.969999  21.969999   \n",
       "510  2021-03-15  21.830000  22.000000  20.230000  21.219999  21.219999   \n",
       "511  2021-03-22  20.889999  21.100000  19.260000  20.400000  20.400000   \n",
       "512  2021-03-29  20.420000  21.180000  19.980000  21.030001  21.030001   \n",
       "513  2021-04-05  21.030001  21.240000  20.350000  21.240000  21.240000   \n",
       "514  2021-04-12  19.160000  20.680000  18.559999  20.510000  20.510000   \n",
       "515  2021-04-19  19.990000  20.049999  19.129999  19.700001  19.700001   \n",
       "516  2021-04-26  19.660000  20.590000  19.309999  19.350000  19.350000   \n",
       "517  2021-05-03  19.570000  20.670000  19.100000  20.580000  20.580000   \n",
       "518  2021-05-10  21.190001  22.000000  20.870001  21.240000  21.240000   \n",
       "519  2021-05-17  21.700001  22.389999  20.639999  21.299999  21.299999   \n",
       "520  2021-05-24  21.270000  22.270000  21.110001  21.730000  21.730000   \n",
       "521  2021-05-31  21.860001  23.680000  21.690001  23.600000  23.600000   \n",
       "522  2021-06-07  23.680000  24.270000  23.379999  23.420000  23.420000   \n",
       "523  2021-06-10  23.540001  23.719999  23.465000  23.559999  23.559999   \n",
       "\n",
       "       Volume  \n",
       "0     1994300  \n",
       "1    12451000  \n",
       "2    14072600  \n",
       "3    11078800  \n",
       "4    10278800  \n",
       "5     9283400  \n",
       "6     9372000  \n",
       "7     7890900  \n",
       "8    14884900  \n",
       "9    14818500  \n",
       "10   13953400  \n",
       "11   11321400  \n",
       "12   10988200  \n",
       "13   11195100  \n",
       "14   13630300  \n",
       "15   11693800  \n",
       "16    7804000  \n",
       "17   10198400  \n",
       "18   12011200  \n",
       "19    8055600  \n",
       "20   12455900  \n",
       "21   11212900  \n",
       "22    9135800  \n",
       "23   11530600  \n",
       "24    9012300  \n",
       "25   11435000  \n",
       "26    7654400  \n",
       "27    8872000  \n",
       "28    7962600  \n",
       "29    4086400  \n",
       "..        ...  \n",
       "494   6980000  \n",
       "495   9216500  \n",
       "496  10281300  \n",
       "497   7074700  \n",
       "498   6455200  \n",
       "499   4709000  \n",
       "500   8258200  \n",
       "501  19997200  \n",
       "502  13779100  \n",
       "503  13654400  \n",
       "504  15111900  \n",
       "505   8048100  \n",
       "506   7877300  \n",
       "507  10026400  \n",
       "508  10974200  \n",
       "509   5962500  \n",
       "510   5653500  \n",
       "511   8075100  \n",
       "512   4499400  \n",
       "513   5213100  \n",
       "514   8825100  \n",
       "515   5419200  \n",
       "516   5003200  \n",
       "517   5087100  \n",
       "518   9361000  \n",
       "519   7540900  \n",
       "520   5413900  \n",
       "521   5987500  \n",
       "522   5581200  \n",
       "523    703164  \n",
       "\n",
       "[524 rows x 7 columns]"
      ]
     },
     "execution_count": 1,
     "metadata": {},
     "output_type": "execute_result"
    }
   ],
   "source": [
    "import numpy as np\n",
    "import pandas as pd\n",
    "import matplotlib.pyplot as plt\n",
    "import seaborn as sns\n",
    "%matplotlib inline\n",
    "df = pd.read_csv('TTM.csv') # Tata Motors Limited \n",
    "df"
   ]
  },
  {
   "cell_type": "code",
   "execution_count": 2,
   "metadata": {},
   "outputs": [
    {
     "data": {
      "text/plain": [
       "(524, 7)"
      ]
     },
     "execution_count": 2,
     "metadata": {},
     "output_type": "execute_result"
    }
   ],
   "source": [
    "df.shape"
   ]
  },
  {
   "cell_type": "code",
   "execution_count": 6,
   "metadata": {},
   "outputs": [
    {
     "data": {
      "text/plain": [
       "<matplotlib.axes._subplots.AxesSubplot at 0x16433d085f8>"
      ]
     },
     "execution_count": 6,
     "metadata": {},
     "output_type": "execute_result"
    },
    {
     "data": {
      "image/png": "[encoded data removed]",
      "text/plain": [
       "<Figure size 720x360 with 1 Axes>"
      ]
     },
     "metadata": {
      "needs_background": "light"
     },
     "output_type": "display_data"
    }
   ],
   "source": [
    "df[\"Adj Close\"].plot.hist(bins=20,figsize=(10,5))"
   ]
  },
  {
   "cell_type": "code",
   "execution_count": 7,
   "metadata": {},
   "outputs": [
    {
     "data": {
      "text/plain": [
       "Date         0\n",
       "Open         0\n",
       "High         0\n",
       "Low          0\n",
       "Close        0\n",
       "Adj Close    0\n",
       "Volume       0\n",
       "dtype: int64"
      ]
     },
     "execution_count": 7,
     "metadata": {},
     "output_type": "execute_result"
    }
   ],
   "source": [
    "df.isnull().sum()"
   ]
  },
  {
   "cell_type": "code",
   "execution_count": 2,
   "metadata": {},
   "outputs": [],
   "source": [
    "x = df.drop([\"Date\",\"Adj Close\"],axis=1)\n",
    "y = df[\"Adj Close\"]"
   ]
  },
  {
   "cell_type": "code",
   "execution_count": 3,
   "metadata": {},
   "outputs": [],
   "source": [
    "from sklearn.model_selection import train_test_split\n",
    "X_train, X_test, y_train, y_test = train_test_split(x,y,test_size = 0.2, random_state = 48 )"
   ]
  },
  {
   "cell_type": "code",
   "execution_count": 4,
   "metadata": {},
   "outputs": [],
   "source": [
    "from sklearn.preprocessing import StandardScaler\n",
    "ssr = StandardScaler()\n",
    "ssr.fit(X_train)\n",
    "X_train = ssr.transform(X_train)\n",
    "X_test = ssr.transform(X_test)"
   ]
  },
  {
   "cell_type": "markdown",
   "metadata": {},
   "source": [
    "## 1.1 Linear Regression Model"
   ]
  },
  {
   "cell_type": "code",
   "execution_count": 6,
   "metadata": {},
   "outputs": [
    {
     "data": {
      "text/plain": [
       "LinearRegression()"
      ]
     },
     "execution_count": 6,
     "metadata": {},
     "output_type": "execute_result"
    }
   ],
   "source": [
    "from sklearn.linear_model import LinearRegression\n",
    "LR = LinearRegression()\n",
    "LR.fit(X_train,y_train)"
   ]
  },
  {
   "cell_type": "code",
   "execution_count": 13,
   "metadata": {},
   "outputs": [
    {
     "data": {
      "text/plain": [
       "array([ 0.25021076, -0.13021   , -0.31602789, 10.99779868, -0.04225001])"
      ]
     },
     "execution_count": 13,
     "metadata": {},
     "output_type": "execute_result"
    }
   ],
   "source": [
    "LR.coef_"
   ]
  },
  {
   "cell_type": "code",
   "execution_count": 14,
   "metadata": {},
   "outputs": [
    {
     "data": {
      "text/plain": [
       "25.172536773269695"
      ]
     },
     "execution_count": 14,
     "metadata": {},
     "output_type": "execute_result"
    }
   ],
   "source": [
    "LR.intercept_"
   ]
  },
  {
   "cell_type": "code",
   "execution_count": 7,
   "metadata": {},
   "outputs": [
    {
     "data": {
      "text/plain": [
       "array([34.71795667, 32.65196762, 32.6755924 , 12.83240862, 23.08856755,\n",
       "       41.31539524, 23.30653226, 32.09896267, 32.09000035, 26.50680034,\n",
       "       12.85002129, 40.34644573, 19.40311929, 29.76854844, 12.26591503,\n",
       "       11.41311503, 25.88528496,  5.20916396, 38.30131474, 12.37864721,\n",
       "       28.63933934, 41.01989624, 44.58078476, 18.99121467, 37.30462497,\n",
       "       15.34451932, 30.02716901, 34.61516777,  9.00017416, 42.00683159,\n",
       "       11.30749755, 28.70929683, 11.97472987, 41.15918068, 19.67988765,\n",
       "       18.21272535, 30.20270266, 30.65441375, 28.71544345, 35.43322471,\n",
       "        9.61207051, 11.69988804, 19.36645622, 45.47669702, 24.29026341,\n",
       "       43.14392698, 18.72205593,  9.40756112, 15.22074253, 37.21174079,\n",
       "       10.46241107, 49.14887276, 17.93096387, 17.61305388, 42.32257412,\n",
       "       29.14678708,  9.47796975, 37.09675882, 35.89357055, 43.88791631,\n",
       "       30.44136812, 18.45192612, 42.36670554, 34.69036485, 12.80548895,\n",
       "       26.87201654, 34.70772238, 21.22506293, 21.08376338,  6.35957196,\n",
       "       12.2316246 , 32.63027347, 30.92694578, 19.61621398, 29.56015574,\n",
       "       12.28405522, 39.8800854 , 33.8710668 , 18.24442386, 28.1394313 ,\n",
       "       27.85671495, 37.90242431, 31.26016318, 12.28766222,  7.57682909,\n",
       "       34.58245407, 34.14256735, 15.58232989, 24.68865941, 24.30063016,\n",
       "       29.7422468 , 15.75305292, 21.83060344, 29.83945549, 17.76582346,\n",
       "       33.27379677,  5.53137687, 12.27625598, 29.21265419, 12.37672523,\n",
       "       32.34330411, 25.52211213, 46.43125669, 37.22787066, 46.49119512])"
      ]
     },
     "execution_count": 7,
     "metadata": {},
     "output_type": "execute_result"
    }
   ],
   "source": [
    "LR_prdictions = LR.predict(X_test)\n",
    "LR_prdictions"
   ]
  },
  {
   "cell_type": "code",
   "execution_count": 17,
   "metadata": {},
   "outputs": [
    {
     "data": {
      "text/plain": [
       "321    34.820000\n",
       "332    32.750000\n",
       "333    32.759998\n",
       "415    12.950000\n",
       "245    23.170321\n",
       "184    41.372715\n",
       "522    23.420000\n",
       "140    32.118702\n",
       "335    32.320000\n",
       "41     25.886940\n",
       "450    12.940000\n",
       "280    40.450001\n",
       "368    19.549999\n",
       "217    29.947489\n",
       "444    12.360000\n",
       "392    11.530000\n",
       "97     25.707605\n",
       "466     5.480000\n",
       "152    38.259773\n",
       "495    12.510000\n",
       "40     27.966446\n",
       "206    41.152805\n",
       "172    44.661343\n",
       "8      18.628103\n",
       "151    37.244556\n",
       "11     15.061846\n",
       "131    30.008642\n",
       "305    34.720001\n",
       "455     9.160000\n",
       "274    42.169998\n",
       "         ...    \n",
       "414    12.400000\n",
       "277    39.980000\n",
       "287    33.980000\n",
       "376    18.350000\n",
       "91     27.951216\n",
       "39     27.198778\n",
       "292    38.040001\n",
       "340    31.360001\n",
       "402    12.390000\n",
       "428     7.720000\n",
       "264    34.725494\n",
       "209    34.315666\n",
       "411    15.670000\n",
       "240    24.829628\n",
       "117    24.305510\n",
       "45     29.113091\n",
       "409    15.940000\n",
       "507    21.990000\n",
       "230    29.987473\n",
       "374    17.870001\n",
       "297    33.459999\n",
       "468     5.710000\n",
       "494    12.380000\n",
       "322    29.400000\n",
       "388    12.560000\n",
       "129    32.317768\n",
       "34     24.973513\n",
       "178    46.520565\n",
       "148    37.224655\n",
       "191    46.650509\n",
       "Name: Adj Close, Length: 105, dtype: float64"
      ]
     },
     "execution_count": 17,
     "metadata": {},
     "output_type": "execute_result"
    }
   ],
   "source": [
    "y_test"
   ]
  },
  {
   "cell_type": "code",
   "execution_count": 16,
   "metadata": {},
   "outputs": [
    {
     "data": {
      "text/plain": [
       "0.9996660784590549"
      ]
     },
     "execution_count": 16,
     "metadata": {},
     "output_type": "execute_result"
    }
   ],
   "source": [
    "LR.score(X_test,y_test)"
   ]
  },
  {
   "cell_type": "code",
   "execution_count": 8,
   "metadata": {},
   "outputs": [
    {
     "name": "stdout",
     "output_type": "stream",
     "text": [
      "R2 score =  0.9996660784590549\n"
     ]
    }
   ],
   "source": [
    "from sklearn.metrics import r2_score\n",
    "print(\"R2 score = \",r2_score(y_test,LR_prdictions))"
   ]
  },
  {
   "cell_type": "code",
   "execution_count": 9,
   "metadata": {},
   "outputs": [
    {
     "name": "stdout",
     "output_type": "stream",
     "text": [
      "MAE =  0.15798283472511754\n"
     ]
    }
   ],
   "source": [
    "from sklearn.metrics import mean_absolute_error\n",
    "print(\"MAE = \",mean_absolute_error(y_test,LR_prdictions))"
   ]
  },
  {
   "cell_type": "code",
   "execution_count": null,
   "metadata": {},
   "outputs": [],
   "source": []
  },
  {
   "cell_type": "code",
   "execution_count": 26,
   "metadata": {},
   "outputs": [
    {
     "name": "stdout",
     "output_type": "stream",
     "text": [
      "Mean of predictions =  26.057174246949124\n"
     ]
    }
   ],
   "source": [
    "print(\"Mean of predictions = \",np.mean(LR_prdictions))"
   ]
  },
  {
   "cell_type": "code",
   "execution_count": 10,
   "metadata": {},
   "outputs": [
    {
     "name": "stdout",
     "output_type": "stream",
     "text": [
      "MSE =  0.04250297298100377\n"
     ]
    }
   ],
   "source": [
    "from sklearn.metrics import mean_squared_error\n",
    "print(\"MSE = \",mean_squared_error(y_test,LR_prdictions))"
   ]
  },
  {
   "cell_type": "code",
   "execution_count": 28,
   "metadata": {},
   "outputs": [
    {
     "name": "stdout",
     "output_type": "stream",
     "text": [
      "RMSE =  0.20616249169284837\n"
     ]
    }
   ],
   "source": [
    "print(\"RMSE = \",np.sqrt(mean_squared_error(y_test,LR_prdictions)))"
   ]
  },
  {
   "cell_type": "markdown",
   "metadata": {},
   "source": [
    "## 1.2 Ridge and Lasso Model"
   ]
  },
  {
   "cell_type": "code",
   "execution_count": 30,
   "metadata": {},
   "outputs": [
    {
     "data": {
      "text/plain": [
       "array([34.61579806, 32.70396461, 32.5385225 , 12.79503904, 22.93356438,\n",
       "       41.18767006, 23.48885145, 31.8043075 , 32.52771124, 26.78637797,\n",
       "       12.9081485 , 40.53513979, 19.49630468, 29.65811021, 12.13286185,\n",
       "       11.29347933, 25.52250252,  5.2523817 , 38.28897757, 12.30657496,\n",
       "       28.50909976, 41.16865622, 44.72596702, 19.2339009 , 37.23304405,\n",
       "       15.3316059 , 30.09028184, 34.9438595 ,  9.09193152, 42.49900345,\n",
       "       11.31366215, 28.87012393, 11.98663549, 41.43735157, 19.58519799,\n",
       "       17.97135544, 30.08372881, 30.63311763, 28.75343232, 35.70552146,\n",
       "        9.41260296, 11.62658659, 19.18745191, 45.6201265 , 24.46547232,\n",
       "       43.51998812, 18.59670458,  9.26190915, 15.39356371, 37.37347423,\n",
       "       10.58078817, 49.49010781, 17.92493724, 17.77751899, 42.26441999,\n",
       "       29.33711181,  9.41049802, 37.61337528, 35.97399069, 44.27135323,\n",
       "       30.28597934, 18.38615403, 42.43260522, 34.46553985, 12.796524  ,\n",
       "       26.89196872, 34.4457052 , 21.11421588, 21.18296253,  6.27685637,\n",
       "       12.18467865, 33.06733854, 30.82458361, 19.55957002, 29.47584413,\n",
       "       12.39594611, 39.84629899, 33.76497563, 18.32731475, 27.94028532,\n",
       "       27.49896387, 37.79845416, 31.33609275, 12.14574789,  7.62903096,\n",
       "       34.14424282, 34.34995897, 15.71158066, 25.05132082, 23.99886445,\n",
       "       29.64421258, 15.51536062, 21.81649285, 29.85964568, 17.88319905,\n",
       "       33.67402651,  5.55070062, 12.16167648, 29.89388081, 12.26993119,\n",
       "       32.18469074, 25.1445773 , 46.49321277, 37.33620898, 47.41339143])"
      ]
     },
     "execution_count": 30,
     "metadata": {},
     "output_type": "execute_result"
    }
   ],
   "source": [
    "from sklearn.linear_model import Ridge\n",
    "rg = Ridge();\n",
    "rg.fit(X_train, y_train)\n",
    "rg_pred = rg.predict(X_test)\n",
    "rg_pred"
   ]
  },
  {
   "cell_type": "code",
   "execution_count": 31,
   "metadata": {},
   "outputs": [
    {
     "name": "stdout",
     "output_type": "stream",
     "text": [
      "R2 score =  0.9994563827969387\n"
     ]
    }
   ],
   "source": [
    "print(\"R2 score = \",r2_score(y_test,rg_pred))"
   ]
  },
  {
   "cell_type": "code",
   "execution_count": 32,
   "metadata": {},
   "outputs": [
    {
     "name": "stdout",
     "output_type": "stream",
     "text": [
      "MAE =  0.20637317805916044\n",
      "MSE =  0.06919394067338708\n",
      "RMSE =  0.2630474114554011\n"
     ]
    }
   ],
   "source": [
    "print(\"MAE = \",mean_absolute_error(y_test,rg_pred))\n",
    "print(\"MSE = \",mean_squared_error(y_test,rg_pred))\n",
    "print(\"RMSE = \",np.sqrt(mean_squared_error(y_test,rg_pred)))"
   ]
  },
  {
   "cell_type": "code",
   "execution_count": 33,
   "metadata": {},
   "outputs": [
    {
     "data": {
      "text/plain": [
       "array([34.59956093, 32.75906704, 32.51333225, 12.82718748, 22.86373067,\n",
       "       41.25911131, 23.52993698, 31.65489634, 32.73612531, 26.91403206,\n",
       "       12.95092136, 40.57913501, 19.60428785, 29.65179539, 12.06098428,\n",
       "       11.24296715, 25.41957337,  5.26996053, 38.21688395, 12.29701527,\n",
       "       28.44995223, 41.25146787, 44.91694793, 19.4097992 , 37.221025  ,\n",
       "       15.36455725, 30.21857001, 35.07732503,  9.17939961, 42.64655166,\n",
       "       11.32139369, 28.85118025, 12.01907819, 41.49841131, 19.51708391,\n",
       "       17.87686487, 30.06329288, 30.68165717, 28.7500279 , 35.83813852,\n",
       "        9.29912224, 11.58732745, 19.04097005, 45.65303109, 24.52877382,\n",
       "       43.68333576, 18.62791657,  9.22136343, 15.48906782, 37.42173002,\n",
       "       10.64855865, 49.59866065, 17.96406326, 17.85982741, 42.29903983,\n",
       "       29.37946369,  9.36869634, 37.8639254 , 35.90855322, 44.47582958,\n",
       "       30.2396108 , 18.3844212 , 42.4581009 , 34.40648696, 12.79151514,\n",
       "       26.84465033, 34.27609131, 21.10250941, 21.19341012,  6.26520805,\n",
       "       12.15838496, 33.29176576, 30.75856561, 19.58081672, 29.42107897,\n",
       "       12.4425573 , 39.86885725, 33.65124448, 18.38457247, 27.82148901,\n",
       "       27.43569066, 37.68152206, 31.36429679, 12.08167523,  7.68352404,\n",
       "       33.99833756, 34.39629743, 15.80677364, 25.19535256, 23.83611294,\n",
       "       29.56418386, 15.39953361, 21.7441295 , 29.82898895, 17.93940578,\n",
       "       33.95619892,  5.55611457, 12.10649053, 30.23996717, 12.27219994,\n",
       "       32.05694331, 24.94812035, 46.5033338 , 37.24058125, 47.67999259])"
      ]
     },
     "execution_count": 33,
     "metadata": {},
     "output_type": "execute_result"
    }
   ],
   "source": [
    "rg2 = Ridge(alpha=2)\n",
    "rg2.fit(X_train, y_train)\n",
    "rg2_pred = rg2.predict(X_test)\n",
    "rg2_pred"
   ]
  },
  {
   "cell_type": "code",
   "execution_count": 34,
   "metadata": {},
   "outputs": [
    {
     "name": "stdout",
     "output_type": "stream",
     "text": [
      "R2 score =  0.9991233373854994\n",
      "MAE =  0.25821253702783603\n",
      "MSE =  0.11158539611464081\n",
      "RMSE =  0.33404400326100875\n"
     ]
    }
   ],
   "source": [
    "print(\"R2 score = \",r2_score(y_test,rg2_pred))\n",
    "print(\"MAE = \",mean_absolute_error(y_test,rg2_pred))\n",
    "print(\"MSE = \",mean_squared_error(y_test,rg2_pred))\n",
    "print(\"RMSE = \",np.sqrt(mean_squared_error(y_test,rg2_pred)))"
   ]
  },
  {
   "cell_type": "code",
   "execution_count": 35,
   "metadata": {},
   "outputs": [
    {
     "data": {
      "text/plain": [
       "array([33.81909367, 31.93926227, 31.94834176, 13.95826622, 23.24844751,\n",
       "       39.78551418, 23.46639898, 31.50335933, 31.54876589, 26.39058025,\n",
       "       13.94918491, 38.93187275, 19.95193066, 29.40557555, 13.42246886,\n",
       "       12.66872004, 25.81845856,  7.1745268 , 37.10652739, 13.55868853,\n",
       "       28.33398265, 39.58572442, 42.77326645, 19.60684174, 36.18023275,\n",
       "       16.27400056, 29.57812137, 33.72828147, 10.5164493 , 40.49385554,\n",
       "       12.57790693, 28.3793883 , 13.2045174 , 39.7128655 , 20.19712697,\n",
       "       18.88033776, 29.75974759, 30.14116266, 28.36122477, 34.46386585,\n",
       "       11.07040928, 12.91391544, 19.97009419, 43.59966576, 24.36544878,\n",
       "       41.52912773, 19.31623979, 10.86153912, 16.1468622 , 36.08942145,\n",
       "       11.79691417, 46.98699482, 18.58065449, 18.37178252, 40.72088832,\n",
       "       28.82437255, 10.9251083 , 36.01677278, 34.90885101, 42.15573729,\n",
       "       29.93229341, 19.04379955, 40.79354062, 33.81001327, 13.90377835,\n",
       "       26.71750836, 33.87358245, 21.59564979, 21.48667315,  8.18255234,\n",
       "       13.43155017, 31.92109964, 30.37727766, 20.08815214, 29.16946328,\n",
       "       13.45879411, 38.50505022, 33.05626353, 18.86217423, 27.8799171 ,\n",
       "       27.61655817, 36.74327676, 30.67696093, 13.4497128 ,  9.2087405 ,\n",
       "       33.746445  , 33.37411124, 16.42838285, 24.75594516, 24.37453009,\n",
       "       29.40557555, 16.67357825, 22.16777148, 29.4419017 , 18.42627221,\n",
       "       32.58403445,  7.38339696, 13.44063148, 28.89702304, 13.60409508,\n",
       "       31.68498646, 25.53693882, 44.46239123, 36.16207376, 44.58044555])"
      ]
     },
     "execution_count": 35,
     "metadata": {},
     "output_type": "execute_result"
    }
   ],
   "source": [
    "from sklearn.linear_model import Lasso\n",
    "ls = Lasso();\n",
    "ls.fit(X_train, y_train)\n",
    "ls_pred = ls.predict(X_test)\n",
    "ls_pred"
   ]
  },
  {
   "cell_type": "code",
   "execution_count": 36,
   "metadata": {},
   "outputs": [
    {
     "name": "stdout",
     "output_type": "stream",
     "text": [
      "R2 score =  0.9912170687981231\n",
      "MAE =  0.9247487975167138\n",
      "MSE =  1.117929339062113\n",
      "RMSE =  1.0573217765004714\n"
     ]
    }
   ],
   "source": [
    "print(\"R2 score = \",r2_score(y_test,ls_pred))\n",
    "print(\"MAE = \",mean_absolute_error(y_test,ls_pred))\n",
    "print(\"MSE = \",mean_squared_error(y_test,ls_pred))\n",
    "print(\"RMSE = \",np.sqrt(mean_squared_error(y_test,ls_pred)))"
   ]
  },
  {
   "cell_type": "code",
   "execution_count": 37,
   "metadata": {},
   "outputs": [
    {
     "data": {
      "text/plain": [
       "array([34.26127671, 32.287957  , 32.29442932, 13.38693231, 23.1475367 ,\n",
       "       40.52752098, 23.38415517, 31.81887526, 31.87846595, 26.45700787,\n",
       "       13.38021722, 39.63922293, 19.68638969, 29.62055868, 12.8200168 ,\n",
       "       12.02858712, 25.84402263,  6.25756138, 37.71450232, 12.96651075,\n",
       "       28.49407643, 40.32589064, 43.66671199, 19.32360313, 36.74303289,\n",
       "       15.82108356, 29.80041775, 34.1699181 ,  9.76986729, 41.28212231,\n",
       "       11.93758888, 28.54385025, 12.5962855 , 40.45880722, 19.94164889,\n",
       "       18.55340366, 29.99457875, 30.39356081, 28.52572193, 34.94279695,\n",
       "       10.34527492, 12.28781992, 19.6970507 , 44.54323727, 24.32783038,\n",
       "       42.37000592, 19.0161613 , 10.12928246, 15.69033777, 36.6519161 ,\n",
       "       11.11818526, 48.10357155, 18.24550964, 18.0289733 , 41.51383335,\n",
       "       29.0158532 , 10.19718461, 36.57543393, 35.40474403, 43.02478728,\n",
       "       30.17365498, 18.7324464 , 41.58863316, 34.24872119, 13.33080377,\n",
       "       26.79606846, 34.30891512, 21.41122837, 21.30125872,  7.31686601,\n",
       "       12.8335368 , 32.27013071, 30.64047897, 19.83005517, 29.3731616 ,\n",
       "       12.86361846, 39.1867917 , 33.45355689, 18.54298354, 28.01337112,\n",
       "       27.73468514, 37.32967498, 30.96204301, 12.8496167 ,  8.39598419,\n",
       "       34.17347309, 33.79626122, 15.98462093, 24.73768274, 24.32557264,\n",
       "       29.61821007, 16.23476044, 22.01054359, 29.65898233, 18.08540484,\n",
       "       32.96116682,  6.4784317 , 12.83983036, 29.09143397, 13.01478001,\n",
       "       32.01177259, 25.54510345, 45.44740674, 36.71852593, 45.57661354])"
      ]
     },
     "execution_count": 37,
     "metadata": {},
     "output_type": "execute_result"
    }
   ],
   "source": [
    "ls2 = Lasso(alpha=0.5);\n",
    "ls2.fit(X_train, y_train)\n",
    "ls2_pred = ls2.predict(X_test)\n",
    "ls2_pred"
   ]
  },
  {
   "cell_type": "code",
   "execution_count": 38,
   "metadata": {},
   "outputs": [
    {
     "name": "stdout",
     "output_type": "stream",
     "text": [
      "R2 score =  0.9976068489723156\n",
      "MAE =  0.4855244597517187\n",
      "MSE =  0.3046105776262281\n",
      "RMSE =  0.551915371797369\n"
     ]
    }
   ],
   "source": [
    "print(\"R2 score = \",r2_score(y_test,ls2_pred))\n",
    "print(\"MAE = \",mean_absolute_error(y_test,ls2_pred))\n",
    "print(\"MSE = \",mean_squared_error(y_test,ls2_pred))\n",
    "print(\"RMSE = \",np.sqrt(mean_squared_error(y_test,ls2_pred)))"
   ]
  },
  {
   "cell_type": "markdown",
   "metadata": {},
   "source": [
    "## 1.3 Elastic Net Regression Model"
   ]
  },
  {
   "cell_type": "code",
   "execution_count": 48,
   "metadata": {},
   "outputs": [
    {
     "data": {
      "text/plain": [
       "array([33.19809314, 31.8422    , 31.43220232, 14.79552151, 23.07685214,\n",
       "       39.13192714, 23.92678986, 30.1614667 , 31.97968865, 26.99811785,\n",
       "       14.98939813, 38.44489145, 20.7022809 , 28.84426459, 13.88244384,\n",
       "       13.20817724, 25.08611293,  8.04253449, 36.02789072, 14.20245367,\n",
       "       27.76918509, 39.03944473, 42.50129998, 20.65501153, 35.41110698,\n",
       "       16.88296638, 29.80867317, 34.00503646, 11.76317245, 40.36234949,\n",
       "       13.44222024, 28.24611005, 14.06249481, 39.17118878, 20.14793284,\n",
       "       18.63681026, 29.24713851, 30.00645318, 28.26890779, 34.66790397,\n",
       "       11.29023123, 13.56819379, 19.3784661 , 42.7006503 , 24.82013665,\n",
       "       41.29168613, 19.69922619, 11.49203743, 17.19474996, 35.76821017,\n",
       "       13.06529136, 46.14258714, 19.19577085, 19.06689973, 39.88150273,\n",
       "       28.79164569, 11.61364711, 36.61611009, 34.09971442, 42.15933705,\n",
       "       29.40493379, 19.46460751, 39.90441451, 32.87469303, 14.72602851,\n",
       "       26.45374663, 32.32067892, 21.66348246, 21.77051283,  8.89159004,\n",
       "       14.02589607, 32.74126931, 29.77281925, 20.57165132, 28.60975989,\n",
       "       14.50838477, 37.78591375, 32.07157942, 19.61166567, 27.05389428,\n",
       "       26.89937303, 35.43975327, 30.58011319, 13.9128835 , 10.43667408,\n",
       "       32.18423681, 33.0301376 , 17.55469934, 25.53520549, 23.5717188 ,\n",
       "       28.49900355, 16.41987307, 21.97260792, 28.97355164, 19.2330932 ,\n",
       "       33.27864891,  8.43272124, 13.95257712, 30.30363543, 14.12424524,\n",
       "       30.6457925 , 24.30741914, 43.36036035, 35.04015316, 44.90433609])"
      ]
     },
     "execution_count": 48,
     "metadata": {},
     "output_type": "execute_result"
    }
   ],
   "source": [
    "from sklearn.linear_model import ElasticNet\n",
    "EN = ElasticNet(alpha =1)\n",
    "EN.fit(X_train, y_train)\n",
    "EN_pred = EN.predict(X_test)\n",
    "EN_pred"
   ]
  },
  {
   "cell_type": "code",
   "execution_count": 49,
   "metadata": {},
   "outputs": [
    {
     "name": "stdout",
     "output_type": "stream",
     "text": [
      "R2 score =  0.9790926568841837\n",
      "MAE =  1.4349401452773962\n",
      "MSE =  2.6611767454144135\n",
      "RMSE =  1.6313113575937652\n"
     ]
    }
   ],
   "source": [
    "print(\"R2 score = \",r2_score(y_test,EN_pred))\n",
    "print(\"MAE = \",mean_absolute_error(y_test,EN_pred))\n",
    "print(\"MSE = \",mean_squared_error(y_test,EN_pred))\n",
    "print(\"RMSE = \",np.sqrt(mean_squared_error(y_test,EN_pred)))"
   ]
  },
  {
   "cell_type": "code",
   "execution_count": 50,
   "metadata": {},
   "outputs": [
    {
     "data": {
      "text/plain": [
       "array([34.00248921, 32.49874643, 32.04233834, 13.72502421, 22.83769235,\n",
       "       40.55148908, 23.76949533, 30.72942702, 32.7633756 , 27.18297589,\n",
       "       13.90300784, 39.77067527, 20.2688522 , 29.28575468, 12.69916227,\n",
       "       11.97517793, 25.10243245,  6.40122792, 37.14784395, 13.07983108,\n",
       "       28.05041229, 40.47581004, 44.29507482, 20.24664909, 36.45311641,\n",
       "       16.0577017 , 30.30591386, 34.88191728, 10.41741914, 41.93225061,\n",
       "       12.22643372, 28.54374084, 12.9330335 , 40.61398937, 19.64300786,\n",
       "       18.00812607, 29.68503168, 30.50618022, 28.55213924, 35.60957204,\n",
       "        9.90073082, 12.3523608 , 18.86014176, 44.47917663, 24.76759459,\n",
       "       42.96866737, 19.15290046, 10.09846335, 16.37831994, 36.82425178,\n",
       "       11.79653736, 48.32507143, 18.56879922, 18.49040128, 41.37876299,\n",
       "       29.18463361, 10.2246185 , 37.80120685, 35.00687017, 43.89663694,\n",
       "       29.82237344, 18.85244595, 41.4318498 , 33.67028363, 13.6095122 ,\n",
       "       26.57984773, 33.1105377 , 21.32006736, 21.43463937,  7.30561507,\n",
       "       12.88535658, 33.4928332 , 30.22890605, 20.06408649, 28.97197811,\n",
       "       13.39625614, 39.06102555, 32.77029094, 19.0176413 , 27.26698213,\n",
       "       27.11258596, 36.50581105, 31.10075167, 12.73844322,  8.93569974,\n",
       "       32.96568322, 33.87546547, 16.73817414, 25.58726808, 23.41833343,\n",
       "       28.9232928 , 15.58312739, 21.67417255, 29.3906833 , 18.59524734,\n",
       "       34.18781796,  6.74769187, 12.78406544, 30.88599837, 13.04000494,\n",
       "       31.21545108, 24.28563485, 45.21163994, 36.08779802, 46.95188482])"
      ]
     },
     "execution_count": 50,
     "metadata": {},
     "output_type": "execute_result"
    }
   ],
   "source": [
    "EN2 = ElasticNet(alpha =0.4)\n",
    "EN2.fit(X_train, y_train)\n",
    "EN2_pred = EN2.predict(X_test)\n",
    "EN2_pred"
   ]
  },
  {
   "cell_type": "code",
   "execution_count": 51,
   "metadata": {},
   "outputs": [
    {
     "name": "stdout",
     "output_type": "stream",
     "text": [
      "R2 score =  0.9951422566225776\n",
      "MAE =  0.6810985217240304\n",
      "MSE =  0.6183145146457184\n",
      "RMSE =  0.7863297747419453\n"
     ]
    }
   ],
   "source": [
    "print(\"R2 score = \",r2_score(y_test,EN2_pred))\n",
    "print(\"MAE = \",mean_absolute_error(y_test,EN2_pred))\n",
    "print(\"MSE = \",mean_squared_error(y_test,EN2_pred))\n",
    "print(\"RMSE = \",np.sqrt(mean_squared_error(y_test,EN2_pred)))"
   ]
  },
  {
   "cell_type": "markdown",
   "metadata": {},
   "source": [
    "## 1.4 Polynomial Regression Model"
   ]
  },
  {
   "cell_type": "code",
   "execution_count": 39,
   "metadata": {},
   "outputs": [],
   "source": [
    "from sklearn.preprocessing import PolynomialFeatures"
   ]
  },
  {
   "cell_type": "code",
   "execution_count": 40,
   "metadata": {},
   "outputs": [],
   "source": [
    "poly = PolynomialFeatures(degree = 2)\n",
    "poly.fit(X_train)\n",
    "X_train_poly = poly.transform(X_train)\n",
    "X_test_poly = poly.transform(X_test)"
   ]
  },
  {
   "cell_type": "code",
   "execution_count": 41,
   "metadata": {},
   "outputs": [
    {
     "name": "stdout",
     "output_type": "stream",
     "text": [
      "(419, 21)\n",
      "(105, 21)\n"
     ]
    }
   ],
   "source": [
    "print(X_train_poly.shape) # no.of columns have increased now\n",
    "print(X_test_poly.shape)"
   ]
  },
  {
   "cell_type": "code",
   "execution_count": 42,
   "metadata": {},
   "outputs": [
    {
     "data": {
      "text/plain": [
       "LinearRegression()"
      ]
     },
     "execution_count": 42,
     "metadata": {},
     "output_type": "execute_result"
    }
   ],
   "source": [
    "PR = LinearRegression()\n",
    "PR.fit(X_train_poly, y_train)"
   ]
  },
  {
   "cell_type": "code",
   "execution_count": 43,
   "metadata": {},
   "outputs": [
    {
     "data": {
      "text/plain": [
       "array([ 0.00000000e+00,  5.03660229e-01, -2.98603148e-01, -2.93620214e-01,\n",
       "        1.08784581e+01, -5.27758381e-02,  6.59689551e+00, -1.52654902e+01,\n",
       "       -6.29325845e+00,  8.43221277e+00,  2.25204342e-01,  2.15489263e+00,\n",
       "        1.59953980e+01, -4.77763771e+00,  5.19999747e-01,  7.58772524e-01,\n",
       "       -1.11169424e+01, -5.27498132e-01,  3.58689249e+00, -2.23685649e-01,\n",
       "       -7.80952312e-03])"
      ]
     },
     "execution_count": 43,
     "metadata": {},
     "output_type": "execute_result"
    }
   ],
   "source": [
    "PR.coef_"
   ]
  },
  {
   "cell_type": "code",
   "execution_count": 44,
   "metadata": {},
   "outputs": [
    {
     "data": {
      "text/plain": [
       "25.0850741757401"
      ]
     },
     "execution_count": 44,
     "metadata": {},
     "output_type": "execute_result"
    }
   ],
   "source": [
    "PR.intercept_"
   ]
  },
  {
   "cell_type": "code",
   "execution_count": 46,
   "metadata": {},
   "outputs": [
    {
     "data": {
      "text/plain": [
       "array([34.69411231, 32.65352664, 32.6486017 , 12.87728966, 23.01830504,\n",
       "       41.44952617, 23.25390695, 31.9778218 , 32.2095246 , 26.44586514,\n",
       "       12.89168508, 40.47645702, 19.39146226, 29.65874602, 12.31999847,\n",
       "       11.47136273, 25.81153982,  5.32477662, 38.30692716, 12.40822689,\n",
       "       28.51791296, 41.1427958 , 44.57315643, 18.99329462, 37.30123091,\n",
       "       15.33699258, 29.96703916, 34.62039411,  9.11413589, 42.22347004,\n",
       "       11.35282842, 28.67130809, 12.00655732, 41.2935917 , 19.60585083,\n",
       "       18.16870956, 30.08222808, 30.60894552, 28.65986851, 35.46291531,\n",
       "        9.72808057, 11.7561538 , 19.34564714, 45.69668753, 24.22100169,\n",
       "       43.39647147, 18.73324132,  9.50750101, 15.21498825, 37.27317637,\n",
       "       10.52481346, 49.52031713, 17.90644411, 17.56820541, 42.45954277,\n",
       "       29.05770191,  9.56552515, 37.13718486, 35.9238765 , 43.9914138 ,\n",
       "       30.37294884, 18.42309838, 42.44346186, 34.62584609, 12.85107125,\n",
       "       26.79622557, 34.63696308, 21.16112169, 20.99798966,  6.40184077,\n",
       "       12.2455929 , 32.51282531, 30.8546597 , 19.59520808, 29.44375446,\n",
       "       12.30422451, 39.96326369, 33.83385581, 18.20820915, 28.03129875,\n",
       "       27.81945423, 37.89710683, 31.2345182 , 12.33994309,  7.70506996,\n",
       "       34.5102123 , 34.11489284, 15.54063845, 24.58016199, 24.23259107,\n",
       "       29.59342902, 15.70654848, 21.76990609, 29.74945711, 17.72973441,\n",
       "       33.27478811,  5.65199636, 12.32225193, 29.09723526, 12.36858715,\n",
       "       32.28115966, 25.43194081, 46.64212337, 37.32042927, 46.70466303])"
      ]
     },
     "execution_count": 46,
     "metadata": {},
     "output_type": "execute_result"
    }
   ],
   "source": [
    "PR_pred = PR.predict(X_test_poly)\n",
    "PR_pred"
   ]
  },
  {
   "cell_type": "code",
   "execution_count": 55,
   "metadata": {},
   "outputs": [
    {
     "name": "stdout",
     "output_type": "stream",
     "text": [
      "R2 score =  0.9997061599615026\n",
      "MAE =  0.1494174318653379\n",
      "MSE =  0.03740122659246183\n",
      "RMSE =  0.19339396731144906\n"
     ]
    }
   ],
   "source": [
    "print(\"R2 score = \",r2_score(y_test,PR_pred))\n",
    "print(\"MAE = \",mean_absolute_error(y_test,PR_pred))\n",
    "print(\"MSE = \",mean_squared_error(y_test,PR_pred))\n",
    "print(\"RMSE = \",np.sqrt(mean_squared_error(y_test,PR_pred)))"
   ]
  },
  {
   "cell_type": "markdown",
   "metadata": {},
   "source": [
    "## 1.5 Supprot Vector Regression Model"
   ]
  },
  {
   "cell_type": "code",
   "execution_count": 54,
   "metadata": {},
   "outputs": [
    {
     "data": {
      "text/plain": [
       "array([34.71537388, 32.88296365, 32.39205752, 12.65430382, 22.73151601,\n",
       "       41.75242261, 23.52367392, 31.1822974 , 29.46465274, 26.86110234,\n",
       "       12.89096346, 39.86165772, 19.82283866, 29.02059776, 11.76313264,\n",
       "       10.86285363, 25.20927282, 15.03013318, 38.58744259, 12.00133929,\n",
       "       28.29053537, 41.01741822, 40.94180934, 19.78318791, 37.62400368,\n",
       "       15.46318115, 30.13564757, 35.42500278,  9.4955108 , 41.79394959,\n",
       "       11.05617003, 28.81268046, 11.84379155, 41.71984921, 19.5180229 ,\n",
       "       17.84968785, 29.93269047, 30.69659169, 28.71062007, 36.19017794,\n",
       "        9.09489611, 11.35627579, 18.80185214, 43.30853756, 24.51579532,\n",
       "       40.75601534, 18.81944129,  9.13773692, 15.70525288, 37.45741293,\n",
       "       10.64314819, 39.49754926, 18.0445519 , 18.04637747, 42.48796037,\n",
       "       29.23760948,  9.27807913, 37.45159698, 35.99225115, 43.01503028,\n",
       "       30.21981046, 18.28965265, 42.06459962, 34.56183814, 12.84257504,\n",
       "       26.74391886, 33.69626788, 21.1357006 , 21.22901371, 10.71474671,\n",
       "       11.80469005, 33.63224094, 30.70876363, 19.53928501, 29.30885688,\n",
       "       12.23572022, 40.22164278, 33.55760475, 18.43610753, 27.61201638,\n",
       "       27.18039601, 37.93789771, 31.34833249, 11.70131377,  8.28361882,\n",
       "       33.18894362, 33.94234053, 15.82620394, 25.13273065, 23.65657927,\n",
       "       28.59893542, 15.14489379, 21.68253209, 29.6572939 , 17.94227725,\n",
       "       29.82060014,  7.78203681, 11.71801831, 29.03016643, 12.18847229,\n",
       "       31.98812292, 24.50379993, 43.50108483, 37.08546398, 39.25963674])"
      ]
     },
     "execution_count": 54,
     "metadata": {},
     "output_type": "execute_result"
    }
   ],
   "source": [
    "from sklearn.svm import SVR\n",
    "sv_reg_model = SVR(kernel =\"rbf\");\n",
    "sv_reg_model.fit(X_train,y_train)\n",
    "sv_reg_pred = sv_reg_model.predict(X_test)\n",
    "sv_reg_pred"
   ]
  },
  {
   "cell_type": "code",
   "execution_count": 56,
   "metadata": {},
   "outputs": [
    {
     "name": "stdout",
     "output_type": "stream",
     "text": [
      "R2 score =  0.9745171629295549\n",
      "MAE =  0.8297140271082469\n",
      "MSE =  3.2435653369916557\n",
      "RMSE =  1.800990099082073\n"
     ]
    }
   ],
   "source": [
    "print(\"R2 score = \",r2_score(y_test,sv_reg_pred))\n",
    "print(\"MAE = \",mean_absolute_error(y_test,sv_reg_pred))\n",
    "print(\"MSE = \",mean_squared_error(y_test,sv_reg_pred))\n",
    "print(\"RMSE = \",np.sqrt(mean_squared_error(y_test,sv_reg_pred)))"
   ]
  },
  {
   "cell_type": "markdown",
   "metadata": {},
   "source": [
    "## 1.6 KNN Regression Model"
   ]
  },
  {
   "cell_type": "code",
   "execution_count": 12,
   "metadata": {},
   "outputs": [],
   "source": [
    "from sklearn.model_selection import GridSearchCV\n",
    "from sklearn.neighbors import KNeighborsRegressor"
   ]
  },
  {
   "cell_type": "code",
   "execution_count": 17,
   "metadata": {},
   "outputs": [
    {
     "data": {
      "text/plain": [
       "{'n_neighbors': array([ 2,  3,  4,  5,  6,  7,  8,  9, 10, 11, 12, 13, 14, 15, 16, 17, 18,\n",
       "        19, 20])}"
      ]
     },
     "execution_count": 17,
     "metadata": {},
     "output_type": "execute_result"
    }
   ],
   "source": [
    "params = {'n_neighbors' : np.arange(2,21)}\n",
    "params"
   ]
  },
  {
   "cell_type": "code",
   "execution_count": 18,
   "metadata": {},
   "outputs": [
    {
     "data": {
      "text/plain": [
       "{'n_neighbors': 4}"
      ]
     },
     "execution_count": 18,
     "metadata": {},
     "output_type": "execute_result"
    }
   ],
   "source": [
    "knnr = KNeighborsRegressor()\n",
    "check = GridSearchCV(knnr,params,cv=5)\n",
    "check.fit(X_train,y_train)\n",
    "check.best_params_        ## gives the no. of neighbours that gives the best accuracy"
   ]
  },
  {
   "cell_type": "code",
   "execution_count": 20,
   "metadata": {},
   "outputs": [
    {
     "name": "stdout",
     "output_type": "stream",
     "text": [
      "R2 score for i =  2  is :  0.9913077904888825\n",
      "RMSE for i =  2  is :  1.0518468953411522\n",
      "R2 score for i =  3  is :  0.9930658739281496\n",
      "RMSE for i =  3  is :  0.9394708369599964\n",
      "R2 score for i =  4  is :  0.9941848641190583\n",
      "RMSE for i =  4  is :  0.860334562244255\n",
      "R2 score for i =  5  is :  0.9952698784812414\n",
      "RMSE for i =  5  is :  0.7759318619611864\n",
      "R2 score for i =  6  is :  0.9952063649949184\n",
      "RMSE for i =  6  is :  0.7811238856275886\n",
      "R2 score for i =  7  is :  0.9950384981600826\n",
      "RMSE for i =  7  is :  0.7946831689207067\n",
      "R2 score for i =  8  is :  0.9948475418762984\n",
      "RMSE for i =  8  is :  0.809831511991691\n",
      "R2 score for i =  9  is :  0.9945143037536652\n",
      "RMSE for i =  9  is :  0.8356093958108527\n",
      "R2 score for i =  10  is :  0.9943741222299349\n",
      "RMSE for i =  10  is :  0.8462186306801324\n",
      "R2 score for i =  11  is :  0.9945540406978319\n",
      "RMSE for i =  11  is :  0.8325774275356917\n",
      "R2 score for i =  12  is :  0.994375388537173\n",
      "RMSE for i =  12  is :  0.8461233892683284\n",
      "R2 score for i =  13  is :  0.9938928054793327\n",
      "RMSE for i =  13  is :  0.8816745666461738\n",
      "R2 score for i =  14  is :  0.9936381416276785\n",
      "RMSE for i =  14  is :  0.8998692983688269\n",
      "R2 score for i =  15  is :  0.9939361572291089\n",
      "RMSE for i =  15  is :  0.8785397224411496\n",
      "R2 score for i =  16  is :  0.9934563256523656\n",
      "RMSE for i =  16  is :  0.9126374280827172\n",
      "R2 score for i =  17  is :  0.9933942677696344\n",
      "RMSE for i =  17  is :  0.9169547807442878\n",
      "R2 score for i =  18  is :  0.9933030258344443\n",
      "RMSE for i =  18  is :  0.9232657995975821\n",
      "R2 score for i =  19  is :  0.9934504922747507\n",
      "RMSE for i =  19  is :  0.913044124116115\n",
      "R2 score for i =  20  is :  0.9931776804904979\n",
      "RMSE for i =  20  is :  0.9318659948406638\n"
     ]
    }
   ],
   "source": [
    "r2_val = []\n",
    "rmse_val = []\n",
    "for i in range(2,21):\n",
    "    knnr_model = KNeighborsRegressor(n_neighbors = i)\n",
    "    knnr_model.fit(X_train,y_train)\n",
    "    pred = knnr_model.predict(X_test)\n",
    "    print('R2 score for i = ',i,\" is : \",r2_score(y_test,pred))\n",
    "    print('RMSE for i = ',i,\" is : \",np.sqrt(mean_squared_error(y_test,pred)))\n",
    "    r2_val.append(r2_score(y_test,pred))\n",
    "    rmse_val.append(np.sqrt(mean_squared_error(y_test,pred)))"
   ]
  },
  {
   "cell_type": "code",
   "execution_count": 24,
   "metadata": {},
   "outputs": [
    {
     "data": {
      "text/plain": [
       "[2, 3, 4, 5, 6, 7, 8, 9, 10, 11, 12, 13, 14, 15, 16, 17, 18, 19, 20]"
      ]
     },
     "execution_count": 24,
     "metadata": {},
     "output_type": "execute_result"
    }
   ],
   "source": [
    "x_list = []\n",
    "for i in range (2,21):\n",
    "    x_list.append(i)\n",
    "x_list"
   ]
  },
  {
   "cell_type": "code",
   "execution_count": 25,
   "metadata": {},
   "outputs": [
    {
     "data": {
      "image/png": "[encoded data removed]",
      "text/plain": [
       "<Figure size 432x288 with 1 Axes>"
      ]
     },
     "metadata": {
      "needs_background": "light"
     },
     "output_type": "display_data"
    }
   ],
   "source": [
    "plt.plot(x_list,r2_val,\"bo--\",label = \"r2 score\")\n",
    "plt.plot(x_list,rmse_val,\"g+:\",label = \"rmse values\")\n",
    "plt.xlabel('k - neighbors')\n",
    "plt.ylabel('r2 score/rmse value')\n",
    "plt.title(\"Variation of r2 score and rmse values wrt k - neighbors\")\n",
    "plt.legend()\n",
    "plt.show()"
   ]
  },
  {
   "cell_type": "code",
   "execution_count": null,
   "metadata": {},
   "outputs": [],
   "source": []
  },
  {
   "cell_type": "markdown",
   "metadata": {},
   "source": [
    "## 2. Dataset of Maruti Suzuki India Limited"
   ]
  },
  {
   "cell_type": "code",
   "execution_count": 37,
   "metadata": {},
   "outputs": [
    {
     "data": {
      "text/html": [
       "<div>\n",
       "<style scoped>\n",
       "    .dataframe tbody tr th:only-of-type {\n",
       "        vertical-align: middle;\n",
       "    }\n",
       "\n",
       "    .dataframe tbody tr th {\n",
       "        vertical-align: top;\n",
       "    }\n",
       "\n",
       "    .dataframe thead th {\n",
       "        text-align: right;\n",
       "    }\n",
       "</style>\n",
       "<table border=\"1\" class=\"dataframe\">\n",
       "  <thead>\n",
       "    <tr style=\"text-align: right;\">\n",
       "      <th></th>\n",
       "      <th>Date</th>\n",
       "      <th>Open</th>\n",
       "      <th>High</th>\n",
       "      <th>Low</th>\n",
       "      <th>Close</th>\n",
       "      <th>Adj Close</th>\n",
       "      <th>Volume</th>\n",
       "    </tr>\n",
       "  </thead>\n",
       "  <tbody>\n",
       "    <tr>\n",
       "      <th>0</th>\n",
       "      <td>2011-06-13</td>\n",
       "      <td>1220.000000</td>\n",
       "      <td>1236.400024</td>\n",
       "      <td>1161.300049</td>\n",
       "      <td>1165.000000</td>\n",
       "      <td>1068.670288</td>\n",
       "      <td>2305096</td>\n",
       "    </tr>\n",
       "    <tr>\n",
       "      <th>1</th>\n",
       "      <td>2011-06-20</td>\n",
       "      <td>1177.000000</td>\n",
       "      <td>1177.000000</td>\n",
       "      <td>1085.800049</td>\n",
       "      <td>1119.599976</td>\n",
       "      <td>1027.024170</td>\n",
       "      <td>2538102</td>\n",
       "    </tr>\n",
       "    <tr>\n",
       "      <th>2</th>\n",
       "      <td>2011-06-27</td>\n",
       "      <td>1109.900024</td>\n",
       "      <td>1186.750000</td>\n",
       "      <td>1106.000000</td>\n",
       "      <td>1143.150024</td>\n",
       "      <td>1048.626709</td>\n",
       "      <td>1800720</td>\n",
       "    </tr>\n",
       "    <tr>\n",
       "      <th>3</th>\n",
       "      <td>2011-07-04</td>\n",
       "      <td>1144.000000</td>\n",
       "      <td>1202.000000</td>\n",
       "      <td>1131.349976</td>\n",
       "      <td>1184.250000</td>\n",
       "      <td>1086.328369</td>\n",
       "      <td>1211851</td>\n",
       "    </tr>\n",
       "    <tr>\n",
       "      <th>4</th>\n",
       "      <td>2011-07-11</td>\n",
       "      <td>1175.199951</td>\n",
       "      <td>1188.400024</td>\n",
       "      <td>1140.250000</td>\n",
       "      <td>1177.550049</td>\n",
       "      <td>1080.182251</td>\n",
       "      <td>1028783</td>\n",
       "    </tr>\n",
       "    <tr>\n",
       "      <th>5</th>\n",
       "      <td>2011-07-18</td>\n",
       "      <td>1170.000000</td>\n",
       "      <td>1188.949951</td>\n",
       "      <td>1147.599976</td>\n",
       "      <td>1161.599976</td>\n",
       "      <td>1065.551392</td>\n",
       "      <td>1201027</td>\n",
       "    </tr>\n",
       "    <tr>\n",
       "      <th>6</th>\n",
       "      <td>2011-07-25</td>\n",
       "      <td>1156.699951</td>\n",
       "      <td>1225.000000</td>\n",
       "      <td>1153.599976</td>\n",
       "      <td>1206.650024</td>\n",
       "      <td>1106.876343</td>\n",
       "      <td>3124788</td>\n",
       "    </tr>\n",
       "    <tr>\n",
       "      <th>7</th>\n",
       "      <td>2011-08-01</td>\n",
       "      <td>1210.099976</td>\n",
       "      <td>1228.900024</td>\n",
       "      <td>1168.800049</td>\n",
       "      <td>1192.000000</td>\n",
       "      <td>1093.437744</td>\n",
       "      <td>1921351</td>\n",
       "    </tr>\n",
       "    <tr>\n",
       "      <th>8</th>\n",
       "      <td>2011-08-08</td>\n",
       "      <td>1178.449951</td>\n",
       "      <td>1283.400024</td>\n",
       "      <td>1163.099976</td>\n",
       "      <td>1246.349976</td>\n",
       "      <td>1143.293335</td>\n",
       "      <td>2402823</td>\n",
       "    </tr>\n",
       "    <tr>\n",
       "      <th>9</th>\n",
       "      <td>2011-08-15</td>\n",
       "      <td>1246.349976</td>\n",
       "      <td>1255.599976</td>\n",
       "      <td>1134.099976</td>\n",
       "      <td>1159.050049</td>\n",
       "      <td>1063.212158</td>\n",
       "      <td>1284357</td>\n",
       "    </tr>\n",
       "    <tr>\n",
       "      <th>10</th>\n",
       "      <td>2011-08-22</td>\n",
       "      <td>1165.500000</td>\n",
       "      <td>1174.599976</td>\n",
       "      <td>1047.750000</td>\n",
       "      <td>1083.400024</td>\n",
       "      <td>993.817322</td>\n",
       "      <td>1921344</td>\n",
       "    </tr>\n",
       "    <tr>\n",
       "      <th>11</th>\n",
       "      <td>2011-08-29</td>\n",
       "      <td>1080.000000</td>\n",
       "      <td>1107.000000</td>\n",
       "      <td>1056.000000</td>\n",
       "      <td>1078.949951</td>\n",
       "      <td>996.186096</td>\n",
       "      <td>1950648</td>\n",
       "    </tr>\n",
       "    <tr>\n",
       "      <th>12</th>\n",
       "      <td>2011-09-05</td>\n",
       "      <td>1073.500000</td>\n",
       "      <td>1149.000000</td>\n",
       "      <td>1064.250000</td>\n",
       "      <td>1103.400024</td>\n",
       "      <td>1018.760742</td>\n",
       "      <td>2548343</td>\n",
       "    </tr>\n",
       "    <tr>\n",
       "      <th>13</th>\n",
       "      <td>2011-09-12</td>\n",
       "      <td>1098.000000</td>\n",
       "      <td>1117.650024</td>\n",
       "      <td>1041.349976</td>\n",
       "      <td>1109.449951</td>\n",
       "      <td>1024.346436</td>\n",
       "      <td>3066929</td>\n",
       "    </tr>\n",
       "    <tr>\n",
       "      <th>14</th>\n",
       "      <td>2011-09-19</td>\n",
       "      <td>1105.000000</td>\n",
       "      <td>1161.900024</td>\n",
       "      <td>1048.599976</td>\n",
       "      <td>1090.900024</td>\n",
       "      <td>1007.219666</td>\n",
       "      <td>4233694</td>\n",
       "    </tr>\n",
       "    <tr>\n",
       "      <th>15</th>\n",
       "      <td>2011-09-26</td>\n",
       "      <td>1104.000000</td>\n",
       "      <td>1116.900024</td>\n",
       "      <td>1057.000000</td>\n",
       "      <td>1083.000000</td>\n",
       "      <td>999.925415</td>\n",
       "      <td>1865784</td>\n",
       "    </tr>\n",
       "    <tr>\n",
       "      <th>16</th>\n",
       "      <td>2011-10-03</td>\n",
       "      <td>1083.900024</td>\n",
       "      <td>1129.000000</td>\n",
       "      <td>1073.300049</td>\n",
       "      <td>1113.199951</td>\n",
       "      <td>1027.808838</td>\n",
       "      <td>3336670</td>\n",
       "    </tr>\n",
       "    <tr>\n",
       "      <th>17</th>\n",
       "      <td>2011-10-10</td>\n",
       "      <td>1080.099976</td>\n",
       "      <td>1091.849976</td>\n",
       "      <td>1021.599976</td>\n",
       "      <td>1027.250000</td>\n",
       "      <td>948.452026</td>\n",
       "      <td>3446611</td>\n",
       "    </tr>\n",
       "    <tr>\n",
       "      <th>18</th>\n",
       "      <td>2011-10-17</td>\n",
       "      <td>1030.550049</td>\n",
       "      <td>1117.500000</td>\n",
       "      <td>1010.000000</td>\n",
       "      <td>1094.550049</td>\n",
       "      <td>1010.589539</td>\n",
       "      <td>4811744</td>\n",
       "    </tr>\n",
       "    <tr>\n",
       "      <th>19</th>\n",
       "      <td>2011-10-24</td>\n",
       "      <td>1112.000000</td>\n",
       "      <td>1185.000000</td>\n",
       "      <td>1106.300049</td>\n",
       "      <td>1126.000000</td>\n",
       "      <td>1039.627075</td>\n",
       "      <td>3121261</td>\n",
       "    </tr>\n",
       "    <tr>\n",
       "      <th>20</th>\n",
       "      <td>2011-10-31</td>\n",
       "      <td>1072.000000</td>\n",
       "      <td>1152.800049</td>\n",
       "      <td>1060.000000</td>\n",
       "      <td>1122.250000</td>\n",
       "      <td>1036.164795</td>\n",
       "      <td>4525220</td>\n",
       "    </tr>\n",
       "    <tr>\n",
       "      <th>21</th>\n",
       "      <td>2011-11-07</td>\n",
       "      <td>1122.250000</td>\n",
       "      <td>1133.949951</td>\n",
       "      <td>1037.000000</td>\n",
       "      <td>1059.750000</td>\n",
       "      <td>978.459045</td>\n",
       "      <td>1635431</td>\n",
       "    </tr>\n",
       "    <tr>\n",
       "      <th>22</th>\n",
       "      <td>2011-11-14</td>\n",
       "      <td>1068.349976</td>\n",
       "      <td>1072.800049</td>\n",
       "      <td>907.049988</td>\n",
       "      <td>940.599976</td>\n",
       "      <td>868.448669</td>\n",
       "      <td>4623545</td>\n",
       "    </tr>\n",
       "    <tr>\n",
       "      <th>23</th>\n",
       "      <td>2011-11-21</td>\n",
       "      <td>939.000000</td>\n",
       "      <td>999.000000</td>\n",
       "      <td>931.000000</td>\n",
       "      <td>949.950012</td>\n",
       "      <td>877.081482</td>\n",
       "      <td>4252283</td>\n",
       "    </tr>\n",
       "    <tr>\n",
       "      <th>24</th>\n",
       "      <td>2011-11-28</td>\n",
       "      <td>966.950012</td>\n",
       "      <td>1008.000000</td>\n",
       "      <td>952.099976</td>\n",
       "      <td>992.349976</td>\n",
       "      <td>916.229065</td>\n",
       "      <td>3707248</td>\n",
       "    </tr>\n",
       "    <tr>\n",
       "      <th>25</th>\n",
       "      <td>2011-12-05</td>\n",
       "      <td>982.049988</td>\n",
       "      <td>1014.900024</td>\n",
       "      <td>956.349976</td>\n",
       "      <td>985.799988</td>\n",
       "      <td>910.181519</td>\n",
       "      <td>2225684</td>\n",
       "    </tr>\n",
       "    <tr>\n",
       "      <th>26</th>\n",
       "      <td>2011-12-12</td>\n",
       "      <td>985.799988</td>\n",
       "      <td>990.049988</td>\n",
       "      <td>908.700012</td>\n",
       "      <td>931.549988</td>\n",
       "      <td>860.092896</td>\n",
       "      <td>3070268</td>\n",
       "    </tr>\n",
       "    <tr>\n",
       "      <th>27</th>\n",
       "      <td>2011-12-19</td>\n",
       "      <td>925.000000</td>\n",
       "      <td>988.500000</td>\n",
       "      <td>900.000000</td>\n",
       "      <td>975.500000</td>\n",
       "      <td>900.671570</td>\n",
       "      <td>2710723</td>\n",
       "    </tr>\n",
       "    <tr>\n",
       "      <th>28</th>\n",
       "      <td>2011-12-26</td>\n",
       "      <td>984.000000</td>\n",
       "      <td>991.000000</td>\n",
       "      <td>911.000000</td>\n",
       "      <td>918.299988</td>\n",
       "      <td>847.859253</td>\n",
       "      <td>1748415</td>\n",
       "    </tr>\n",
       "    <tr>\n",
       "      <th>29</th>\n",
       "      <td>2012-01-02</td>\n",
       "      <td>923.000000</td>\n",
       "      <td>969.000000</td>\n",
       "      <td>917.000000</td>\n",
       "      <td>949.750000</td>\n",
       "      <td>876.896851</td>\n",
       "      <td>1999144</td>\n",
       "    </tr>\n",
       "    <tr>\n",
       "      <th>...</th>\n",
       "      <td>...</td>\n",
       "      <td>...</td>\n",
       "      <td>...</td>\n",
       "      <td>...</td>\n",
       "      <td>...</td>\n",
       "      <td>...</td>\n",
       "      <td>...</td>\n",
       "    </tr>\n",
       "    <tr>\n",
       "      <th>493</th>\n",
       "      <td>2020-11-23</td>\n",
       "      <td>7040.000000</td>\n",
       "      <td>7252.350098</td>\n",
       "      <td>6903.000000</td>\n",
       "      <td>7035.799805</td>\n",
       "      <td>7035.799805</td>\n",
       "      <td>6787017</td>\n",
       "    </tr>\n",
       "    <tr>\n",
       "      <th>494</th>\n",
       "      <td>2020-11-30</td>\n",
       "      <td>7035.799805</td>\n",
       "      <td>7882.649902</td>\n",
       "      <td>6975.200195</td>\n",
       "      <td>7803.149902</td>\n",
       "      <td>7803.149902</td>\n",
       "      <td>8423757</td>\n",
       "    </tr>\n",
       "    <tr>\n",
       "      <th>495</th>\n",
       "      <td>2020-12-07</td>\n",
       "      <td>7828.799805</td>\n",
       "      <td>8013.149902</td>\n",
       "      <td>7690.000000</td>\n",
       "      <td>7733.549805</td>\n",
       "      <td>7733.549805</td>\n",
       "      <td>5638955</td>\n",
       "    </tr>\n",
       "    <tr>\n",
       "      <th>496</th>\n",
       "      <td>2020-12-14</td>\n",
       "      <td>7810.000000</td>\n",
       "      <td>7899.000000</td>\n",
       "      <td>7541.750000</td>\n",
       "      <td>7559.750000</td>\n",
       "      <td>7559.750000</td>\n",
       "      <td>4705740</td>\n",
       "    </tr>\n",
       "    <tr>\n",
       "      <th>497</th>\n",
       "      <td>2020-12-21</td>\n",
       "      <td>7560.000000</td>\n",
       "      <td>7599.000000</td>\n",
       "      <td>7205.100098</td>\n",
       "      <td>7446.049805</td>\n",
       "      <td>7446.049805</td>\n",
       "      <td>3649632</td>\n",
       "    </tr>\n",
       "    <tr>\n",
       "      <th>498</th>\n",
       "      <td>2020-12-28</td>\n",
       "      <td>7465.000000</td>\n",
       "      <td>7748.500000</td>\n",
       "      <td>7418.299805</td>\n",
       "      <td>7691.299805</td>\n",
       "      <td>7691.299805</td>\n",
       "      <td>3765928</td>\n",
       "    </tr>\n",
       "    <tr>\n",
       "      <th>499</th>\n",
       "      <td>2021-01-04</td>\n",
       "      <td>7739.000000</td>\n",
       "      <td>8060.000000</td>\n",
       "      <td>7552.100098</td>\n",
       "      <td>8014.899902</td>\n",
       "      <td>8014.899902</td>\n",
       "      <td>5202116</td>\n",
       "    </tr>\n",
       "    <tr>\n",
       "      <th>500</th>\n",
       "      <td>2021-01-11</td>\n",
       "      <td>8099.000000</td>\n",
       "      <td>8329.000000</td>\n",
       "      <td>7882.399902</td>\n",
       "      <td>8024.750000</td>\n",
       "      <td>8024.750000</td>\n",
       "      <td>6042767</td>\n",
       "    </tr>\n",
       "    <tr>\n",
       "      <th>501</th>\n",
       "      <td>2021-01-18</td>\n",
       "      <td>8011.000000</td>\n",
       "      <td>8308.000000</td>\n",
       "      <td>7745.000000</td>\n",
       "      <td>8048.850098</td>\n",
       "      <td>8048.850098</td>\n",
       "      <td>4492709</td>\n",
       "    </tr>\n",
       "    <tr>\n",
       "      <th>502</th>\n",
       "      <td>2021-01-25</td>\n",
       "      <td>8117.000000</td>\n",
       "      <td>8164.700195</td>\n",
       "      <td>7170.000000</td>\n",
       "      <td>7206.649902</td>\n",
       "      <td>7206.649902</td>\n",
       "      <td>6989433</td>\n",
       "    </tr>\n",
       "    <tr>\n",
       "      <th>503</th>\n",
       "      <td>2021-02-01</td>\n",
       "      <td>7265.200195</td>\n",
       "      <td>7769.750000</td>\n",
       "      <td>7152.000000</td>\n",
       "      <td>7494.149902</td>\n",
       "      <td>7494.149902</td>\n",
       "      <td>7130015</td>\n",
       "    </tr>\n",
       "    <tr>\n",
       "      <th>504</th>\n",
       "      <td>2021-02-08</td>\n",
       "      <td>7515.000000</td>\n",
       "      <td>7744.000000</td>\n",
       "      <td>7474.500000</td>\n",
       "      <td>7568.500000</td>\n",
       "      <td>7568.500000</td>\n",
       "      <td>4428801</td>\n",
       "    </tr>\n",
       "    <tr>\n",
       "      <th>505</th>\n",
       "      <td>2021-02-15</td>\n",
       "      <td>7600.000000</td>\n",
       "      <td>7799.000000</td>\n",
       "      <td>7285.000000</td>\n",
       "      <td>7323.000000</td>\n",
       "      <td>7323.000000</td>\n",
       "      <td>4650116</td>\n",
       "    </tr>\n",
       "    <tr>\n",
       "      <th>506</th>\n",
       "      <td>2021-02-22</td>\n",
       "      <td>7323.000000</td>\n",
       "      <td>7325.000000</td>\n",
       "      <td>6822.200195</td>\n",
       "      <td>6866.149902</td>\n",
       "      <td>6866.149902</td>\n",
       "      <td>8744806</td>\n",
       "    </tr>\n",
       "    <tr>\n",
       "      <th>507</th>\n",
       "      <td>2021-03-01</td>\n",
       "      <td>6977.000000</td>\n",
       "      <td>7315.000000</td>\n",
       "      <td>6917.049805</td>\n",
       "      <td>7249.000000</td>\n",
       "      <td>7249.000000</td>\n",
       "      <td>6336629</td>\n",
       "    </tr>\n",
       "    <tr>\n",
       "      <th>508</th>\n",
       "      <td>2021-03-08</td>\n",
       "      <td>7264.899902</td>\n",
       "      <td>7387.000000</td>\n",
       "      <td>7061.399902</td>\n",
       "      <td>7096.200195</td>\n",
       "      <td>7096.200195</td>\n",
       "      <td>3262047</td>\n",
       "    </tr>\n",
       "    <tr>\n",
       "      <th>509</th>\n",
       "      <td>2021-03-15</td>\n",
       "      <td>7145.000000</td>\n",
       "      <td>7242.000000</td>\n",
       "      <td>6905.500000</td>\n",
       "      <td>7113.549805</td>\n",
       "      <td>7113.549805</td>\n",
       "      <td>4008489</td>\n",
       "    </tr>\n",
       "    <tr>\n",
       "      <th>510</th>\n",
       "      <td>2021-03-22</td>\n",
       "      <td>7104.000000</td>\n",
       "      <td>7225.000000</td>\n",
       "      <td>6755.250000</td>\n",
       "      <td>6784.450195</td>\n",
       "      <td>6784.450195</td>\n",
       "      <td>3998570</td>\n",
       "    </tr>\n",
       "    <tr>\n",
       "      <th>511</th>\n",
       "      <td>2021-03-29</td>\n",
       "      <td>6784.450195</td>\n",
       "      <td>6991.500000</td>\n",
       "      <td>6740.000000</td>\n",
       "      <td>6923.899902</td>\n",
       "      <td>6923.899902</td>\n",
       "      <td>2484958</td>\n",
       "    </tr>\n",
       "    <tr>\n",
       "      <th>512</th>\n",
       "      <td>2021-04-05</td>\n",
       "      <td>6908.500000</td>\n",
       "      <td>6939.299805</td>\n",
       "      <td>6720.000000</td>\n",
       "      <td>6827.100098</td>\n",
       "      <td>6827.100098</td>\n",
       "      <td>3140386</td>\n",
       "    </tr>\n",
       "    <tr>\n",
       "      <th>513</th>\n",
       "      <td>2021-04-12</td>\n",
       "      <td>6739.850098</td>\n",
       "      <td>6846.850098</td>\n",
       "      <td>6468.799805</td>\n",
       "      <td>6648.100098</td>\n",
       "      <td>6648.100098</td>\n",
       "      <td>4284154</td>\n",
       "    </tr>\n",
       "    <tr>\n",
       "      <th>514</th>\n",
       "      <td>2021-04-19</td>\n",
       "      <td>6500.350098</td>\n",
       "      <td>6714.700195</td>\n",
       "      <td>6415.000000</td>\n",
       "      <td>6676.100098</td>\n",
       "      <td>6676.100098</td>\n",
       "      <td>3063578</td>\n",
       "    </tr>\n",
       "    <tr>\n",
       "      <th>515</th>\n",
       "      <td>2021-04-26</td>\n",
       "      <td>6690.200195</td>\n",
       "      <td>6789.000000</td>\n",
       "      <td>6421.000000</td>\n",
       "      <td>6455.649902</td>\n",
       "      <td>6455.649902</td>\n",
       "      <td>5561337</td>\n",
       "    </tr>\n",
       "    <tr>\n",
       "      <th>516</th>\n",
       "      <td>2021-05-03</td>\n",
       "      <td>6430.000000</td>\n",
       "      <td>6754.549805</td>\n",
       "      <td>6400.000000</td>\n",
       "      <td>6703.049805</td>\n",
       "      <td>6703.049805</td>\n",
       "      <td>2966428</td>\n",
       "    </tr>\n",
       "    <tr>\n",
       "      <th>517</th>\n",
       "      <td>2021-05-10</td>\n",
       "      <td>6675.200195</td>\n",
       "      <td>6842.149902</td>\n",
       "      <td>6660.100098</td>\n",
       "      <td>6736.399902</td>\n",
       "      <td>6736.399902</td>\n",
       "      <td>2364813</td>\n",
       "    </tr>\n",
       "    <tr>\n",
       "      <th>518</th>\n",
       "      <td>2021-05-17</td>\n",
       "      <td>6716.500000</td>\n",
       "      <td>6864.000000</td>\n",
       "      <td>6697.549805</td>\n",
       "      <td>6814.649902</td>\n",
       "      <td>6814.649902</td>\n",
       "      <td>3139267</td>\n",
       "    </tr>\n",
       "    <tr>\n",
       "      <th>519</th>\n",
       "      <td>2021-05-24</td>\n",
       "      <td>6802.000000</td>\n",
       "      <td>7069.000000</td>\n",
       "      <td>6802.000000</td>\n",
       "      <td>6970.000000</td>\n",
       "      <td>6970.000000</td>\n",
       "      <td>3473694</td>\n",
       "    </tr>\n",
       "    <tr>\n",
       "      <th>520</th>\n",
       "      <td>2021-05-31</td>\n",
       "      <td>6955.000000</td>\n",
       "      <td>7272.000000</td>\n",
       "      <td>6924.049805</td>\n",
       "      <td>7214.700195</td>\n",
       "      <td>7214.700195</td>\n",
       "      <td>2937161</td>\n",
       "    </tr>\n",
       "    <tr>\n",
       "      <th>521</th>\n",
       "      <td>2021-06-07</td>\n",
       "      <td>7221.000000</td>\n",
       "      <td>7366.450195</td>\n",
       "      <td>7200.000000</td>\n",
       "      <td>7239.000000</td>\n",
       "      <td>7239.000000</td>\n",
       "      <td>1503076</td>\n",
       "    </tr>\n",
       "    <tr>\n",
       "      <th>522</th>\n",
       "      <td>2021-06-10</td>\n",
       "      <td>7258.000000</td>\n",
       "      <td>7279.450195</td>\n",
       "      <td>7174.049805</td>\n",
       "      <td>7199.899902</td>\n",
       "      <td>7199.899902</td>\n",
       "      <td>277865</td>\n",
       "    </tr>\n",
       "  </tbody>\n",
       "</table>\n",
       "<p>523 rows × 7 columns</p>\n",
       "</div>"
      ],
      "text/plain": [
       "           Date         Open         High          Low        Close  \\\n",
       "0    2011-06-13  1220.000000  1236.400024  1161.300049  1165.000000   \n",
       "1    2011-06-20  1177.000000  1177.000000  1085.800049  1119.599976   \n",
       "2    2011-06-27  1109.900024  1186.750000  1106.000000  1143.150024   \n",
       "3    2011-07-04  1144.000000  1202.000000  1131.349976  1184.250000   \n",
       "4    2011-07-11  1175.199951  1188.400024  1140.250000  1177.550049   \n",
       "5    2011-07-18  1170.000000  1188.949951  1147.599976  1161.599976   \n",
       "6    2011-07-25  1156.699951  1225.000000  1153.599976  1206.650024   \n",
       "7    2011-08-01  1210.099976  1228.900024  1168.800049  1192.000000   \n",
       "8    2011-08-08  1178.449951  1283.400024  1163.099976  1246.349976   \n",
       "9    2011-08-15  1246.349976  1255.599976  1134.099976  1159.050049   \n",
       "10   2011-08-22  1165.500000  1174.599976  1047.750000  1083.400024   \n",
       "11   2011-08-29  1080.000000  1107.000000  1056.000000  1078.949951   \n",
       "12   2011-09-05  1073.500000  1149.000000  1064.250000  1103.400024   \n",
       "13   2011-09-12  1098.000000  1117.650024  1041.349976  1109.449951   \n",
       "14   2011-09-19  1105.000000  1161.900024  1048.599976  1090.900024   \n",
       "15   2011-09-26  1104.000000  1116.900024  1057.000000  1083.000000   \n",
       "16   2011-10-03  1083.900024  1129.000000  1073.300049  1113.199951   \n",
       "17   2011-10-10  1080.099976  1091.849976  1021.599976  1027.250000   \n",
       "18   2011-10-17  1030.550049  1117.500000  1010.000000  1094.550049   \n",
       "19   2011-10-24  1112.000000  1185.000000  1106.300049  1126.000000   \n",
       "20   2011-10-31  1072.000000  1152.800049  1060.000000  1122.250000   \n",
       "21   2011-11-07  1122.250000  1133.949951  1037.000000  1059.750000   \n",
       "22   2011-11-14  1068.349976  1072.800049   907.049988   940.599976   \n",
       "23   2011-11-21   939.000000   999.000000   931.000000   949.950012   \n",
       "24   2011-11-28   966.950012  1008.000000   952.099976   992.349976   \n",
       "25   2011-12-05   982.049988  1014.900024   956.349976   985.799988   \n",
       "26   2011-12-12   985.799988   990.049988   908.700012   931.549988   \n",
       "27   2011-12-19   925.000000   988.500000   900.000000   975.500000   \n",
       "28   2011-12-26   984.000000   991.000000   911.000000   918.299988   \n",
       "29   2012-01-02   923.000000   969.000000   917.000000   949.750000   \n",
       "..          ...          ...          ...          ...          ...   \n",
       "493  2020-11-23  7040.000000  7252.350098  6903.000000  7035.799805   \n",
       "494  2020-11-30  7035.799805  7882.649902  6975.200195  7803.149902   \n",
       "495  2020-12-07  7828.799805  8013.149902  7690.000000  7733.549805   \n",
       "496  2020-12-14  7810.000000  7899.000000  7541.750000  7559.750000   \n",
       "497  2020-12-21  7560.000000  7599.000000  7205.100098  7446.049805   \n",
       "498  2020-12-28  7465.000000  7748.500000  7418.299805  7691.299805   \n",
       "499  2021-01-04  7739.000000  8060.000000  7552.100098  8014.899902   \n",
       "500  2021-01-11  8099.000000  8329.000000  7882.399902  8024.750000   \n",
       "501  2021-01-18  8011.000000  8308.000000  7745.000000  8048.850098   \n",
       "502  2021-01-25  8117.000000  8164.700195  7170.000000  7206.649902   \n",
       "503  2021-02-01  7265.200195  7769.750000  7152.000000  7494.149902   \n",
       "504  2021-02-08  7515.000000  7744.000000  7474.500000  7568.500000   \n",
       "505  2021-02-15  7600.000000  7799.000000  7285.000000  7323.000000   \n",
       "506  2021-02-22  7323.000000  7325.000000  6822.200195  6866.149902   \n",
       "507  2021-03-01  6977.000000  7315.000000  6917.049805  7249.000000   \n",
       "508  2021-03-08  7264.899902  7387.000000  7061.399902  7096.200195   \n",
       "509  2021-03-15  7145.000000  7242.000000  6905.500000  7113.549805   \n",
       "510  2021-03-22  7104.000000  7225.000000  6755.250000  6784.450195   \n",
       "511  2021-03-29  6784.450195  6991.500000  6740.000000  6923.899902   \n",
       "512  2021-04-05  6908.500000  6939.299805  6720.000000  6827.100098   \n",
       "513  2021-04-12  6739.850098  6846.850098  6468.799805  6648.100098   \n",
       "514  2021-04-19  6500.350098  6714.700195  6415.000000  6676.100098   \n",
       "515  2021-04-26  6690.200195  6789.000000  6421.000000  6455.649902   \n",
       "516  2021-05-03  6430.000000  6754.549805  6400.000000  6703.049805   \n",
       "517  2021-05-10  6675.200195  6842.149902  6660.100098  6736.399902   \n",
       "518  2021-05-17  6716.500000  6864.000000  6697.549805  6814.649902   \n",
       "519  2021-05-24  6802.000000  7069.000000  6802.000000  6970.000000   \n",
       "520  2021-05-31  6955.000000  7272.000000  6924.049805  7214.700195   \n",
       "521  2021-06-07  7221.000000  7366.450195  7200.000000  7239.000000   \n",
       "522  2021-06-10  7258.000000  7279.450195  7174.049805  7199.899902   \n",
       "\n",
       "       Adj Close   Volume  \n",
       "0    1068.670288  2305096  \n",
       "1    1027.024170  2538102  \n",
       "2    1048.626709  1800720  \n",
       "3    1086.328369  1211851  \n",
       "4    1080.182251  1028783  \n",
       "5    1065.551392  1201027  \n",
       "6    1106.876343  3124788  \n",
       "7    1093.437744  1921351  \n",
       "8    1143.293335  2402823  \n",
       "9    1063.212158  1284357  \n",
       "10    993.817322  1921344  \n",
       "11    996.186096  1950648  \n",
       "12   1018.760742  2548343  \n",
       "13   1024.346436  3066929  \n",
       "14   1007.219666  4233694  \n",
       "15    999.925415  1865784  \n",
       "16   1027.808838  3336670  \n",
       "17    948.452026  3446611  \n",
       "18   1010.589539  4811744  \n",
       "19   1039.627075  3121261  \n",
       "20   1036.164795  4525220  \n",
       "21    978.459045  1635431  \n",
       "22    868.448669  4623545  \n",
       "23    877.081482  4252283  \n",
       "24    916.229065  3707248  \n",
       "25    910.181519  2225684  \n",
       "26    860.092896  3070268  \n",
       "27    900.671570  2710723  \n",
       "28    847.859253  1748415  \n",
       "29    876.896851  1999144  \n",
       "..           ...      ...  \n",
       "493  7035.799805  6787017  \n",
       "494  7803.149902  8423757  \n",
       "495  7733.549805  5638955  \n",
       "496  7559.750000  4705740  \n",
       "497  7446.049805  3649632  \n",
       "498  7691.299805  3765928  \n",
       "499  8014.899902  5202116  \n",
       "500  8024.750000  6042767  \n",
       "501  8048.850098  4492709  \n",
       "502  7206.649902  6989433  \n",
       "503  7494.149902  7130015  \n",
       "504  7568.500000  4428801  \n",
       "505  7323.000000  4650116  \n",
       "506  6866.149902  8744806  \n",
       "507  7249.000000  6336629  \n",
       "508  7096.200195  3262047  \n",
       "509  7113.549805  4008489  \n",
       "510  6784.450195  3998570  \n",
       "511  6923.899902  2484958  \n",
       "512  6827.100098  3140386  \n",
       "513  6648.100098  4284154  \n",
       "514  6676.100098  3063578  \n",
       "515  6455.649902  5561337  \n",
       "516  6703.049805  2966428  \n",
       "517  6736.399902  2364813  \n",
       "518  6814.649902  3139267  \n",
       "519  6970.000000  3473694  \n",
       "520  7214.700195  2937161  \n",
       "521  7239.000000  1503076  \n",
       "522  7199.899902   277865  \n",
       "\n",
       "[523 rows x 7 columns]"
      ]
     },
     "execution_count": 37,
     "metadata": {},
     "output_type": "execute_result"
    }
   ],
   "source": [
    "import numpy as np\n",
    "import pandas as pd\n",
    "import matplotlib.pyplot as plt\n",
    "import seaborn as sns\n",
    "%matplotlib inline\n",
    "df = pd.read_csv('MARUTI.NS.csv') \n",
    "df"
   ]
  },
  {
   "cell_type": "code",
   "execution_count": 3,
   "metadata": {},
   "outputs": [
    {
     "data": {
      "text/plain": [
       "<matplotlib.axes._subplots.AxesSubplot at 0x2383e2673c8>"
      ]
     },
     "execution_count": 3,
     "metadata": {},
     "output_type": "execute_result"
    },
    {
     "data": {
      "image/png": "[encoded data removed]",
      "text/plain": [
       "<Figure size 720x360 with 1 Axes>"
      ]
     },
     "metadata": {
      "needs_background": "light"
     },
     "output_type": "display_data"
    }
   ],
   "source": [
    "df[\"Adj Close\"].plot.hist(bins=20,figsize=(10,5))"
   ]
  },
  {
   "cell_type": "code",
   "execution_count": 4,
   "metadata": {},
   "outputs": [
    {
     "data": {
      "text/plain": [
       "Date         0\n",
       "Open         0\n",
       "High         0\n",
       "Low          0\n",
       "Close        0\n",
       "Adj Close    0\n",
       "Volume       0\n",
       "dtype: int64"
      ]
     },
     "execution_count": 4,
     "metadata": {},
     "output_type": "execute_result"
    }
   ],
   "source": [
    "df.isnull().sum()"
   ]
  },
  {
   "cell_type": "code",
   "execution_count": 38,
   "metadata": {},
   "outputs": [],
   "source": [
    "x = df.drop([\"Date\",\"Adj Close\"],axis=1)\n",
    "y = df[\"Adj Close\"]"
   ]
  },
  {
   "cell_type": "code",
   "execution_count": 39,
   "metadata": {},
   "outputs": [],
   "source": [
    "from sklearn.model_selection import train_test_split\n",
    "X_train, X_test, y_train, y_test = train_test_split(x,y,test_size = 0.22, random_state = 53 )"
   ]
  },
  {
   "cell_type": "code",
   "execution_count": 40,
   "metadata": {},
   "outputs": [],
   "source": [
    "from sklearn.preprocessing import StandardScaler\n",
    "ssr = StandardScaler()\n",
    "ssr.fit(X_train)\n",
    "X_train = ssr.transform(X_train)\n",
    "X_test = ssr.transform(X_test)"
   ]
  },
  {
   "cell_type": "markdown",
   "metadata": {},
   "source": [
    "## 2.1 Linear Regression Model"
   ]
  },
  {
   "cell_type": "code",
   "execution_count": 8,
   "metadata": {},
   "outputs": [
    {
     "data": {
      "text/plain": [
       "LinearRegression()"
      ]
     },
     "execution_count": 8,
     "metadata": {},
     "output_type": "execute_result"
    }
   ],
   "source": [
    "from sklearn.linear_model import LinearRegression\n",
    "LR = LinearRegression()\n",
    "LR.fit(X_train,y_train)"
   ]
  },
  {
   "cell_type": "code",
   "execution_count": 9,
   "metadata": {},
   "outputs": [
    {
     "data": {
      "text/plain": [
       "array([  25.72332708,  286.37598935,  -50.01573763, 2300.37016025,\n",
       "         41.78143279])"
      ]
     },
     "execution_count": 9,
     "metadata": {},
     "output_type": "execute_result"
    }
   ],
   "source": [
    "LR.coef_"
   ]
  },
  {
   "cell_type": "code",
   "execution_count": 10,
   "metadata": {},
   "outputs": [
    {
     "data": {
      "text/plain": [
       "4449.330773218673"
      ]
     },
     "execution_count": 10,
     "metadata": {},
     "output_type": "execute_result"
    }
   ],
   "source": [
    "LR.intercept_"
   ]
  },
  {
   "cell_type": "code",
   "execution_count": 11,
   "metadata": {},
   "outputs": [
    {
     "data": {
      "text/plain": [
       "array([1559.42511192, 8571.9883634 , 5050.50612232, 5041.79795498,\n",
       "       1326.83575187, 7199.44039436, 1050.43478221, 3495.15514923,\n",
       "       5629.43628662, 4285.23682152, 9116.82287633, 3808.0455697 ,\n",
       "       5092.03845026, 7240.07480163, 1221.78267878, 1112.47804373,\n",
       "       7677.43525808, 3730.25655952, 6186.52857848, 5945.18124891,\n",
       "       1135.10778912, 2224.07396532, 9196.07228056, 9172.52300802,\n",
       "       1588.69715351, 1466.54018145, 1188.78491632, 6447.8943134 ,\n",
       "       7859.23313292, 3973.65378767, 3134.1665441 , 1544.90184515,\n",
       "       7817.29276258, 3332.74393763, 1018.94731332, 3473.2514535 ,\n",
       "       7339.68290329, 1593.20583729, 9054.37668563, 4947.83866235,\n",
       "       3583.52804415, 1208.78395803, 1110.39891604, 6582.19397333,\n",
       "       1764.50042771, 4327.92983781, 8960.34797515, 5265.99537937,\n",
       "       2346.38191918, 6861.48376197, 1284.4641897 , 8339.62628689,\n",
       "       6478.60039515, 6000.23190374, 8870.7116427 , 2746.49961514,\n",
       "       2425.76860775, 6267.34220384,  781.50169491,  941.19704497,\n",
       "       5526.38810945, 6732.81216556, 8753.53454631, 1377.07397089,\n",
       "       1735.67815548, 3473.05885846, 6269.96819793, 7428.73089789,\n",
       "       1085.98667857, 3702.11520391, 7926.66722931, 3139.70450826,\n",
       "       7051.25674677, 1479.36843604, 7879.49169383, 7839.52958223,\n",
       "       6759.33315999, 4454.56041219, 1164.23384794, 7614.18779667,\n",
       "       6516.79168017, 5804.35349702, 6615.31999475, 1276.34620742,\n",
       "       6972.7990978 , 1337.56639369, 1043.13097439, 6852.24313167,\n",
       "       5670.32932065, 7389.03861027, 7744.76452765, 1211.0343361 ,\n",
       "       3153.09485631, 6725.3662155 , 3729.92072443, 8694.50606228,\n",
       "       6733.17444573, 5426.57870463, 3572.70265125, 3184.42739528,\n",
       "       1289.35339993, 6877.0998439 , 1623.36465889, 8435.27097939,\n",
       "       2499.47555286, 8262.63331403, 8581.0208855 , 6458.16895977,\n",
       "       1440.71400552, 1247.71567689, 3430.59588633, 5801.12946851,\n",
       "       5739.29975911, 6916.47049423, 1718.75311927, 1066.39034954])"
      ]
     },
     "execution_count": 11,
     "metadata": {},
     "output_type": "execute_result"
    }
   ],
   "source": [
    "LR_pred = LR.predict(X_test)\n",
    "LR_pred"
   ]
  },
  {
   "cell_type": "code",
   "execution_count": 12,
   "metadata": {},
   "outputs": [
    {
     "data": {
      "text/plain": [
       "array([1556.046387, 8435.119141, 5033.919922, 4881.862793, 1368.240356,\n",
       "       7279.519531, 1077.158936, 3438.29541 , 5639.014648, 4199.192383,\n",
       "       8941.273438, 3725.118652, 5088.52832 , 7446.049805, 1231.247559,\n",
       "       1143.293335, 7803.149902, 3695.806396, 6227.086914, 5962.35498 ,\n",
       "       1171.78064 , 2235.587158, 9059.828125, 9084.125977, 1605.564941,\n",
       "       1485.064331, 1208.425415, 6366.53125 , 8048.850098, 3867.610107,\n",
       "       3125.292969, 1566.513794, 8014.899902, 3239.477783, 1062.323975,\n",
       "       3445.984375, 7225.26123 , 1590.205566, 8948.09082 , 4818.964355,\n",
       "       3515.72583 , 1268.971802, 1140.496704, 6533.183594, 1801.1427  ,\n",
       "       4270.768555, 8822.765625, 5279.163574, 2340.821777, 6965.149902,\n",
       "       1336.244019, 8267.681641, 6590.319824, 6069.157227, 8789.25    ,\n",
       "       2760.67334 , 2416.85083 , 6388.485352,  847.859253,  999.925415,\n",
       "       5424.413086, 6773.786133, 8667.188477, 1410.016479, 1746.329102,\n",
       "       3356.993164, 6272.549316, 7550.730469, 1119.653931, 3603.401855,\n",
       "       7859.050781, 3128.625244, 7181.254395, 1437.849243, 7858.85498 ,\n",
       "       7778.62207 , 6970.      , 4324.828125, 1214.775757, 7561.965332,\n",
       "       6558.698242, 5879.216309, 6827.100098, 1308.694214, 6862.800293,\n",
       "       1372.621338, 1076.374023, 6805.309082, 5674.739746, 7559.75    ,\n",
       "       7661.890625, 1242.955078, 3140.921387, 6852.25    , 3583.194336,\n",
       "       8581.8125  , 6791.575684, 5372.449707, 3523.658203, 3171.991211,\n",
       "       1306.696655, 6924.265137, 1658.944824, 8334.138672, 2469.655273,\n",
       "       8173.519531, 8486.594727, 6676.100098, 1477.166992, 1272.27063 ,\n",
       "       3395.062256, 5709.475586, 5662.836914, 7113.549805, 1760.207642,\n",
       "       1087.222656])"
      ]
     },
     "execution_count": 12,
     "metadata": {},
     "output_type": "execute_result"
    }
   ],
   "source": [
    "np.array(y_test)"
   ]
  },
  {
   "cell_type": "code",
   "execution_count": 13,
   "metadata": {},
   "outputs": [
    {
     "name": "stdout",
     "output_type": "stream",
     "text": [
      "R2 score =  0.9989289700126998\n"
     ]
    }
   ],
   "source": [
    "from sklearn.metrics import r2_score\n",
    "print(\"R2 score = \",r2_score(y_test,LR_pred))"
   ]
  },
  {
   "cell_type": "code",
   "execution_count": 19,
   "metadata": {},
   "outputs": [
    {
     "name": "stdout",
     "output_type": "stream",
     "text": [
      "MAE =  69.26725730783063\n"
     ]
    }
   ],
   "source": [
    "from sklearn.metrics import mean_absolute_error\n",
    "print(\"MAE = \",mean_absolute_error(y_test,LR_pred))"
   ]
  },
  {
   "cell_type": "code",
   "execution_count": 20,
   "metadata": {},
   "outputs": [
    {
     "name": "stdout",
     "output_type": "stream",
     "text": [
      "Mean of predictions =  4658.896572696954\n"
     ]
    }
   ],
   "source": [
    "print(\"Mean of predictions = \",np.mean(LR_pred))"
   ]
  },
  {
   "cell_type": "code",
   "execution_count": 22,
   "metadata": {},
   "outputs": [
    {
     "name": "stdout",
     "output_type": "stream",
     "text": [
      "MSE =  7735.9125590717285\n",
      "RMSE =  87.95403662750067\n"
     ]
    }
   ],
   "source": [
    "from sklearn.metrics import mean_squared_error\n",
    "print(\"MSE = \",mean_squared_error(y_test,LR_pred))\n",
    "print(\"RMSE = \",np.sqrt(mean_squared_error(y_test,LR_pred)))"
   ]
  },
  {
   "cell_type": "markdown",
   "metadata": {},
   "source": [
    "## 2.2 Ridge and Lasso Model"
   ]
  },
  {
   "cell_type": "code",
   "execution_count": 26,
   "metadata": {},
   "outputs": [
    {
     "data": {
      "text/plain": [
       "array([1552.42852819, 8638.64820579, 5100.52046471, 5181.03212123,\n",
       "       1317.1769654 , 7183.43135726, 1075.35644591, 3463.13326207,\n",
       "       5700.29868182, 4238.77727994, 9222.13797792, 3788.58478556,\n",
       "       5009.26379737, 7228.6310414 , 1249.37170423, 1103.44807812,\n",
       "       7467.9934005 , 3680.84134369, 6250.85653836, 5786.99172117,\n",
       "       1127.16129116, 2202.01961121, 9265.9677956 , 9160.96172297,\n",
       "       1579.48001709, 1493.67729799, 1194.35908143, 6617.38549067,\n",
       "       7838.99863628, 3962.61678321, 3135.23490656, 1548.26138436,\n",
       "       7716.15629771, 3408.32022864, 1036.87119986, 3453.31621822,\n",
       "       7343.71392888, 1590.08521604, 8922.77107037, 4928.91383038,\n",
       "       3585.63514842, 1214.64411876, 1131.19332653, 6490.77152019,\n",
       "       1778.97697238, 4317.93718257, 9024.03820556, 4906.39538905,\n",
       "       2379.45492886, 6921.10226144, 1299.96423777, 8319.23694291,\n",
       "       6523.024738  , 6070.55968166, 8868.29279038, 2753.14102748,\n",
       "       2413.26269082, 6205.66831487,  802.77375355,  950.10067935,\n",
       "       5579.24681231, 6795.66117037, 8799.28038691, 1381.45480113,\n",
       "       1713.32191388, 3410.56202753, 6338.57280582, 7400.29252949,\n",
       "       1074.94620697, 3675.87861279, 7950.38702416, 3162.89210736,\n",
       "       7019.06374223, 1484.71493996, 7915.87001369, 7836.87215388,\n",
       "       6737.44408171, 4502.9883324 , 1179.71431264, 7624.09567035,\n",
       "       6516.39043261, 5752.06126777, 6625.65679196, 1284.33169805,\n",
       "       6985.75658086, 1349.33053207, 1043.40883736, 6726.88789267,\n",
       "       5680.34419816, 7464.7127445 , 7705.95914538, 1218.82846511,\n",
       "       3146.17334891, 6755.85857931, 3744.12652024, 8672.66397493,\n",
       "       6711.61822841, 5430.80679829, 3496.42193573, 3184.17624586,\n",
       "       1260.8023884 , 6879.89634159, 1638.37707149, 8497.41074533,\n",
       "       2452.30101343, 8324.05781362, 8639.55628418, 6405.51843907,\n",
       "       1457.62854091, 1253.46317814, 3374.99864193, 5851.25517311,\n",
       "       5721.36966376, 6903.83076724, 1742.29049713, 1076.41510006])"
      ]
     },
     "execution_count": 26,
     "metadata": {},
     "output_type": "execute_result"
    }
   ],
   "source": [
    "from sklearn.linear_model import Ridge\n",
    "rg = Ridge(alpha=1.2);\n",
    "rg.fit(X_train, y_train)\n",
    "rg_pred = rg.predict(X_test)\n",
    "rg_pred"
   ]
  },
  {
   "cell_type": "code",
   "execution_count": 27,
   "metadata": {},
   "outputs": [
    {
     "name": "stdout",
     "output_type": "stream",
     "text": [
      "R2 score =  0.9981121911431521\n",
      "MAE =  83.63203489276768\n",
      "MSE =  13635.401826264022\n",
      "RMSE =  116.77072332679978\n"
     ]
    }
   ],
   "source": [
    "print(\"R2 score = \",r2_score(y_test,rg_pred))\n",
    "print(\"MAE = \",mean_absolute_error(y_test,rg_pred))\n",
    "print(\"MSE = \",mean_squared_error(y_test,rg_pred))\n",
    "print(\"RMSE = \",np.sqrt(mean_squared_error(y_test,rg_pred)))"
   ]
  },
  {
   "cell_type": "code",
   "execution_count": 28,
   "metadata": {},
   "outputs": [
    {
     "data": {
      "text/plain": [
       "array([1553.63507417, 8610.85932381, 5066.25152748, 5120.16603871,\n",
       "       1319.39174107, 7192.23884032, 1064.39956986, 3474.33485253,\n",
       "       5676.29371486, 4255.56685905, 9199.849681  , 3794.73154427,\n",
       "       5027.49105705, 7223.95333554, 1237.72719005, 1108.42444426,\n",
       "       7566.33932404, 3703.54606755, 6214.2551081 , 5855.83944482,\n",
       "       1129.5261536 , 2213.67824107, 9233.56121883, 9158.31663891,\n",
       "       1582.77875167, 1481.35986425, 1189.1661223 , 6540.58464578,\n",
       "       7849.07546055, 3961.40962576, 3136.9891839 , 1546.24766457,\n",
       "       7755.42270096, 3375.01349141, 1027.77042521, 3458.07717317,\n",
       "       7347.60270873, 1589.81331144, 8982.39456398, 4949.05317231,\n",
       "       3580.33387891, 1211.25867863, 1124.05261519, 6532.83865704,\n",
       "       1773.54724311, 4321.231604  , 9006.32319314, 5078.21357167,\n",
       "       2363.61714696, 6902.2695031 , 1292.33146382, 8330.42314726,\n",
       "       6504.86333156, 6036.14360018, 8870.52122152, 2750.35522735,\n",
       "       2419.45563806, 6220.26191498,  792.83827427,  944.93614526,\n",
       "       5558.75620692, 6770.11637522, 8784.96828846, 1381.05118314,\n",
       "       1725.41652089, 3432.61871314, 6305.37349312, 7415.9355524 ,\n",
       "       1079.53704183, 3684.48339394, 7943.99905097, 3153.75847314,\n",
       "       7035.37197261, 1478.63201873, 7885.01050245, 7842.60469048,\n",
       "       6752.17551774, 4482.78648459, 1171.82278694, 7617.54678952,\n",
       "       6507.23733059, 5774.454186  , 6616.68249277, 1280.77366137,\n",
       "       6981.43440719, 1343.13147338, 1042.67015546, 6788.82987238,\n",
       "       5679.28466726, 7434.36513164, 7708.25211041, 1212.68271559,\n",
       "       3145.98963064, 6738.75844024, 3738.58165875, 8685.86029699,\n",
       "       6729.32187557, 5424.35012311, 3531.34903204, 3179.92255989,\n",
       "       1273.47893338, 6885.66726529, 1630.95246737, 8479.44674762,\n",
       "       2473.56427525, 8296.16485208, 8621.95589562, 6426.94573832,\n",
       "       1448.8552874 , 1249.13556595, 3394.33424567, 5827.18372151,\n",
       "       5725.44257134, 6904.00400231, 1732.00847268, 1071.15540118])"
      ]
     },
     "execution_count": 28,
     "metadata": {},
     "output_type": "execute_result"
    }
   ],
   "source": [
    "rg2 = Ridge(alpha=0.4)\n",
    "rg2.fit(X_train, y_train)\n",
    "rg2_pred = rg2.predict(X_test)\n",
    "rg2_pred"
   ]
  },
  {
   "cell_type": "code",
   "execution_count": 29,
   "metadata": {},
   "outputs": [
    {
     "name": "stdout",
     "output_type": "stream",
     "text": [
      "R2 score =  0.9985754207145634\n",
      "MAE =  74.96602781710357\n",
      "MSE =  10289.553902577685\n",
      "RMSE =  101.43743836758539\n"
     ]
    }
   ],
   "source": [
    "print(\"R2 score = \",r2_score(y_test,rg2_pred))\n",
    "print(\"MAE = \",mean_absolute_error(y_test,rg2_pred))\n",
    "print(\"MSE = \",mean_squared_error(y_test,rg2_pred))\n",
    "print(\"RMSE = \",np.sqrt(mean_squared_error(y_test,rg2_pred)))"
   ]
  },
  {
   "cell_type": "code",
   "execution_count": 30,
   "metadata": {},
   "outputs": [
    {
     "data": {
      "text/plain": [
       "array([1554.31120755, 8600.02979017, 5052.82877375, 5095.15898485,\n",
       "       1320.85982598, 7196.04559709, 1060.07157263, 3479.08740605,\n",
       "       5664.48165324, 4262.81802047, 9184.38396767, 3797.55625153,\n",
       "       5037.14710718, 7224.84511414, 1232.84468707, 1109.99954741,\n",
       "       7599.5929585 , 3712.41139125, 6200.92084174, 5880.6905727 ,\n",
       "       1130.69991389, 2217.82190141, 9222.15991649, 9160.92791863,\n",
       "       1584.35116036, 1476.64168569, 1187.5890442 , 6509.21349583,\n",
       "       7852.01930705, 3962.02291231, 3137.71950819, 1545.73376738,\n",
       "       7771.2955484 , 3361.46419947, 1024.64654732, 3461.59025355,\n",
       "       7348.75225521, 1589.89653181, 9004.47165067, 4952.39500287,\n",
       "       3579.43893948, 1210.66155491, 1120.70300047, 6544.42268574,\n",
       "       1771.69845502, 4323.40227849, 8997.04391696, 5135.23575736,\n",
       "       2358.06189558, 6891.94122115, 1290.0638395 , 8335.23336955,\n",
       "       6497.73335485, 6023.15975133, 8872.31400858, 2750.01548895,\n",
       "       2421.81989767, 6228.88374375,  789.35163676,  943.53331771,\n",
       "       5550.29111425, 6760.07504937, 8779.28569262, 1380.5341572 ,\n",
       "       1729.19803391, 3440.86522089, 6292.97106933, 7420.93252496,\n",
       "       1081.23387414, 3688.05608853, 7941.53521739, 3150.74385702,\n",
       "       7041.18059207, 1476.57201858, 7875.18534008, 7844.76160976,\n",
       "       6756.83456127, 4474.43443142, 1169.45993161, 7616.97418172,\n",
       "       6506.38685805, 5782.3593586 , 6615.06699046, 1279.53747423,\n",
       "       6980.54893656, 1341.21927023, 1042.56275131, 6808.08391208,\n",
       "       5677.52006771, 7421.90280791, 7713.32376467, 1211.05178755,\n",
       "       3147.37871885, 6732.725466  , 3735.12580773, 8690.08671608,\n",
       "       6734.14669309, 5424.11717597, 3543.88254455, 3180.06449479,\n",
       "       1277.87902108, 6886.42580287, 1628.7035085 , 8470.85588738,\n",
       "       2481.21203367, 8286.76863765, 8613.93451126, 6435.94624944,\n",
       "       1446.01803501, 1247.96340619, 3403.17813813, 5819.09207161,\n",
       "       5728.67026627, 6905.61919785, 1728.5242323 , 1069.30155507])"
      ]
     },
     "execution_count": 30,
     "metadata": {},
     "output_type": "execute_result"
    }
   ],
   "source": [
    "from sklearn.linear_model import Lasso\n",
    "ls = Lasso(alpha=0.75);\n",
    "ls.fit(X_train, y_train)\n",
    "ls_pred = ls.predict(X_test)\n",
    "ls_pred"
   ]
  },
  {
   "cell_type": "code",
   "execution_count": 31,
   "metadata": {},
   "outputs": [
    {
     "name": "stdout",
     "output_type": "stream",
     "text": [
      "R2 score =  0.9987015757900162\n",
      "MAE =  73.06557478807397\n",
      "MSE =  9378.351934230925\n",
      "RMSE =  96.84189142220905\n"
     ]
    }
   ],
   "source": [
    "print(\"R2 score = \",r2_score(y_test,ls_pred))\n",
    "print(\"MAE = \",mean_absolute_error(y_test,ls_pred))\n",
    "print(\"MSE = \",mean_squared_error(y_test,ls_pred))\n",
    "print(\"RMSE = \",np.sqrt(mean_squared_error(y_test,ls_pred)))"
   ]
  },
  {
   "cell_type": "code",
   "execution_count": 36,
   "metadata": {},
   "outputs": [
    {
     "data": {
      "text/plain": [
       "array([1555.45618355, 8598.62628102, 5055.35929397, 5094.20498325,\n",
       "       1322.58447002, 7195.29770287, 1060.96479975, 3480.19479387,\n",
       "       5661.0126275 , 4264.0609219 , 9173.57651915, 3798.33763119,\n",
       "       5041.91935735, 7228.02906555, 1233.30733592, 1110.52984296,\n",
       "       7593.81354149, 3712.65555195, 6202.70887338, 5879.16948777,\n",
       "       1131.99882026, 2217.90831967, 9222.16931324, 9163.78494303,\n",
       "       1585.49306137, 1477.60809853, 1189.26190084, 6508.35568505,\n",
       "       7850.22570813, 3963.98303915, 3137.84645089, 1546.7744426 ,\n",
       "       7771.81521355, 3361.33471672, 1026.13863103, 3463.99881924,\n",
       "       7346.66600305, 1590.99308398, 9002.36926851, 4946.61159347,\n",
       "       3581.25172096, 1212.3255251 , 1120.86217872, 6539.76410894,\n",
       "       1772.54445003, 4324.31800532, 8992.14699783, 5125.51140337,\n",
       "       2359.52378588, 6887.34195793, 1291.69593285, 8334.11639622,\n",
       "       6496.67792346, 6023.60829987, 8871.64817322, 2751.17339894,\n",
       "       2422.28251314, 6232.96553904,  790.86525657,  945.26973372,\n",
       "       5549.16529623, 6759.02535883, 8776.9378534 , 1380.81138428,\n",
       "       1728.86471663, 3441.84327562, 6293.43881707, 7418.60163243,\n",
       "       1082.09326475, 3688.72715585, 7939.89590402, 3151.4340747 ,\n",
       "       7039.4987029 , 1478.02994177, 7879.39147556, 7842.89926375,\n",
       "       6754.36847561, 4473.69292897, 1171.20677137, 7617.99195752,\n",
       "       6509.63256371, 5781.22234977, 6616.67993909, 1280.51911724,\n",
       "       6980.1938148 , 1342.68489562, 1043.70331588, 6802.62169467,\n",
       "       5675.30185805, 7419.9366079 , 7718.54794326, 1213.03807819,\n",
       "       3149.6023542 , 6732.89190914, 3733.81809765, 8687.73446748,\n",
       "       6730.46227127, 5426.46365178, 3543.16529869, 3182.77995558,\n",
       "       1278.33535953, 6883.23102082, 1630.16451699, 8466.83928698,\n",
       "       2481.24806141, 8287.02995381, 8610.49938071, 6436.26298022,\n",
       "       1447.58499103, 1249.5049521 , 3405.63340665, 5820.14116135,\n",
       "       5730.31530876, 6907.10694096, 1729.79378417, 1070.42421467])"
      ]
     },
     "execution_count": 36,
     "metadata": {},
     "output_type": "execute_result"
    }
   ],
   "source": [
    "ls2 = Lasso(alpha=1.5);\n",
    "ls2.fit(X_train, y_train)\n",
    "ls2_pred = ls2.predict(X_test)\n",
    "ls2_pred"
   ]
  },
  {
   "cell_type": "code",
   "execution_count": 37,
   "metadata": {},
   "outputs": [
    {
     "name": "stdout",
     "output_type": "stream",
     "text": [
      "R2 score =  0.9987112733547227\n",
      "MAE =  72.80724816457119\n",
      "MSE =  9308.30766516781\n",
      "RMSE =  96.47957123229668\n"
     ]
    }
   ],
   "source": [
    "print(\"R2 score = \",r2_score(y_test,ls2_pred))\n",
    "print(\"MAE = \",mean_absolute_error(y_test,ls2_pred))\n",
    "print(\"MSE = \",mean_squared_error(y_test,ls2_pred))\n",
    "print(\"RMSE = \",np.sqrt(mean_squared_error(y_test,ls2_pred)))"
   ]
  },
  {
   "cell_type": "markdown",
   "metadata": {},
   "source": [
    "## 2.3 Elastic Net Regression Model"
   ]
  },
  {
   "cell_type": "code",
   "execution_count": 38,
   "metadata": {},
   "outputs": [
    {
     "data": {
      "text/plain": [
       "array([1868.28059797, 8217.66344145, 5100.28693614, 5196.03383396,\n",
       "       1659.18394723, 6868.07096696, 1462.06160795, 3557.6912466 ,\n",
       "       5596.42121392, 4239.63313534, 8720.4163973 , 3851.52535951,\n",
       "       4930.93557786, 6936.18744506, 1617.03680867, 1464.37993574,\n",
       "       6999.55026048, 3733.88162878, 6114.22401263, 5548.80939388,\n",
       "       1489.01837396, 2432.45224952, 8784.40290632, 8646.88882119,\n",
       "       1889.93426011, 1836.67886306, 1560.47023419, 6503.00237431,\n",
       "       7454.63251919, 4020.56403108, 3276.28000694, 1868.83809211,\n",
       "       7305.33214458, 3572.58006314, 1425.31048604, 3558.28466517,\n",
       "       7015.00699086, 1903.96172504, 8350.37247547, 4843.63595994,\n",
       "       3688.66919457, 1575.02079371, 1505.66965564, 6213.68267009,\n",
       "       2079.51343051, 4326.71988176, 8542.23285517, 4621.67306662,\n",
       "       2632.38732508, 6671.75044803, 1657.21671669, 7874.53795602,\n",
       "       6317.52326034, 5944.49963746, 8377.06310135, 2943.58461407,\n",
       "       2628.12171394, 5999.27969628, 1218.94810221, 1342.95401608,\n",
       "       5483.74905877, 6573.59279757, 8335.91839601, 1717.86818626,\n",
       "       1996.40616647, 3499.11033869, 6181.87968566, 7051.06556778,\n",
       "       1438.67982937, 3747.63677961, 7571.16898269, 3316.54414443,\n",
       "       6709.7085234 , 1818.68067183, 7602.4895549 , 7451.01235838,\n",
       "       6460.46261238, 4524.08779777, 1551.24259884, 7282.43322265,\n",
       "       6307.29163724, 5575.404606  , 6399.74337379, 1636.57505508,\n",
       "       6709.80284038, 1699.29494557, 1418.09709433, 6392.70718314,\n",
       "       5542.7968603 , 7174.25342368, 7355.03984804, 1584.0123881 ,\n",
       "       3291.97466917, 6525.07335278, 3826.48326342, 8190.1721731 ,\n",
       "       6433.43965451, 5332.62798769, 3552.67194713, 3332.70603551,\n",
       "       1593.86651427, 6598.68004131, 1957.8764316 , 8072.48317402,\n",
       "       2642.61249648, 7937.15507243, 8199.85546633, 6160.57104511,\n",
       "       1799.81825329, 1610.66919234, 3470.74297119, 5732.63937859,\n",
       "       5576.80978037, 6636.41170369, 2055.12944086, 1453.3800319 ])"
      ]
     },
     "execution_count": 38,
     "metadata": {},
     "output_type": "execute_result"
    }
   ],
   "source": [
    "from sklearn.linear_model import ElasticNet\n",
    "EN = ElasticNet(alpha =1)\n",
    "EN.fit(X_train, y_train)\n",
    "EN_pred = EN.predict(X_test)\n",
    "EN_pred"
   ]
  },
  {
   "cell_type": "code",
   "execution_count": 39,
   "metadata": {},
   "outputs": [
    {
     "name": "stdout",
     "output_type": "stream",
     "text": [
      "R2 score =  0.9859310965815515\n",
      "MAE =  283.69897201523304\n",
      "MSE =  101617.88926329512\n",
      "RMSE =  318.7756095803051\n"
     ]
    }
   ],
   "source": [
    "print(\"R2 score = \",r2_score(y_test,EN_pred))\n",
    "print(\"MAE = \",mean_absolute_error(y_test,EN_pred))\n",
    "print(\"MSE = \",mean_squared_error(y_test,EN_pred))\n",
    "print(\"RMSE = \",np.sqrt(mean_squared_error(y_test,EN_pred)))"
   ]
  },
  {
   "cell_type": "code",
   "execution_count": 41,
   "metadata": {},
   "outputs": [
    {
     "data": {
      "text/plain": [
       "array([1716.21233947, 8439.31420984, 5137.80985951, 5238.97224288,\n",
       "       1494.76691793, 7010.77326716, 1285.83580924, 3505.28970928,\n",
       "       5663.66400349, 4227.51570312, 8971.90904967, 3816.41648675,\n",
       "       4959.52389785, 7082.57952095, 1449.95347346, 1288.53240754,\n",
       "       7151.35037954, 3692.03703648, 6211.66138354, 5614.58132634,\n",
       "       1314.5909119 , 2313.75701758, 9039.34901639, 8894.21320964,\n",
       "       1739.15169162, 1682.50405208, 1390.13139453, 6622.64049948,\n",
       "       7631.86846432, 3995.25237236, 3207.16903995, 1716.74614828,\n",
       "       7474.2041485 , 3520.36840247, 1246.94371784, 3505.79642547,\n",
       "       7166.32882694, 1753.97103809, 8581.12344351, 4867.25807524,\n",
       "       3643.7591072 , 1405.56101504, 1332.07899366, 6318.2685211 ,\n",
       "       1939.76381291, 4319.55117767, 8783.22283728, 4634.37541736,\n",
       "       2525.00592894, 6802.53218481, 1492.53282417, 8076.60807168,\n",
       "       6427.40233879, 6032.05331179, 8608.59067444, 2854.78101136,\n",
       "       2520.88035779, 6090.74904975, 1028.38629418, 1159.78031876,\n",
       "       5544.39574396, 6698.39010547, 8564.81394207, 1556.9039998 ,\n",
       "       1852.03757947, 3443.3925425 , 6283.4246949 , 7204.68564684,\n",
       "       1261.33334049, 3706.45375136, 7755.0871736 , 3249.63561829,\n",
       "       6843.23707459, 1663.58646764, 7787.47905238, 7628.06738729,\n",
       "       6579.27990049, 4528.22043913, 1380.2982789 , 7449.31341345,\n",
       "       6416.57288715, 5642.16688329, 6514.53881246, 1470.76087985,\n",
       "       6842.98979345, 1537.11612775, 1239.45472304, 6508.15904936,\n",
       "       5607.29798378, 7334.4151982 , 7526.15918888, 1415.03096262,\n",
       "       3223.71306211, 6647.1948391 , 3789.77367568, 8410.82080321,\n",
       "       6550.70187956, 5384.56347992, 3500.35033645, 3266.76370673,\n",
       "       1425.77248483, 6725.52463657, 1810.92162286, 8285.80005967,\n",
       "       2536.44803698, 8142.27100879, 8420.65925131, 6261.73926279,\n",
       "       1643.51655366, 1443.31442837, 3413.28064504, 5807.86820469,\n",
       "       5643.2948257 , 6765.2715345 , 1913.84440179, 1276.7598888 ])"
      ]
     },
     "execution_count": 41,
     "metadata": {},
     "output_type": "execute_result"
    }
   ],
   "source": [
    "EN2 = ElasticNet(alpha =0.5)\n",
    "EN2.fit(X_train, y_train)\n",
    "EN2_pred = EN2.predict(X_test)\n",
    "EN2_pred"
   ]
  },
  {
   "cell_type": "code",
   "execution_count": 42,
   "metadata": {},
   "outputs": [
    {
     "name": "stdout",
     "output_type": "stream",
     "text": [
      "R2 score =  0.9942578292586844\n",
      "MAE =  163.78878458061092\n",
      "MSE =  41474.96454889179\n",
      "RMSE =  203.65403150660137\n"
     ]
    }
   ],
   "source": [
    "print(\"R2 score = \",r2_score(y_test,EN2_pred))\n",
    "print(\"MAE = \",mean_absolute_error(y_test,EN2_pred))\n",
    "print(\"MSE = \",mean_squared_error(y_test,EN2_pred))\n",
    "print(\"RMSE = \",np.sqrt(mean_squared_error(y_test,EN2_pred)))"
   ]
  },
  {
   "cell_type": "markdown",
   "metadata": {},
   "source": [
    "## 2.4 Polynomial Regression Model"
   ]
  },
  {
   "cell_type": "code",
   "execution_count": 43,
   "metadata": {},
   "outputs": [],
   "source": [
    "from sklearn.preprocessing import PolynomialFeatures\n",
    "poly = PolynomialFeatures(degree = 2)\n",
    "poly.fit(X_train)\n",
    "X_train_poly = poly.transform(X_train)\n",
    "X_test_poly = poly.transform(X_test)"
   ]
  },
  {
   "cell_type": "code",
   "execution_count": 44,
   "metadata": {},
   "outputs": [
    {
     "name": "stdout",
     "output_type": "stream",
     "text": [
      "(407, 21)\n",
      "(116, 21)\n"
     ]
    }
   ],
   "source": [
    "print(X_train_poly.shape) \n",
    "print(X_test_poly.shape)"
   ]
  },
  {
   "cell_type": "code",
   "execution_count": 45,
   "metadata": {},
   "outputs": [
    {
     "data": {
      "text/plain": [
       "LinearRegression()"
      ]
     },
     "execution_count": 45,
     "metadata": {},
     "output_type": "execute_result"
    }
   ],
   "source": [
    "PR = LinearRegression()\n",
    "PR.fit(X_train_poly, y_train)"
   ]
  },
  {
   "cell_type": "code",
   "execution_count": 46,
   "metadata": {},
   "outputs": [
    {
     "data": {
      "text/plain": [
       "array([ 0.00000000e+00, -1.09311179e+01,  7.21537831e+01,  3.08283195e+02,\n",
       "        2.19843683e+03,  7.66737974e+01, -4.35526843e+03,  9.01028458e+03,\n",
       "        1.51393773e+03, -1.74253943e+03,  4.02328261e+01, -5.63613329e+03,\n",
       "       -3.29703685e+03,  5.49950847e+03, -3.09872304e+01,  5.62220952e+02,\n",
       "        4.94805395e+02, -9.65850283e+01, -2.03283714e+03,  1.32823417e+02,\n",
       "       -7.96693287e+00])"
      ]
     },
     "execution_count": 46,
     "metadata": {},
     "output_type": "execute_result"
    }
   ],
   "source": [
    "PR.coef_"
   ]
  },
  {
   "cell_type": "code",
   "execution_count": 47,
   "metadata": {},
   "outputs": [
    {
     "data": {
      "text/plain": [
       "4444.529380866258"
      ]
     },
     "execution_count": 47,
     "metadata": {},
     "output_type": "execute_result"
    }
   ],
   "source": [
    "PR.intercept_"
   ]
  },
  {
   "cell_type": "code",
   "execution_count": 48,
   "metadata": {},
   "outputs": [
    {
     "data": {
      "text/plain": [
       "array([1562.40493546, 8611.63747562, 5040.14487458, 4966.88863225,\n",
       "       1345.81977822, 7171.86152304, 1076.12212728, 3483.56852585,\n",
       "       5616.98878517, 4280.06072547, 9055.51014069, 3816.3997798 ,\n",
       "       5148.31450099, 7254.45043848, 1237.35032367, 1134.40788589,\n",
       "       7696.21452615, 3680.92423783, 6223.23821336, 5918.4396966 ,\n",
       "       1156.47323498, 2219.41256154, 9204.59967438, 9161.92109363,\n",
       "       1605.93840594, 1483.48500212, 1195.65846413, 6377.82965882,\n",
       "       7920.65230959, 3976.10787269, 3118.10566427, 1567.03275659,\n",
       "       7911.79642923, 3310.00882173, 1049.24587848, 3443.48153416,\n",
       "       7295.23889679, 1598.4239713 , 9023.18201544, 4905.47398194,\n",
       "       3584.92290508, 1247.7758009 , 1139.00941401, 6687.25700285,\n",
       "       1790.35244321, 4314.40166794, 8969.69370322, 4709.25611064,\n",
       "       2339.10866469, 6958.6598998 , 1320.79130807, 8324.39611615,\n",
       "       6530.3922041 , 6030.49722839, 8839.74582156, 2739.15375622,\n",
       "       2425.23833967, 6297.91250128,  824.87224338,  979.89143129,\n",
       "       5510.41769769, 6722.86150458, 8724.54342453, 1401.95587521,\n",
       "       1734.31092496, 3451.17422457, 6284.4105024 , 7499.5142216 ,\n",
       "       1104.54285597, 3709.99245699, 7893.11786316, 3129.11811469,\n",
       "       7113.8697659 , 1454.57638763, 7858.68257162, 7823.24859623,\n",
       "       6774.04900953, 4469.03207844, 1200.57046235, 7585.7510285 ,\n",
       "       6521.82206643, 5871.6294106 , 6618.68274463, 1304.89335143,\n",
       "       6949.12003804, 1364.75996168, 1070.60416877, 6860.36632114,\n",
       "       5721.68309493, 7446.54988008, 7723.27023211, 1230.74244253,\n",
       "       3128.34514454, 6838.06879112, 3730.76814641, 8701.29821715,\n",
       "       6710.51186867, 5388.12015915, 3530.27005489, 3152.06653516,\n",
       "       1287.97781522, 6898.26478798, 1649.27242545, 8415.29135884,\n",
       "       2478.01402631, 8231.81094077, 8533.81383678, 6452.98876523,\n",
       "       1463.89089601, 1269.09783406, 3388.76901749, 5764.78566592,\n",
       "       5715.67714444, 6950.10329313, 1741.0632997 , 1090.07714273])"
      ]
     },
     "execution_count": 48,
     "metadata": {},
     "output_type": "execute_result"
    }
   ],
   "source": [
    "PR_pred = PR.predict(X_test_poly)\n",
    "PR_pred"
   ]
  },
  {
   "cell_type": "code",
   "execution_count": 49,
   "metadata": {},
   "outputs": [
    {
     "name": "stdout",
     "output_type": "stream",
     "text": [
      "R2 score =  0.9988754865074638\n",
      "MAE =  55.559027916917856\n",
      "MSE =  8122.217074131061\n",
      "RMSE =  90.12334366927949\n"
     ]
    }
   ],
   "source": [
    "print(\"R2 score = \",r2_score(y_test,PR_pred))\n",
    "print(\"MAE = \",mean_absolute_error(y_test,PR_pred))\n",
    "print(\"MSE = \",mean_squared_error(y_test,PR_pred))\n",
    "print(\"RMSE = \",np.sqrt(mean_squared_error(y_test,PR_pred)))"
   ]
  },
  {
   "cell_type": "markdown",
   "metadata": {},
   "source": [
    "## 2.5 Supprot Vector Regression Model"
   ]
  },
  {
   "cell_type": "code",
   "execution_count": 54,
   "metadata": {},
   "outputs": [
    {
     "data": {
      "text/plain": [
       "array([2762.58143853, 6752.09524188, 4862.86043167, 4864.88840514,\n",
       "       2592.16572038, 5866.9722169 , 2474.99295368, 3816.76220905,\n",
       "       5111.10025159, 4249.97726658, 7071.07314647, 4022.16261548,\n",
       "       4823.71017973, 5944.46763649, 2589.10642528, 2465.03227265,\n",
       "       6083.38116765, 3872.91301753, 5487.56696591, 5106.62092668,\n",
       "       2493.05332517, 3061.69422159, 7093.9626698 , 6993.10304568,\n",
       "       2740.96622686, 2711.028325  , 2557.50531565, 5717.4890125 ,\n",
       "       6289.13892306, 4139.1755942 , 3579.9596522 , 2734.61240568,\n",
       "       6209.49718814, 3842.6065449 , 2446.83354646, 3766.7309577 ,\n",
       "       5948.55022406, 2781.60103622, 6817.26758473, 4662.76303784,\n",
       "       3908.32727206, 2515.87713073, 2494.14186411, 5655.27908493,\n",
       "       2834.42952599, 4270.41368332, 6944.75910959, 4600.09568099,\n",
       "       3185.74492809, 5857.10881876, 2569.54648931, 6502.61433799,\n",
       "       5574.92702445, 5361.03784044, 6811.60683855, 3364.90747167,\n",
       "       3196.75822934, 5376.21717317, 2296.6012192 , 2377.26441591,\n",
       "       5013.31174518, 5701.14703813, 6785.53721122, 2632.82487283,\n",
       "       2813.44213744, 3839.47065446, 5489.90981298, 6041.9359236 ,\n",
       "       2468.30489848, 3979.43446225, 6305.12961049, 3604.97579367,\n",
       "       5822.4748965 , 2766.15227628, 6363.12256553, 6234.72959616,\n",
       "       5640.28447976, 4450.1736857 , 2501.21610321, 6125.41370849,\n",
       "       5550.14479626, 5153.90381537, 5595.22584384, 2579.81383515,\n",
       "       5765.25027283, 2610.75434013, 2450.04767962, 5682.55933974,\n",
       "       5111.41160544, 6116.83580075, 6192.86956711, 2549.52126519,\n",
       "       3594.30213921, 5758.50928192, 4068.25616944, 6718.62155207,\n",
       "       5611.77028506, 4893.96627664, 3805.30237893, 3616.1964584 ,\n",
       "       2569.76670765, 5728.76228161, 2767.24153878, 6631.3327246 ,\n",
       "       3226.48832364, 6542.96682925, 6700.22365174, 5442.4791838 ,\n",
       "       2673.75306161, 2575.46940694, 3721.4416682 , 5155.22024066,\n",
       "       5060.68648942, 5762.67777036, 2812.09392815, 2483.96960429])"
      ]
     },
     "execution_count": 54,
     "metadata": {},
     "output_type": "execute_result"
    }
   ],
   "source": [
    "from sklearn.svm import SVR\n",
    "sv_reg_model = SVR(kernel ='linear');\n",
    "sv_reg_model.fit(X_train,y_train)\n",
    "sv_reg_pred = sv_reg_model.predict(X_test)\n",
    "sv_reg_pred"
   ]
  },
  {
   "cell_type": "code",
   "execution_count": 55,
   "metadata": {},
   "outputs": [
    {
     "name": "stdout",
     "output_type": "stream",
     "text": [
      "R2 score =  0.8069954665141141\n",
      "MAE =  1062.7265814329803\n",
      "MSE =  1394047.0502743407\n",
      "RMSE =  1180.6976963957966\n"
     ]
    }
   ],
   "source": [
    "print(\"R2 score = \",r2_score(y_test,sv_reg_pred))\n",
    "print(\"MAE = \",mean_absolute_error(y_test,sv_reg_pred))\n",
    "print(\"MSE = \",mean_squared_error(y_test,sv_reg_pred))\n",
    "print(\"RMSE = \",np.sqrt(mean_squared_error(y_test,sv_reg_pred)))"
   ]
  },
  {
   "cell_type": "code",
   "execution_count": 58,
   "metadata": {},
   "outputs": [
    {
     "data": {
      "text/plain": [
       "array([3915.28035062, 5485.44485577, 4341.17418624, 4322.60598478,\n",
       "       3840.7096051 , 4651.93317274, 3732.05384199, 4295.47292394,\n",
       "       4345.4361202 , 4311.66929004, 6018.32339352, 4303.32030449,\n",
       "       4371.53914572, 4648.32337532, 3808.23281063, 3734.837837  ,\n",
       "       4791.4028089 , 4296.61570906, 4443.43083693, 4349.34358761,\n",
       "       3747.09389716, 4127.53896838, 6128.58017272, 5996.61556002,\n",
       "       3948.14612461, 3924.49554858, 3773.38422736, 4517.48949916,\n",
       "       4901.11880843, 4305.46118396, 4263.85284602, 3937.69302797,\n",
       "       4822.87601986, 4292.18910104, 3711.67150333, 4289.7132255 ,\n",
       "       4734.14908035, 3935.26710891, 5640.91780202, 4317.40943787,\n",
       "       4300.04917883, 3788.30835411, 3758.63200606, 4704.90598423,\n",
       "       4014.09076484, 4311.71387422, 5834.46781751, 4324.10691712,\n",
       "       4174.12405578, 4616.22194879, 3832.4445736 , 5243.70949761,\n",
       "       4455.54738344, 4397.17842259, 5729.11560355, 4218.60927898,\n",
       "       4179.24085   , 4395.71835448, 3576.74057297, 3658.70993683,\n",
       "       4338.09995053, 4528.33345485, 5687.14616935, 3869.55234295,\n",
       "       3990.92699328, 4258.81842467, 4427.2158523 , 4696.54246697,\n",
       "       3713.86735092, 4290.10179445, 5035.85235983, 4267.36525335,\n",
       "       4564.14127076, 3827.26825106, 5000.19303698, 4946.9867218 ,\n",
       "       4490.65117061, 4312.50681816, 3775.7535562 , 4854.56949515,\n",
       "       4451.70660266, 4372.590169  , 4477.82040613, 3829.05552847,\n",
       "       4594.62916466, 3860.18833569, 3704.65873485, 4535.33275465,\n",
       "       4353.24905514, 4752.54301527, 4862.30968791, 3800.98077266,\n",
       "       4267.90512384, 4559.03077022, 4269.43868847, 5481.68477191,\n",
       "       4488.83908896, 4336.18152449, 4296.17231506, 4269.42351958,\n",
       "       3799.30649222, 4529.68399335, 3973.23514227, 5402.24281964,\n",
       "       4183.27631029, 5293.82968397, 5550.2347074 , 4424.86923299,\n",
       "       3907.6842813 , 3811.63534583, 4287.92159309, 4367.52716077,\n",
       "       4349.26095781, 4539.25205083, 3999.22425622, 3717.69645128])"
      ]
     },
     "execution_count": 58,
     "metadata": {},
     "output_type": "execute_result"
    }
   ],
   "source": [
    "from sklearn.svm import SVR\n",
    "sv2_reg_model = SVR(kernel ='poly');\n",
    "sv2_reg_model.fit(X_train,y_train)\n",
    "sv2_reg_pred = sv2_reg_model.predict(X_test)\n",
    "sv2_reg_pred"
   ]
  },
  {
   "cell_type": "code",
   "execution_count": 59,
   "metadata": {},
   "outputs": [
    {
     "name": "stdout",
     "output_type": "stream",
     "text": [
      "R2 score =  0.32055304382575045\n",
      "MAE =  2054.160251735923\n",
      "MSE =  4907558.428630683\n",
      "RMSE =  2215.3009792420266\n"
     ]
    }
   ],
   "source": [
    "print(\"R2 score = \",r2_score(y_test,sv2_reg_pred))\n",
    "print(\"MAE = \",mean_absolute_error(y_test,sv2_reg_pred))\n",
    "print(\"MSE = \",mean_squared_error(y_test,sv2_reg_pred))\n",
    "print(\"RMSE = \",np.sqrt(mean_squared_error(y_test,sv2_reg_pred)))"
   ]
  },
  {
   "cell_type": "markdown",
   "metadata": {},
   "source": [
    "## 2.6 KNN Regression Model"
   ]
  },
  {
   "cell_type": "code",
   "execution_count": 41,
   "metadata": {},
   "outputs": [],
   "source": [
    "from sklearn.model_selection import GridSearchCV\n",
    "from sklearn.neighbors import KNeighborsRegressor"
   ]
  },
  {
   "cell_type": "code",
   "execution_count": 42,
   "metadata": {},
   "outputs": [
    {
     "data": {
      "text/plain": [
       "[2, 3, 4, 5, 6, 7, 8, 9, 10, 11, 12, 13, 14, 15, 16, 17, 18, 19, 20]"
      ]
     },
     "execution_count": 42,
     "metadata": {},
     "output_type": "execute_result"
    }
   ],
   "source": [
    "x_list = []\n",
    "for i in range (2,21):\n",
    "    x_list.append(i)\n",
    "x_list"
   ]
  },
  {
   "cell_type": "code",
   "execution_count": 43,
   "metadata": {},
   "outputs": [
    {
     "data": {
      "text/plain": [
       "{'n_neighbors': 7}"
      ]
     },
     "execution_count": 43,
     "metadata": {},
     "output_type": "execute_result"
    }
   ],
   "source": [
    "params = {'n_neighbors' : x_list}\n",
    "knnr = KNeighborsRegressor()\n",
    "check = GridSearchCV(knnr,params,cv=5)\n",
    "check.fit(X_train,y_train)\n",
    "check.best_params_   "
   ]
  },
  {
   "cell_type": "code",
   "execution_count": 44,
   "metadata": {},
   "outputs": [
    {
     "name": "stdout",
     "output_type": "stream",
     "text": [
      "R2 score for i =  2  is :  0.9943964612815741\n",
      "RMSE for i =  2  is :  201.18062328575525\n",
      "R2 score for i =  3  is :  0.9947595772211956\n",
      "RMSE for i =  3  is :  194.55308585255867\n",
      "R2 score for i =  4  is :  0.994497964012434\n",
      "RMSE for i =  4  is :  199.35019926753418\n",
      "R2 score for i =  5  is :  0.994034585684698\n",
      "RMSE for i =  5  is :  207.57510525010076\n",
      "R2 score for i =  6  is :  0.9947438922067788\n",
      "RMSE for i =  6  is :  194.8440249711898\n",
      "R2 score for i =  7  is :  0.9946370797598841\n",
      "RMSE for i =  7  is :  196.81383768462678\n",
      "R2 score for i =  8  is :  0.9942127324364962\n",
      "RMSE for i =  8  is :  204.4521780891095\n",
      "R2 score for i =  9  is :  0.9938646834576448\n",
      "RMSE for i =  9  is :  210.51034740948455\n",
      "R2 score for i =  10  is :  0.993198466563495\n",
      "RMSE for i =  10  is :  221.6452249652304\n",
      "R2 score for i =  11  is :  0.9922985600543194\n",
      "RMSE for i =  11  is :  235.85274075545507\n",
      "R2 score for i =  12  is :  0.9918655207746911\n",
      "RMSE for i =  12  is :  242.39286835810682\n",
      "R2 score for i =  13  is :  0.9914223340344656\n",
      "RMSE for i =  13  is :  248.90838424890276\n",
      "R2 score for i =  14  is :  0.9913040627213421\n",
      "RMSE for i =  14  is :  250.61851948963232\n",
      "R2 score for i =  15  is :  0.9911542030610597\n",
      "RMSE for i =  15  is :  252.76878656733638\n",
      "R2 score for i =  16  is :  0.9911378299241443\n",
      "RMSE for i =  16  is :  253.00260974090173\n",
      "R2 score for i =  17  is :  0.9912743808675417\n",
      "RMSE for i =  17  is :  251.0458733844416\n",
      "R2 score for i =  18  is :  0.9914759596205974\n",
      "RMSE for i =  18  is :  248.1291055120472\n",
      "R2 score for i =  19  is :  0.9913667527961505\n",
      "RMSE for i =  19  is :  249.71351569765483\n",
      "R2 score for i =  20  is :  0.9910395565836175\n",
      "RMSE for i =  20  is :  254.40152574262302\n"
     ]
    }
   ],
   "source": [
    "r2_val = []\n",
    "rmse_val = []\n",
    "for i in range(2,21):\n",
    "    knnr_model = KNeighborsRegressor(n_neighbors = i)\n",
    "    knnr_model.fit(X_train,y_train)\n",
    "    pred = knnr_model.predict(X_test)\n",
    "    print('R2 score for i = ',i,\" is : \",r2_score(y_test,pred))\n",
    "    print('RMSE for i = ',i,\" is : \",np.sqrt(mean_squared_error(y_test,pred)))\n",
    "    r2_val.append(r2_score(y_test,pred))\n",
    "    rmse_val.append(np.sqrt(mean_squared_error(y_test,pred)))\n",
    "    ## found some error as per the results of best_params_ and above code"
   ]
  },
  {
   "cell_type": "code",
   "execution_count": 45,
   "metadata": {},
   "outputs": [
    {
     "data": {
      "image/png": "[encoded data removed]",
      "text/plain": [
       "<Figure size 432x288 with 1 Axes>"
      ]
     },
     "metadata": {
      "needs_background": "light"
     },
     "output_type": "display_data"
    }
   ],
   "source": [
    "# plt.plot(x_list,r2_val,\"bo--\",label = \"r2 score\")\n",
    "plt.plot(x_list,rmse_val,\"g+:\",label = \"rmse values\")\n",
    "plt.xlabel('k - neighbors')\n",
    "plt.ylabel('rmse value')\n",
    "plt.title(\"Variation of rmse values wrt k - neighbors\")\n",
    "# plt.legend()\n",
    "plt.show()"
   ]
  },
  {
   "cell_type": "code",
   "execution_count": 46,
   "metadata": {},
   "outputs": [
    {
     "data": {
      "image/png": "[encoded data removed]",
      "text/plain": [
       "<Figure size 432x288 with 1 Axes>"
      ]
     },
     "metadata": {
      "needs_background": "light"
     },
     "output_type": "display_data"
    }
   ],
   "source": [
    "plt.plot(x_list,r2_val,\"bo--\",label = \"r2 score\")\n",
    "# plt.plot(x_list,rmse_val,\"g+:\",label = \"rmse values\")\n",
    "plt.xlabel('k - neighbors')\n",
    "plt.ylabel('r2 score')\n",
    "plt.title(\"Variation of r2 score wrt k - neighbors\")\n",
    "# plt.legend()\n",
    "plt.show()"
   ]
  },
  {
   "cell_type": "code",
   "execution_count": null,
   "metadata": {},
   "outputs": [],
   "source": []
  },
  {
   "cell_type": "markdown",
   "metadata": {},
   "source": [
    "## 3. Dataset of Reliance Steel & Aluminum Co."
   ]
  },
  {
   "cell_type": "code",
   "execution_count": 47,
   "metadata": {},
   "outputs": [
    {
     "data": {
      "text/html": [
       "<div>\n",
       "<style scoped>\n",
       "    .dataframe tbody tr th:only-of-type {\n",
       "        vertical-align: middle;\n",
       "    }\n",
       "\n",
       "    .dataframe tbody tr th {\n",
       "        vertical-align: top;\n",
       "    }\n",
       "\n",
       "    .dataframe thead th {\n",
       "        text-align: right;\n",
       "    }\n",
       "</style>\n",
       "<table border=\"1\" class=\"dataframe\">\n",
       "  <thead>\n",
       "    <tr style=\"text-align: right;\">\n",
       "      <th></th>\n",
       "      <th>Date</th>\n",
       "      <th>Open</th>\n",
       "      <th>High</th>\n",
       "      <th>Low</th>\n",
       "      <th>Close</th>\n",
       "      <th>Adj Close</th>\n",
       "      <th>Volume</th>\n",
       "    </tr>\n",
       "  </thead>\n",
       "  <tbody>\n",
       "    <tr>\n",
       "      <th>0</th>\n",
       "      <td>2011-06-06</td>\n",
       "      <td>46.860001</td>\n",
       "      <td>48.220001</td>\n",
       "      <td>46.740002</td>\n",
       "      <td>47.950001</td>\n",
       "      <td>38.797211</td>\n",
       "      <td>1448300</td>\n",
       "    </tr>\n",
       "    <tr>\n",
       "      <th>1</th>\n",
       "      <td>2011-06-13</td>\n",
       "      <td>48.020000</td>\n",
       "      <td>48.570000</td>\n",
       "      <td>46.259998</td>\n",
       "      <td>47.090000</td>\n",
       "      <td>38.101387</td>\n",
       "      <td>4599700</td>\n",
       "    </tr>\n",
       "    <tr>\n",
       "      <th>2</th>\n",
       "      <td>2011-06-20</td>\n",
       "      <td>46.900002</td>\n",
       "      <td>49.139999</td>\n",
       "      <td>46.750000</td>\n",
       "      <td>48.070000</td>\n",
       "      <td>38.894306</td>\n",
       "      <td>4021900</td>\n",
       "    </tr>\n",
       "    <tr>\n",
       "      <th>3</th>\n",
       "      <td>2011-06-27</td>\n",
       "      <td>48.040001</td>\n",
       "      <td>50.220001</td>\n",
       "      <td>47.439999</td>\n",
       "      <td>50.049999</td>\n",
       "      <td>40.496365</td>\n",
       "      <td>3997000</td>\n",
       "    </tr>\n",
       "    <tr>\n",
       "      <th>4</th>\n",
       "      <td>2011-07-04</td>\n",
       "      <td>49.889999</td>\n",
       "      <td>49.889999</td>\n",
       "      <td>48.380001</td>\n",
       "      <td>49.570000</td>\n",
       "      <td>40.107986</td>\n",
       "      <td>4583300</td>\n",
       "    </tr>\n",
       "    <tr>\n",
       "      <th>5</th>\n",
       "      <td>2011-07-11</td>\n",
       "      <td>48.770000</td>\n",
       "      <td>50.000000</td>\n",
       "      <td>48.000000</td>\n",
       "      <td>49.169998</td>\n",
       "      <td>39.784332</td>\n",
       "      <td>3855400</td>\n",
       "    </tr>\n",
       "    <tr>\n",
       "      <th>6</th>\n",
       "      <td>2011-07-18</td>\n",
       "      <td>49.110001</td>\n",
       "      <td>50.570000</td>\n",
       "      <td>48.419998</td>\n",
       "      <td>50.430000</td>\n",
       "      <td>40.803829</td>\n",
       "      <td>3088500</td>\n",
       "    </tr>\n",
       "    <tr>\n",
       "      <th>7</th>\n",
       "      <td>2011-07-25</td>\n",
       "      <td>49.880001</td>\n",
       "      <td>50.610001</td>\n",
       "      <td>45.799999</td>\n",
       "      <td>47.009998</td>\n",
       "      <td>38.036644</td>\n",
       "      <td>4031200</td>\n",
       "    </tr>\n",
       "    <tr>\n",
       "      <th>8</th>\n",
       "      <td>2011-08-01</td>\n",
       "      <td>47.680000</td>\n",
       "      <td>47.889999</td>\n",
       "      <td>40.830002</td>\n",
       "      <td>42.439999</td>\n",
       "      <td>34.338982</td>\n",
       "      <td>5329600</td>\n",
       "    </tr>\n",
       "    <tr>\n",
       "      <th>9</th>\n",
       "      <td>2011-08-08</td>\n",
       "      <td>40.849998</td>\n",
       "      <td>41.340000</td>\n",
       "      <td>36.959999</td>\n",
       "      <td>40.759998</td>\n",
       "      <td>32.979652</td>\n",
       "      <td>8206300</td>\n",
       "    </tr>\n",
       "    <tr>\n",
       "      <th>10</th>\n",
       "      <td>2011-08-15</td>\n",
       "      <td>41.230000</td>\n",
       "      <td>41.639999</td>\n",
       "      <td>36.740002</td>\n",
       "      <td>37.290001</td>\n",
       "      <td>30.172028</td>\n",
       "      <td>3704100</td>\n",
       "    </tr>\n",
       "    <tr>\n",
       "      <th>11</th>\n",
       "      <td>2011-08-22</td>\n",
       "      <td>38.500000</td>\n",
       "      <td>39.110001</td>\n",
       "      <td>36.709999</td>\n",
       "      <td>38.900002</td>\n",
       "      <td>31.567348</td>\n",
       "      <td>2202900</td>\n",
       "    </tr>\n",
       "    <tr>\n",
       "      <th>12</th>\n",
       "      <td>2011-08-29</td>\n",
       "      <td>39.730000</td>\n",
       "      <td>43.650002</td>\n",
       "      <td>38.430000</td>\n",
       "      <td>38.790001</td>\n",
       "      <td>31.478069</td>\n",
       "      <td>3057700</td>\n",
       "    </tr>\n",
       "    <tr>\n",
       "      <th>13</th>\n",
       "      <td>2011-09-05</td>\n",
       "      <td>37.500000</td>\n",
       "      <td>40.549999</td>\n",
       "      <td>36.610001</td>\n",
       "      <td>38.500000</td>\n",
       "      <td>31.242729</td>\n",
       "      <td>2520400</td>\n",
       "    </tr>\n",
       "    <tr>\n",
       "      <th>14</th>\n",
       "      <td>2011-09-12</td>\n",
       "      <td>38.000000</td>\n",
       "      <td>41.459999</td>\n",
       "      <td>37.529999</td>\n",
       "      <td>40.580002</td>\n",
       "      <td>32.930649</td>\n",
       "      <td>3323100</td>\n",
       "    </tr>\n",
       "    <tr>\n",
       "      <th>15</th>\n",
       "      <td>2011-09-19</td>\n",
       "      <td>39.580002</td>\n",
       "      <td>39.910000</td>\n",
       "      <td>32.750000</td>\n",
       "      <td>34.180000</td>\n",
       "      <td>27.737055</td>\n",
       "      <td>2867400</td>\n",
       "    </tr>\n",
       "    <tr>\n",
       "      <th>16</th>\n",
       "      <td>2011-09-26</td>\n",
       "      <td>35.180000</td>\n",
       "      <td>38.689999</td>\n",
       "      <td>33.380001</td>\n",
       "      <td>34.009998</td>\n",
       "      <td>27.599108</td>\n",
       "      <td>2954000</td>\n",
       "    </tr>\n",
       "    <tr>\n",
       "      <th>17</th>\n",
       "      <td>2011-10-03</td>\n",
       "      <td>33.650002</td>\n",
       "      <td>37.709999</td>\n",
       "      <td>31.090000</td>\n",
       "      <td>36.099998</td>\n",
       "      <td>29.295135</td>\n",
       "      <td>4465800</td>\n",
       "    </tr>\n",
       "    <tr>\n",
       "      <th>18</th>\n",
       "      <td>2011-10-10</td>\n",
       "      <td>37.220001</td>\n",
       "      <td>40.060001</td>\n",
       "      <td>37.070000</td>\n",
       "      <td>39.799999</td>\n",
       "      <td>32.297691</td>\n",
       "      <td>2008200</td>\n",
       "    </tr>\n",
       "    <tr>\n",
       "      <th>19</th>\n",
       "      <td>2011-10-17</td>\n",
       "      <td>39.509998</td>\n",
       "      <td>40.930000</td>\n",
       "      <td>37.580002</td>\n",
       "      <td>40.509998</td>\n",
       "      <td>32.873848</td>\n",
       "      <td>2678300</td>\n",
       "    </tr>\n",
       "    <tr>\n",
       "      <th>20</th>\n",
       "      <td>2011-10-24</td>\n",
       "      <td>40.880001</td>\n",
       "      <td>46.700001</td>\n",
       "      <td>39.700001</td>\n",
       "      <td>45.990002</td>\n",
       "      <td>37.320858</td>\n",
       "      <td>3011300</td>\n",
       "    </tr>\n",
       "    <tr>\n",
       "      <th>21</th>\n",
       "      <td>2011-10-31</td>\n",
       "      <td>45.150002</td>\n",
       "      <td>45.860001</td>\n",
       "      <td>41.200001</td>\n",
       "      <td>45.520000</td>\n",
       "      <td>36.939465</td>\n",
       "      <td>4450800</td>\n",
       "    </tr>\n",
       "    <tr>\n",
       "      <th>22</th>\n",
       "      <td>2011-11-07</td>\n",
       "      <td>45.619999</td>\n",
       "      <td>46.320000</td>\n",
       "      <td>42.410000</td>\n",
       "      <td>45.259998</td>\n",
       "      <td>36.728474</td>\n",
       "      <td>2761900</td>\n",
       "    </tr>\n",
       "    <tr>\n",
       "      <th>23</th>\n",
       "      <td>2011-11-14</td>\n",
       "      <td>45.150002</td>\n",
       "      <td>46.689999</td>\n",
       "      <td>42.880001</td>\n",
       "      <td>44.070000</td>\n",
       "      <td>35.762794</td>\n",
       "      <td>3231800</td>\n",
       "    </tr>\n",
       "    <tr>\n",
       "      <th>24</th>\n",
       "      <td>2011-11-21</td>\n",
       "      <td>42.770000</td>\n",
       "      <td>44.080002</td>\n",
       "      <td>41.810001</td>\n",
       "      <td>42.110001</td>\n",
       "      <td>34.172253</td>\n",
       "      <td>3263000</td>\n",
       "    </tr>\n",
       "    <tr>\n",
       "      <th>25</th>\n",
       "      <td>2011-11-28</td>\n",
       "      <td>44.279999</td>\n",
       "      <td>49.799999</td>\n",
       "      <td>43.639999</td>\n",
       "      <td>48.860001</td>\n",
       "      <td>39.763000</td>\n",
       "      <td>3968100</td>\n",
       "    </tr>\n",
       "    <tr>\n",
       "      <th>26</th>\n",
       "      <td>2011-12-05</td>\n",
       "      <td>49.830002</td>\n",
       "      <td>50.919998</td>\n",
       "      <td>47.619999</td>\n",
       "      <td>49.270000</td>\n",
       "      <td>40.096661</td>\n",
       "      <td>3644400</td>\n",
       "    </tr>\n",
       "    <tr>\n",
       "      <th>27</th>\n",
       "      <td>2011-12-12</td>\n",
       "      <td>47.930000</td>\n",
       "      <td>48.410000</td>\n",
       "      <td>44.650002</td>\n",
       "      <td>47.500000</td>\n",
       "      <td>38.656212</td>\n",
       "      <td>3598700</td>\n",
       "    </tr>\n",
       "    <tr>\n",
       "      <th>28</th>\n",
       "      <td>2011-12-19</td>\n",
       "      <td>47.709999</td>\n",
       "      <td>49.880001</td>\n",
       "      <td>45.990002</td>\n",
       "      <td>49.830002</td>\n",
       "      <td>40.552406</td>\n",
       "      <td>2650500</td>\n",
       "    </tr>\n",
       "    <tr>\n",
       "      <th>29</th>\n",
       "      <td>2011-12-26</td>\n",
       "      <td>49.470001</td>\n",
       "      <td>49.950001</td>\n",
       "      <td>47.490002</td>\n",
       "      <td>48.689999</td>\n",
       "      <td>39.624641</td>\n",
       "      <td>1298500</td>\n",
       "    </tr>\n",
       "    <tr>\n",
       "      <th>...</th>\n",
       "      <td>...</td>\n",
       "      <td>...</td>\n",
       "      <td>...</td>\n",
       "      <td>...</td>\n",
       "      <td>...</td>\n",
       "      <td>...</td>\n",
       "      <td>...</td>\n",
       "    </tr>\n",
       "    <tr>\n",
       "      <th>494</th>\n",
       "      <td>2020-11-23</td>\n",
       "      <td>119.500000</td>\n",
       "      <td>123.089996</td>\n",
       "      <td>118.360001</td>\n",
       "      <td>121.230003</td>\n",
       "      <td>120.170486</td>\n",
       "      <td>1078200</td>\n",
       "    </tr>\n",
       "    <tr>\n",
       "      <th>495</th>\n",
       "      <td>2020-11-30</td>\n",
       "      <td>120.610001</td>\n",
       "      <td>122.029999</td>\n",
       "      <td>117.760002</td>\n",
       "      <td>121.529999</td>\n",
       "      <td>120.467857</td>\n",
       "      <td>2154600</td>\n",
       "    </tr>\n",
       "    <tr>\n",
       "      <th>496</th>\n",
       "      <td>2020-12-07</td>\n",
       "      <td>121.050003</td>\n",
       "      <td>122.849998</td>\n",
       "      <td>119.080002</td>\n",
       "      <td>121.279999</td>\n",
       "      <td>120.220047</td>\n",
       "      <td>1738200</td>\n",
       "    </tr>\n",
       "    <tr>\n",
       "      <th>497</th>\n",
       "      <td>2020-12-14</td>\n",
       "      <td>122.650002</td>\n",
       "      <td>122.870003</td>\n",
       "      <td>117.110001</td>\n",
       "      <td>117.739998</td>\n",
       "      <td>116.710983</td>\n",
       "      <td>2553200</td>\n",
       "    </tr>\n",
       "    <tr>\n",
       "      <th>498</th>\n",
       "      <td>2020-12-21</td>\n",
       "      <td>116.080002</td>\n",
       "      <td>119.220001</td>\n",
       "      <td>116.080002</td>\n",
       "      <td>118.120003</td>\n",
       "      <td>117.087669</td>\n",
       "      <td>715900</td>\n",
       "    </tr>\n",
       "    <tr>\n",
       "      <th>499</th>\n",
       "      <td>2020-12-28</td>\n",
       "      <td>118.970001</td>\n",
       "      <td>120.849998</td>\n",
       "      <td>117.760002</td>\n",
       "      <td>119.750000</td>\n",
       "      <td>118.703423</td>\n",
       "      <td>813900</td>\n",
       "    </tr>\n",
       "    <tr>\n",
       "      <th>500</th>\n",
       "      <td>2021-01-04</td>\n",
       "      <td>121.779999</td>\n",
       "      <td>134.020004</td>\n",
       "      <td>118.690002</td>\n",
       "      <td>131.289993</td>\n",
       "      <td>130.142563</td>\n",
       "      <td>2595800</td>\n",
       "    </tr>\n",
       "    <tr>\n",
       "      <th>501</th>\n",
       "      <td>2021-01-11</td>\n",
       "      <td>129.059998</td>\n",
       "      <td>135.330002</td>\n",
       "      <td>126.680000</td>\n",
       "      <td>127.629997</td>\n",
       "      <td>126.514542</td>\n",
       "      <td>1789100</td>\n",
       "    </tr>\n",
       "    <tr>\n",
       "      <th>502</th>\n",
       "      <td>2021-01-18</td>\n",
       "      <td>128.619995</td>\n",
       "      <td>129.610001</td>\n",
       "      <td>123.860001</td>\n",
       "      <td>126.220001</td>\n",
       "      <td>125.116867</td>\n",
       "      <td>1320400</td>\n",
       "    </tr>\n",
       "    <tr>\n",
       "      <th>503</th>\n",
       "      <td>2021-01-25</td>\n",
       "      <td>126.669998</td>\n",
       "      <td>126.669998</td>\n",
       "      <td>114.260002</td>\n",
       "      <td>116.080002</td>\n",
       "      <td>115.065498</td>\n",
       "      <td>2308900</td>\n",
       "    </tr>\n",
       "    <tr>\n",
       "      <th>504</th>\n",
       "      <td>2021-02-01</td>\n",
       "      <td>117.849998</td>\n",
       "      <td>126.160004</td>\n",
       "      <td>116.190002</td>\n",
       "      <td>123.739998</td>\n",
       "      <td>122.658546</td>\n",
       "      <td>1462400</td>\n",
       "    </tr>\n",
       "    <tr>\n",
       "      <th>505</th>\n",
       "      <td>2021-02-08</td>\n",
       "      <td>125.400002</td>\n",
       "      <td>126.309998</td>\n",
       "      <td>122.610001</td>\n",
       "      <td>125.589996</td>\n",
       "      <td>124.492378</td>\n",
       "      <td>1267900</td>\n",
       "    </tr>\n",
       "    <tr>\n",
       "      <th>506</th>\n",
       "      <td>2021-02-15</td>\n",
       "      <td>126.379997</td>\n",
       "      <td>131.990005</td>\n",
       "      <td>124.029999</td>\n",
       "      <td>131.369995</td>\n",
       "      <td>130.221863</td>\n",
       "      <td>1561100</td>\n",
       "    </tr>\n",
       "    <tr>\n",
       "      <th>507</th>\n",
       "      <td>2021-02-22</td>\n",
       "      <td>131.369995</td>\n",
       "      <td>139.449997</td>\n",
       "      <td>131.130005</td>\n",
       "      <td>132.199997</td>\n",
       "      <td>131.044601</td>\n",
       "      <td>2156600</td>\n",
       "    </tr>\n",
       "    <tr>\n",
       "      <th>508</th>\n",
       "      <td>2021-03-01</td>\n",
       "      <td>135.080002</td>\n",
       "      <td>142.570007</td>\n",
       "      <td>134.570007</td>\n",
       "      <td>140.270004</td>\n",
       "      <td>139.044083</td>\n",
       "      <td>2025400</td>\n",
       "    </tr>\n",
       "    <tr>\n",
       "      <th>509</th>\n",
       "      <td>2021-03-08</td>\n",
       "      <td>141.729996</td>\n",
       "      <td>154.089996</td>\n",
       "      <td>140.520004</td>\n",
       "      <td>152.830002</td>\n",
       "      <td>151.494308</td>\n",
       "      <td>2085200</td>\n",
       "    </tr>\n",
       "    <tr>\n",
       "      <th>510</th>\n",
       "      <td>2021-03-15</td>\n",
       "      <td>153.059998</td>\n",
       "      <td>153.750000</td>\n",
       "      <td>145.460007</td>\n",
       "      <td>148.779999</td>\n",
       "      <td>148.165039</td>\n",
       "      <td>2963300</td>\n",
       "    </tr>\n",
       "    <tr>\n",
       "      <th>511</th>\n",
       "      <td>2021-03-22</td>\n",
       "      <td>147.929993</td>\n",
       "      <td>155.720001</td>\n",
       "      <td>140.399994</td>\n",
       "      <td>155.619995</td>\n",
       "      <td>154.976761</td>\n",
       "      <td>2052400</td>\n",
       "    </tr>\n",
       "    <tr>\n",
       "      <th>512</th>\n",
       "      <td>2021-03-29</td>\n",
       "      <td>154.619995</td>\n",
       "      <td>158.630005</td>\n",
       "      <td>149.160004</td>\n",
       "      <td>155.649994</td>\n",
       "      <td>155.006638</td>\n",
       "      <td>1827400</td>\n",
       "    </tr>\n",
       "    <tr>\n",
       "      <th>513</th>\n",
       "      <td>2021-04-05</td>\n",
       "      <td>158.119995</td>\n",
       "      <td>159.020004</td>\n",
       "      <td>151.860001</td>\n",
       "      <td>154.259995</td>\n",
       "      <td>153.622391</td>\n",
       "      <td>1828500</td>\n",
       "    </tr>\n",
       "    <tr>\n",
       "      <th>514</th>\n",
       "      <td>2021-04-12</td>\n",
       "      <td>155.139999</td>\n",
       "      <td>157.940002</td>\n",
       "      <td>152.649994</td>\n",
       "      <td>156.009995</td>\n",
       "      <td>155.365158</td>\n",
       "      <td>1399900</td>\n",
       "    </tr>\n",
       "    <tr>\n",
       "      <th>515</th>\n",
       "      <td>2021-04-19</td>\n",
       "      <td>155.500000</td>\n",
       "      <td>158.179993</td>\n",
       "      <td>151.350006</td>\n",
       "      <td>157.490005</td>\n",
       "      <td>156.839050</td>\n",
       "      <td>1648400</td>\n",
       "    </tr>\n",
       "    <tr>\n",
       "      <th>516</th>\n",
       "      <td>2021-04-26</td>\n",
       "      <td>158.839996</td>\n",
       "      <td>164.919998</td>\n",
       "      <td>157.509995</td>\n",
       "      <td>160.309998</td>\n",
       "      <td>159.647385</td>\n",
       "      <td>1977100</td>\n",
       "    </tr>\n",
       "    <tr>\n",
       "      <th>517</th>\n",
       "      <td>2021-05-03</td>\n",
       "      <td>163.050003</td>\n",
       "      <td>177.820007</td>\n",
       "      <td>162.080002</td>\n",
       "      <td>177.240005</td>\n",
       "      <td>176.507416</td>\n",
       "      <td>1631600</td>\n",
       "    </tr>\n",
       "    <tr>\n",
       "      <th>518</th>\n",
       "      <td>2021-05-10</td>\n",
       "      <td>180.139999</td>\n",
       "      <td>181.210007</td>\n",
       "      <td>166.449997</td>\n",
       "      <td>170.559998</td>\n",
       "      <td>169.855011</td>\n",
       "      <td>2386000</td>\n",
       "    </tr>\n",
       "    <tr>\n",
       "      <th>519</th>\n",
       "      <td>2021-05-17</td>\n",
       "      <td>170.449997</td>\n",
       "      <td>171.610001</td>\n",
       "      <td>161.369995</td>\n",
       "      <td>165.929993</td>\n",
       "      <td>165.244141</td>\n",
       "      <td>2090000</td>\n",
       "    </tr>\n",
       "    <tr>\n",
       "      <th>520</th>\n",
       "      <td>2021-05-24</td>\n",
       "      <td>166.509995</td>\n",
       "      <td>170.399994</td>\n",
       "      <td>164.479996</td>\n",
       "      <td>168.070007</td>\n",
       "      <td>167.375320</td>\n",
       "      <td>1730000</td>\n",
       "    </tr>\n",
       "    <tr>\n",
       "      <th>521</th>\n",
       "      <td>2021-05-31</td>\n",
       "      <td>170.429993</td>\n",
       "      <td>172.860001</td>\n",
       "      <td>166.160004</td>\n",
       "      <td>170.449997</td>\n",
       "      <td>170.449997</td>\n",
       "      <td>1403900</td>\n",
       "    </tr>\n",
       "    <tr>\n",
       "      <th>522</th>\n",
       "      <td>2021-06-07</td>\n",
       "      <td>169.740005</td>\n",
       "      <td>174.419998</td>\n",
       "      <td>165.419998</td>\n",
       "      <td>173.259995</td>\n",
       "      <td>173.259995</td>\n",
       "      <td>1139700</td>\n",
       "    </tr>\n",
       "    <tr>\n",
       "      <th>523</th>\n",
       "      <td>2021-06-10</td>\n",
       "      <td>175.759995</td>\n",
       "      <td>175.759995</td>\n",
       "      <td>172.029999</td>\n",
       "      <td>172.759995</td>\n",
       "      <td>172.759995</td>\n",
       "      <td>443408</td>\n",
       "    </tr>\n",
       "  </tbody>\n",
       "</table>\n",
       "<p>524 rows × 7 columns</p>\n",
       "</div>"
      ],
      "text/plain": [
       "           Date        Open        High         Low       Close   Adj Close  \\\n",
       "0    2011-06-06   46.860001   48.220001   46.740002   47.950001   38.797211   \n",
       "1    2011-06-13   48.020000   48.570000   46.259998   47.090000   38.101387   \n",
       "2    2011-06-20   46.900002   49.139999   46.750000   48.070000   38.894306   \n",
       "3    2011-06-27   48.040001   50.220001   47.439999   50.049999   40.496365   \n",
       "4    2011-07-04   49.889999   49.889999   48.380001   49.570000   40.107986   \n",
       "5    2011-07-11   48.770000   50.000000   48.000000   49.169998   39.784332   \n",
       "6    2011-07-18   49.110001   50.570000   48.419998   50.430000   40.803829   \n",
       "7    2011-07-25   49.880001   50.610001   45.799999   47.009998   38.036644   \n",
       "8    2011-08-01   47.680000   47.889999   40.830002   42.439999   34.338982   \n",
       "9    2011-08-08   40.849998   41.340000   36.959999   40.759998   32.979652   \n",
       "10   2011-08-15   41.230000   41.639999   36.740002   37.290001   30.172028   \n",
       "11   2011-08-22   38.500000   39.110001   36.709999   38.900002   31.567348   \n",
       "12   2011-08-29   39.730000   43.650002   38.430000   38.790001   31.478069   \n",
       "13   2011-09-05   37.500000   40.549999   36.610001   38.500000   31.242729   \n",
       "14   2011-09-12   38.000000   41.459999   37.529999   40.580002   32.930649   \n",
       "15   2011-09-19   39.580002   39.910000   32.750000   34.180000   27.737055   \n",
       "16   2011-09-26   35.180000   38.689999   33.380001   34.009998   27.599108   \n",
       "17   2011-10-03   33.650002   37.709999   31.090000   36.099998   29.295135   \n",
       "18   2011-10-10   37.220001   40.060001   37.070000   39.799999   32.297691   \n",
       "19   2011-10-17   39.509998   40.930000   37.580002   40.509998   32.873848   \n",
       "20   2011-10-24   40.880001   46.700001   39.700001   45.990002   37.320858   \n",
       "21   2011-10-31   45.150002   45.860001   41.200001   45.520000   36.939465   \n",
       "22   2011-11-07   45.619999   46.320000   42.410000   45.259998   36.728474   \n",
       "23   2011-11-14   45.150002   46.689999   42.880001   44.070000   35.762794   \n",
       "24   2011-11-21   42.770000   44.080002   41.810001   42.110001   34.172253   \n",
       "25   2011-11-28   44.279999   49.799999   43.639999   48.860001   39.763000   \n",
       "26   2011-12-05   49.830002   50.919998   47.619999   49.270000   40.096661   \n",
       "27   2011-12-12   47.930000   48.410000   44.650002   47.500000   38.656212   \n",
       "28   2011-12-19   47.709999   49.880001   45.990002   49.830002   40.552406   \n",
       "29   2011-12-26   49.470001   49.950001   47.490002   48.689999   39.624641   \n",
       "..          ...         ...         ...         ...         ...         ...   \n",
       "494  2020-11-23  119.500000  123.089996  118.360001  121.230003  120.170486   \n",
       "495  2020-11-30  120.610001  122.029999  117.760002  121.529999  120.467857   \n",
       "496  2020-12-07  121.050003  122.849998  119.080002  121.279999  120.220047   \n",
       "497  2020-12-14  122.650002  122.870003  117.110001  117.739998  116.710983   \n",
       "498  2020-12-21  116.080002  119.220001  116.080002  118.120003  117.087669   \n",
       "499  2020-12-28  118.970001  120.849998  117.760002  119.750000  118.703423   \n",
       "500  2021-01-04  121.779999  134.020004  118.690002  131.289993  130.142563   \n",
       "501  2021-01-11  129.059998  135.330002  126.680000  127.629997  126.514542   \n",
       "502  2021-01-18  128.619995  129.610001  123.860001  126.220001  125.116867   \n",
       "503  2021-01-25  126.669998  126.669998  114.260002  116.080002  115.065498   \n",
       "504  2021-02-01  117.849998  126.160004  116.190002  123.739998  122.658546   \n",
       "505  2021-02-08  125.400002  126.309998  122.610001  125.589996  124.492378   \n",
       "506  2021-02-15  126.379997  131.990005  124.029999  131.369995  130.221863   \n",
       "507  2021-02-22  131.369995  139.449997  131.130005  132.199997  131.044601   \n",
       "508  2021-03-01  135.080002  142.570007  134.570007  140.270004  139.044083   \n",
       "509  2021-03-08  141.729996  154.089996  140.520004  152.830002  151.494308   \n",
       "510  2021-03-15  153.059998  153.750000  145.460007  148.779999  148.165039   \n",
       "511  2021-03-22  147.929993  155.720001  140.399994  155.619995  154.976761   \n",
       "512  2021-03-29  154.619995  158.630005  149.160004  155.649994  155.006638   \n",
       "513  2021-04-05  158.119995  159.020004  151.860001  154.259995  153.622391   \n",
       "514  2021-04-12  155.139999  157.940002  152.649994  156.009995  155.365158   \n",
       "515  2021-04-19  155.500000  158.179993  151.350006  157.490005  156.839050   \n",
       "516  2021-04-26  158.839996  164.919998  157.509995  160.309998  159.647385   \n",
       "517  2021-05-03  163.050003  177.820007  162.080002  177.240005  176.507416   \n",
       "518  2021-05-10  180.139999  181.210007  166.449997  170.559998  169.855011   \n",
       "519  2021-05-17  170.449997  171.610001  161.369995  165.929993  165.244141   \n",
       "520  2021-05-24  166.509995  170.399994  164.479996  168.070007  167.375320   \n",
       "521  2021-05-31  170.429993  172.860001  166.160004  170.449997  170.449997   \n",
       "522  2021-06-07  169.740005  174.419998  165.419998  173.259995  173.259995   \n",
       "523  2021-06-10  175.759995  175.759995  172.029999  172.759995  172.759995   \n",
       "\n",
       "      Volume  \n",
       "0    1448300  \n",
       "1    4599700  \n",
       "2    4021900  \n",
       "3    3997000  \n",
       "4    4583300  \n",
       "5    3855400  \n",
       "6    3088500  \n",
       "7    4031200  \n",
       "8    5329600  \n",
       "9    8206300  \n",
       "10   3704100  \n",
       "11   2202900  \n",
       "12   3057700  \n",
       "13   2520400  \n",
       "14   3323100  \n",
       "15   2867400  \n",
       "16   2954000  \n",
       "17   4465800  \n",
       "18   2008200  \n",
       "19   2678300  \n",
       "20   3011300  \n",
       "21   4450800  \n",
       "22   2761900  \n",
       "23   3231800  \n",
       "24   3263000  \n",
       "25   3968100  \n",
       "26   3644400  \n",
       "27   3598700  \n",
       "28   2650500  \n",
       "29   1298500  \n",
       "..       ...  \n",
       "494  1078200  \n",
       "495  2154600  \n",
       "496  1738200  \n",
       "497  2553200  \n",
       "498   715900  \n",
       "499   813900  \n",
       "500  2595800  \n",
       "501  1789100  \n",
       "502  1320400  \n",
       "503  2308900  \n",
       "504  1462400  \n",
       "505  1267900  \n",
       "506  1561100  \n",
       "507  2156600  \n",
       "508  2025400  \n",
       "509  2085200  \n",
       "510  2963300  \n",
       "511  2052400  \n",
       "512  1827400  \n",
       "513  1828500  \n",
       "514  1399900  \n",
       "515  1648400  \n",
       "516  1977100  \n",
       "517  1631600  \n",
       "518  2386000  \n",
       "519  2090000  \n",
       "520  1730000  \n",
       "521  1403900  \n",
       "522  1139700  \n",
       "523   443408  \n",
       "\n",
       "[524 rows x 7 columns]"
      ]
     },
     "execution_count": 47,
     "metadata": {},
     "output_type": "execute_result"
    }
   ],
   "source": [
    "import numpy as np\n",
    "import pandas as pd\n",
    "import matplotlib.pyplot as plt\n",
    "import seaborn as sns\n",
    "%matplotlib inline\n",
    "df = pd.read_csv('RS.csv')\n",
    "df"
   ]
  },
  {
   "cell_type": "code",
   "execution_count": 62,
   "metadata": {},
   "outputs": [
    {
     "data": {
      "text/plain": [
       "<matplotlib.axes._subplots.AxesSubplot at 0x2383ee79518>"
      ]
     },
     "execution_count": 62,
     "metadata": {},
     "output_type": "execute_result"
    },
    {
     "data": {
      "image/png": "[encoded data removed]",
      "text/plain": [
       "<Figure size 720x360 with 1 Axes>"
      ]
     },
     "metadata": {
      "needs_background": "light"
     },
     "output_type": "display_data"
    }
   ],
   "source": [
    "df[\"Adj Close\"].plot.hist(bins=20,figsize=(10,5))"
   ]
  },
  {
   "cell_type": "code",
   "execution_count": 63,
   "metadata": {},
   "outputs": [
    {
     "data": {
      "text/plain": [
       "Date         0\n",
       "Open         0\n",
       "High         0\n",
       "Low          0\n",
       "Close        0\n",
       "Adj Close    0\n",
       "Volume       0\n",
       "dtype: int64"
      ]
     },
     "execution_count": 63,
     "metadata": {},
     "output_type": "execute_result"
    }
   ],
   "source": [
    "df.isnull().sum()"
   ]
  },
  {
   "cell_type": "code",
   "execution_count": 48,
   "metadata": {},
   "outputs": [],
   "source": [
    "x = df.drop([\"Date\",\"Adj Close\"],axis=1)\n",
    "y = df[\"Adj Close\"]"
   ]
  },
  {
   "cell_type": "code",
   "execution_count": 49,
   "metadata": {},
   "outputs": [],
   "source": [
    "from sklearn.model_selection import train_test_split\n",
    "X_train, X_test, y_train, y_test = train_test_split(x,y,test_size = 0.25, random_state = 53 )"
   ]
  },
  {
   "cell_type": "code",
   "execution_count": 50,
   "metadata": {},
   "outputs": [],
   "source": [
    "from sklearn.preprocessing import StandardScaler\n",
    "ssr = StandardScaler()\n",
    "ssr.fit(X_train)\n",
    "X_train = ssr.transform(X_train)\n",
    "X_test = ssr.transform(X_test)"
   ]
  },
  {
   "cell_type": "markdown",
   "metadata": {},
   "source": [
    "## 3.1 Linear Regression Model"
   ]
  },
  {
   "cell_type": "code",
   "execution_count": 77,
   "metadata": {},
   "outputs": [
    {
     "data": {
      "text/plain": [
       "LinearRegression()"
      ]
     },
     "execution_count": 77,
     "metadata": {},
     "output_type": "execute_result"
    }
   ],
   "source": [
    "from sklearn.linear_model import LinearRegression\n",
    "LR = LinearRegression()\n",
    "LR.fit(X_train,y_train)"
   ]
  },
  {
   "cell_type": "code",
   "execution_count": 78,
   "metadata": {},
   "outputs": [
    {
     "data": {
      "text/plain": [
       "array([-2.33290688, 11.65311045, -1.81788807, 18.35518071, -0.01891445])"
      ]
     },
     "execution_count": 78,
     "metadata": {},
     "output_type": "execute_result"
    }
   ],
   "source": [
    "LR.coef_"
   ]
  },
  {
   "cell_type": "code",
   "execution_count": 79,
   "metadata": {},
   "outputs": [
    {
     "data": {
      "text/plain": [
       "70.35459386513995"
      ]
     },
     "execution_count": 79,
     "metadata": {},
     "output_type": "execute_result"
    }
   ],
   "source": [
    "LR.intercept_"
   ]
  },
  {
   "cell_type": "code",
   "execution_count": 80,
   "metadata": {},
   "outputs": [
    {
     "data": {
      "text/plain": [
       "array([ 49.48543971,  63.81539371,  85.69530239,  83.35633268,\n",
       "        81.87321167, 171.22962377,  61.20302259,  70.21721504,\n",
       "        75.6557518 ,  45.02651859,  64.14018704, 121.59031069,\n",
       "        69.05081831, 115.43216673,  55.6142953 ,  64.74403606,\n",
       "        78.82652909,  43.12083647,  33.53469634, 112.50399435,\n",
       "        62.69842063,  65.50632879,  48.39738578, 114.83656023,\n",
       "        66.58764596,  55.7671272 ,  76.15883148,  64.47567197,\n",
       "        65.15583094, 114.87260722,  82.55117164,  93.21965489,\n",
       "       114.05870102,  84.00107189,  74.74851594,  61.36836183,\n",
       "        57.18322433,  51.36115398,  85.61666108,  86.56039764,\n",
       "        44.84708206,  83.06937865,  71.50963164,  42.90556081,\n",
       "        48.51059312,  60.20031786,  94.01169369,  46.62354506,\n",
       "        60.14118715,  58.20297842,  56.59565264,  68.08769948,\n",
       "        62.06677328,  81.71273209, 108.05451317,  49.21703926,\n",
       "        81.7374781 ,  60.15682767,  43.70186805,  39.87937872,\n",
       "        24.75969848,  69.05988954,  47.80283928,  60.95959806,\n",
       "        66.3466592 ,  70.90353881, 113.73790606,  68.86343564,\n",
       "        44.34518209,  41.75164455,  87.11218905, 116.35826114,\n",
       "        71.54203132,  66.88340932,  52.24222401,  82.22174791,\n",
       "        64.83618741,  63.91356164, 117.47235057,  47.03148107,\n",
       "       154.32098845,  85.04983494, 179.94764504,  65.55003731,\n",
       "        66.2368541 ,  64.99928015,  47.29220778,  41.80030032,\n",
       "        61.5214473 ,  68.76803267, 115.70832577,  68.60120541,\n",
       "       104.30076964,  55.57792956,  61.51809301,  66.51666748,\n",
       "        77.07011679,  58.15361657,  65.05387248,  63.09113693,\n",
       "        49.82559636,  62.80401085,  81.22789948,  62.02559871,\n",
       "        54.48782725,  38.91436483,  52.58374923,  65.47450151,\n",
       "       156.73186974,  76.61960249,  40.93252263,  91.91326147,\n",
       "        50.76127439, 168.70963608,  61.80531148, 155.77486375,\n",
       "        64.02945964,  43.74247192,  47.36835444,  36.5303015 ,\n",
       "        64.47284727,  65.54647177,  85.40512154,  62.2768784 ,\n",
       "        61.09401076,  29.80113377,  81.57119911,  46.54869936,\n",
       "        85.20860019,  70.43197019,  63.87642352])"
      ]
     },
     "execution_count": 80,
     "metadata": {},
     "output_type": "execute_result"
    }
   ],
   "source": [
    "LR_pred = LR.predict(X_test)\n",
    "LR_pred"
   ]
  },
  {
   "cell_type": "code",
   "execution_count": 81,
   "metadata": {},
   "outputs": [
    {
     "data": {
      "text/plain": [
       "array([ 50.874393,  60.834007,  87.312241,  83.519722,  81.749191,\n",
       "       170.449997,  61.653759,  71.782082,  74.903069,  44.816113,\n",
       "        63.712727, 122.658546,  68.831078, 116.549828,  53.003757,\n",
       "        65.070389,  80.322769,  43.080711,  34.338982, 112.304184,\n",
       "        59.870132,  65.07946 ,  50.418983, 114.975098,  63.386879,\n",
       "        55.561119,  74.718956,  64.639641,  64.777718, 116.549828,\n",
       "        85.788887,  93.756859, 114.210594,  83.597672,  73.396355,\n",
       "        58.184891,  57.053574,  53.219578,  87.673805,  85.778885,\n",
       "        43.536732,  84.406128,  69.656113,  42.900223,  50.200043,\n",
       "        56.191742,  95.239616,  45.655029,  61.184639,  57.155838,\n",
       "        56.412407,  63.498219,  59.41354 ,  82.761086, 110.18988 ,\n",
       "        50.961975,  81.259323,  58.35738 ,  43.352131,  40.552406,\n",
       "        27.737055,  69.801819,  48.942211,  61.58847 ,  62.308975,\n",
       "        74.155579, 113.00856 ,  70.304352,  46.160728,  42.299374,\n",
       "        90.464546, 116.339584,  72.617699,  68.310905,  53.186481,\n",
       "        81.789398,  66.556267,  60.260426, 120.467857,  46.091011,\n",
       "       153.622391,  86.884041, 176.507416,  61.549541,  65.647453,\n",
       "        60.851765,  47.113537,  42.162853,  58.840927,  68.113068,\n",
       "       118.703423,  69.973633, 107.468407,  55.114716,  63.263195,\n",
       "        62.359253,  76.693588,  55.104584,  65.490326,  59.000767,\n",
       "        50.796539,  59.063156,  82.868591,  58.268246,  53.159283,\n",
       "        38.68119 ,  53.275364,  62.384365, 156.83905 ,  75.282028,\n",
       "        41.402893,  94.487579,  52.512123, 167.37532 ,  58.476654,\n",
       "       155.006638,  61.003105,  43.767193,  45.82774 ,  37.320858,\n",
       "        68.633156,  61.852379,  86.874535,  59.185268,  58.601856,\n",
       "        32.873848,  82.518166,  49.391712,  84.760506,  71.103584,\n",
       "        64.280678])"
      ]
     },
     "execution_count": 81,
     "metadata": {},
     "output_type": "execute_result"
    }
   ],
   "source": [
    "np.array(y_test)"
   ]
  },
  {
   "cell_type": "code",
   "execution_count": 82,
   "metadata": {},
   "outputs": [
    {
     "name": "stdout",
     "output_type": "stream",
     "text": [
      "R2 score =  0.9951859295048365\n"
     ]
    }
   ],
   "source": [
    "from sklearn.metrics import r2_score\n",
    "print(\"R2 score = \",r2_score(y_test,LR_pred))"
   ]
  },
  {
   "cell_type": "code",
   "execution_count": 83,
   "metadata": {},
   "outputs": [
    {
     "name": "stdout",
     "output_type": "stream",
     "text": [
      "MAE =  1.563173869143004\n"
     ]
    }
   ],
   "source": [
    "from sklearn.metrics import mean_absolute_error\n",
    "print(\"MAE = \",mean_absolute_error(y_test,LR_pred))"
   ]
  },
  {
   "cell_type": "code",
   "execution_count": 84,
   "metadata": {},
   "outputs": [
    {
     "name": "stdout",
     "output_type": "stream",
     "text": [
      "Mean of predictions =  72.21519823009461\n"
     ]
    }
   ],
   "source": [
    "print(\"Mean of predictions = \",np.mean(LR_pred))"
   ]
  },
  {
   "cell_type": "code",
   "execution_count": 85,
   "metadata": {},
   "outputs": [
    {
     "name": "stdout",
     "output_type": "stream",
     "text": [
      "MSE =  3.9676735878722704\n",
      "RMSE =  1.9919020025775038\n"
     ]
    }
   ],
   "source": [
    "from sklearn.metrics import mean_squared_error\n",
    "print(\"MSE = \",mean_squared_error(y_test,LR_pred))\n",
    "print(\"RMSE = \",np.sqrt(mean_squared_error(y_test,LR_pred)))"
   ]
  },
  {
   "cell_type": "markdown",
   "metadata": {},
   "source": [
    "## 3.2 Ridge and Lasso Model"
   ]
  },
  {
   "cell_type": "code",
   "execution_count": 86,
   "metadata": {},
   "outputs": [
    {
     "data": {
      "text/plain": [
       "array([ 49.6814468 ,  64.14744623,  85.48738264,  83.20539583,\n",
       "        81.75341017, 171.43196879,  61.41686383,  70.66994787,\n",
       "        75.66891735,  44.36999073,  64.81772388, 120.52002285,\n",
       "        69.47175147, 115.18977614,  55.83871698,  64.77810084,\n",
       "        78.895947  ,  43.13136913,  33.90959681, 112.84314183,\n",
       "        62.73839093,  65.98261159,  48.51480644, 115.28436535,\n",
       "        66.58239322,  55.81341455,  76.19787924,  64.55239084,\n",
       "        64.89834689, 115.38311782,  81.75433438,  93.80308828,\n",
       "       114.62417788,  83.97278715,  74.85832221,  61.51775829,\n",
       "        57.40910669,  51.30017411,  85.58345616,  86.80504827,\n",
       "        45.06973652,  83.44705564,  70.10657051,  42.88942667,\n",
       "        48.6742943 ,  60.25601274,  94.34679037,  46.7605896 ,\n",
       "        60.32916363,  58.4627901 ,  56.22260769,  67.72036866,\n",
       "        62.10580324,  81.64803561, 107.34324927,  49.12245124,\n",
       "        79.27848159,  60.33183822,  43.41321472,  39.41506073,\n",
       "        24.77550256,  69.08059135,  48.15216747,  61.09699917,\n",
       "        66.3908044 ,  70.44281636, 114.37354362,  68.82123188,\n",
       "        44.27172008,  41.75350947,  86.06896943, 116.32228754,\n",
       "        71.14013341,  67.08044232,  51.77477944,  82.65957907,\n",
       "        65.11534362,  64.41804271, 117.54449366,  46.97783923,\n",
       "       154.89143332,  85.01298459, 177.5991257 ,  65.59328413,\n",
       "        66.27158255,  65.10301906,  47.38894869,  41.68750438,\n",
       "        61.71158042,  69.3806685 , 115.85790926,  68.4346409 ,\n",
       "       104.30697967,  55.54911892,  61.66809511,  66.78863462,\n",
       "        76.95727988,  57.77498111,  65.49005059,  63.49637467,\n",
       "        50.06063737,  62.71804168,  81.58513552,  62.08283768,\n",
       "        54.93071782,  39.19644054,  52.51459404,  65.68932533,\n",
       "       156.53451732,  76.48811117,  41.10925519,  91.63901894,\n",
       "        50.89360066, 168.95195187,  61.88094329, 155.4597307 ,\n",
       "        63.96403694,  43.5426931 ,  47.15822994,  35.44189726,\n",
       "        64.17184518,  65.75952596,  85.86201035,  62.66092785,\n",
       "        61.27644669,  29.4739077 ,  81.59083547,  46.86174836,\n",
       "        85.54165008,  70.65023758,  63.62313563])"
      ]
     },
     "execution_count": 86,
     "metadata": {},
     "output_type": "execute_result"
    }
   ],
   "source": [
    "from sklearn.linear_model import Ridge\n",
    "rg = Ridge(alpha=1.1);\n",
    "rg.fit(X_train, y_train)\n",
    "rg_pred = rg.predict(X_test)\n",
    "rg_pred"
   ]
  },
  {
   "cell_type": "code",
   "execution_count": 87,
   "metadata": {},
   "outputs": [
    {
     "name": "stdout",
     "output_type": "stream",
     "text": [
      "R2 score =  0.9947879952258835\n",
      "MAE =  1.6310185347414208\n",
      "MSE =  4.295644133774596\n",
      "RMSE =  2.0725935766026575\n"
     ]
    }
   ],
   "source": [
    "print(\"R2 score = \",r2_score(y_test,rg_pred))\n",
    "print(\"MAE = \",mean_absolute_error(y_test,rg_pred))\n",
    "print(\"MSE = \",mean_squared_error(y_test,rg_pred))\n",
    "print(\"RMSE = \",np.sqrt(mean_squared_error(y_test,rg_pred)))"
   ]
  },
  {
   "cell_type": "code",
   "execution_count": 88,
   "metadata": {},
   "outputs": [
    {
     "data": {
      "text/plain": [
       "array([ 49.57131285,  64.0068883 ,  85.5836086 ,  83.24037127,\n",
       "        81.81193444, 171.33878474,  61.30978784,  70.44504865,\n",
       "        75.63703751,  44.65001119,  64.5430142 , 121.00952298,\n",
       "        69.27121293, 115.27961724,  55.74858254,  64.76857093,\n",
       "        78.8612433 ,  43.12923468,  33.71251018, 112.72825683,\n",
       "        62.72828214,  65.77702606,  48.46880322, 115.07998653,\n",
       "        66.5872502 ,  55.77849026,  76.20465599,  64.53504689,\n",
       "        65.01747653, 115.15611223,  82.03102856,  93.52725516,\n",
       "       114.39795326,  83.99282969,  74.8158107 ,  61.45342376,\n",
       "        57.31295365,  51.31385218,  85.58591992,  86.68664059,\n",
       "        44.96890825,  83.29095299,  70.74552548,  42.88259661,\n",
       "        48.58869983,  60.18976591,  94.21137835,  46.70655236,\n",
       "        60.26081448,  58.33824506,  56.41832298,  67.89132668,\n",
       "        62.08719644,  81.64373182, 107.67610247,  49.16912644,\n",
       "        80.40817611,  60.2591093 ,  43.55342587,  39.60415723,\n",
       "        24.72540475,  69.05931335,  48.01058206,  61.03455845,\n",
       "        66.37832683,  70.63810312, 114.11637769,  68.82964566,\n",
       "        44.30688412,  41.73132522,  86.52905223, 116.34053007,\n",
       "        71.32223099,  66.98614359,  51.97424652,  82.43765297,\n",
       "        64.97816113,  64.1828262 , 117.50304562,  46.98309505,\n",
       "       154.62451387,  85.0289962 , 178.66731546,  65.58232471,\n",
       "        66.27387159,  65.07125996,  47.33403185,  41.74396669,\n",
       "        61.61421339,  69.11275762, 115.79866242,  68.51440619,\n",
       "       104.27301932,  55.56537671,  61.59534096,  66.66232494,\n",
       "        76.98824618,  57.93637198,  65.29629705,  63.29926458,\n",
       "        49.95124851,  62.75664048,  81.4500007 ,  62.06161557,\n",
       "        54.72155834,  39.05626132,  52.52743893,  65.59505958,\n",
       "       156.60601807,  76.55214695,  41.03374166,  91.77239214,\n",
       "        50.82308687, 168.86816981,  61.82769017, 155.58353536,\n",
       "        63.99868177,  43.63244807,  47.26333396,  35.91930569,\n",
       "        64.28393377,  65.66037149,  85.64673536,  62.51045685,\n",
       "        61.1816727 ,  29.59968603,  81.59427662,  46.72440818,\n",
       "        85.41426062,  70.56640997,  63.74623147])"
      ]
     },
     "execution_count": 88,
     "metadata": {},
     "output_type": "execute_result"
    }
   ],
   "source": [
    "rg2 = Ridge(alpha=0.5)\n",
    "rg2.fit(X_train, y_train)\n",
    "rg2_pred = rg2.predict(X_test)\n",
    "rg2_pred"
   ]
  },
  {
   "cell_type": "code",
   "execution_count": 89,
   "metadata": {},
   "outputs": [
    {
     "name": "stdout",
     "output_type": "stream",
     "text": [
      "R2 score =  0.9950126147671569\n",
      "MAE =  1.5957180782896692\n",
      "MSE =  4.110516595213229\n",
      "RMSE =  2.0274408980814287\n"
     ]
    }
   ],
   "source": [
    "print(\"R2 score = \",r2_score(y_test,rg2_pred))\n",
    "print(\"MAE = \",mean_absolute_error(y_test,rg2_pred))\n",
    "print(\"MSE = \",mean_squared_error(y_test,rg2_pred))\n",
    "print(\"RMSE = \",np.sqrt(mean_squared_error(y_test,rg2_pred)))"
   ]
  },
  {
   "cell_type": "code",
   "execution_count": 90,
   "metadata": {},
   "outputs": [
    {
     "data": {
      "text/plain": [
       "array([ 50.77353856,  64.46199205,  84.79490367,  82.72145015,\n",
       "        81.2841055 , 166.1615944 ,  61.89453476,  70.39058841,\n",
       "        75.55954082,  46.09814532,  64.67913328, 118.12020757,\n",
       "        69.41342836, 112.93306269,  56.54565974,  65.10438195,\n",
       "        78.48449321,  44.60828962,  35.5028316 , 110.41626244,\n",
       "        63.15333221,  65.99428146,  49.5615629 , 112.93316151,\n",
       "        66.90923202,  56.68684331,  75.71048467,  64.78658308,\n",
       "        65.24294115, 112.8766342 ,  81.57036866,  92.33878584,\n",
       "       112.13718378,  83.33793433,  74.57204698,  62.00826035,\n",
       "        58.10566066,  52.42730954,  84.97996973,  85.92801091,\n",
       "        46.24661205,  82.61845429,  70.30397205,  44.47511701,\n",
       "        49.83881013,  60.83106583,  92.8887368 ,  47.88083287,\n",
       "        60.73363312,  59.09276049,  56.77475768,  68.04427415,\n",
       "        62.5746666 ,  81.28837396, 105.59176874,  50.31876938,\n",
       "        78.72259092,  60.87649909,  44.82490682,  41.31162761,\n",
       "        27.09974629,  69.27593975,  49.1880311 ,  61.55496604,\n",
       "        66.68991257,  70.74179984, 111.77963039,  69.07328977,\n",
       "        45.6961294 ,  43.42867274,  85.63125594, 113.9851484 ,\n",
       "        71.24128546,  67.21967231,  52.84504923,  81.84838701,\n",
       "        65.35466836,  64.47499418, 115.20976978,  48.3839897 ,\n",
       "       150.28898871,  84.33204342, 172.53820711,  65.8396654 ,\n",
       "        66.35715903,  65.34497018,  48.74723267,  43.22550459,\n",
       "        62.25216022,  69.22937043, 113.57806016,  68.65653343,\n",
       "       102.69647565,  56.38764615,  62.14486284,  67.02380148,\n",
       "        76.63033499,  58.60404365,  65.45451391,  63.65246247,\n",
       "        51.00148937,  63.28795569,  80.78474782,  62.55257147,\n",
       "        55.54696885,  40.60788232,  53.53525399,  65.98760504,\n",
       "       152.26037038,  76.25376246,  42.56310555,  90.57961768,\n",
       "        52.00989595, 163.68703845,  62.46783719, 151.12788804,\n",
       "        64.365663  ,  45.14857464,  48.33581839,  37.58096971,\n",
       "        64.7913556 ,  66.10041873,  84.95241027,  62.8346643 ,\n",
       "        61.82621941,  31.8481222 ,  81.08732802,  48.02968   ,\n",
       "        84.49192386,  70.51249964,  64.07310256])"
      ]
     },
     "execution_count": 90,
     "metadata": {},
     "output_type": "execute_result"
    }
   ],
   "source": [
    "from sklearn.linear_model import Lasso\n",
    "ls = Lasso(alpha=1.4);\n",
    "ls.fit(X_train, y_train)\n",
    "ls_pred = ls.predict(X_test)\n",
    "ls_pred"
   ]
  },
  {
   "cell_type": "code",
   "execution_count": 91,
   "metadata": {},
   "outputs": [
    {
     "name": "stdout",
     "output_type": "stream",
     "text": [
      "R2 score =  0.9919882269583089\n",
      "MAE =  2.0675242835996763\n",
      "MSE =  6.603164685993141\n",
      "RMSE =  2.569662368092964\n"
     ]
    }
   ],
   "source": [
    "print(\"R2 score = \",r2_score(y_test,ls_pred))\n",
    "print(\"MAE = \",mean_absolute_error(y_test,ls_pred))\n",
    "print(\"MSE = \",mean_squared_error(y_test,ls_pred))\n",
    "print(\"RMSE = \",np.sqrt(mean_squared_error(y_test,ls_pred)))"
   ]
  },
  {
   "cell_type": "code",
   "execution_count": 93,
   "metadata": {},
   "outputs": [
    {
     "data": {
      "text/plain": [
       "array([ 53.62258834,  65.3498649 ,  82.70468778,  80.94579238,\n",
       "        79.71733156, 152.10510888,  63.16024371,  70.25846273,\n",
       "        74.84352761,  49.71174515,  65.50417509, 111.10817979,\n",
       "        69.5005843 , 106.6401719 ,  58.58655878,  65.89266613,\n",
       "        77.30669287,  48.38511747,  40.52405878, 104.51722414,\n",
       "        64.24415365,  66.64829929,  52.64330819, 106.69118734,\n",
       "        67.4616892 ,  58.74234061,  74.90496856,  65.60718651,\n",
       "        66.03974087, 106.59659926,  79.9066444 ,  89.04344726,\n",
       "       106.0105833 ,  81.47025909,  73.94155404,  63.27561707,\n",
       "        59.94313372,  55.08747807,  82.87932335,  83.66732594,\n",
       "        49.73118947,  80.81532247,  70.33437605,  48.29815115,\n",
       "        52.83651477,  62.19208826,  89.54994146,  51.17346746,\n",
       "        62.15610141,  60.7846781 ,  58.74676063,  68.43918275,\n",
       "        63.75222915,  79.73148383, 100.43279431,  53.27977776,\n",
       "        77.319357  ,  62.30900742,  48.57994077,  45.62657727,\n",
       "        33.34564579,  69.48377112,  52.30811257,  62.82789149,\n",
       "        67.2748    ,  70.7392604 , 105.67770509,  69.293052  ,\n",
       "        49.34119376,  47.394916  ,  83.44319014, 107.6212494 ,\n",
       "        71.13747662,  67.68052661,  55.4426136 ,  80.07706465,\n",
       "        66.0809201 ,  65.27472829, 108.67626434,  51.64299395,\n",
       "       138.49671479,  82.30970058, 157.59597738,  66.51554731,\n",
       "        66.98194826,  66.09096839,  51.96940948,  47.2447151 ,\n",
       "        63.47647582,  69.39687243, 107.26765804,  68.9411809 ,\n",
       "        97.96664431,  58.4678844 ,  63.34017935,  67.53763065,\n",
       "        75.66702781,  60.36304506,  66.0995639 ,  64.57361994,\n",
       "        53.88879315,  64.37816886,  79.21817117,  63.70427081,\n",
       "        57.65589713,  44.88024197,  56.01732543,  66.65149443,\n",
       "       140.28869274,  75.41466107,  46.63552485,  87.60907108,\n",
       "        54.73342933, 149.9955749 ,  63.65971782, 139.26056562,\n",
       "        65.29218381,  48.89333402,  51.54233233,  42.42519286,\n",
       "        65.65680063,  66.74695686,  82.7878974 ,  63.9304462 ,\n",
       "        63.09413102,  37.54081746,  79.55452939,  51.32932184,\n",
       "        82.38388751,  70.4770242 ,  65.02285222])"
      ]
     },
     "execution_count": 93,
     "metadata": {},
     "output_type": "execute_result"
    }
   ],
   "source": [
    "ls2 = Lasso(alpha=5);\n",
    "ls2.fit(X_train, y_train)\n",
    "ls2_pred = ls2.predict(X_test)\n",
    "ls2_pred"
   ]
  },
  {
   "cell_type": "code",
   "execution_count": 94,
   "metadata": {},
   "outputs": [
    {
     "name": "stdout",
     "output_type": "stream",
     "text": [
      "R2 score =  0.9575973756736891\n",
      "MAE =  4.606465521192958\n",
      "MSE =  34.94750913286346\n",
      "RMSE =  5.911641830563101\n"
     ]
    }
   ],
   "source": [
    "print(\"R2 score = \",r2_score(y_test,ls2_pred))\n",
    "print(\"MAE = \",mean_absolute_error(y_test,ls2_pred))\n",
    "print(\"MSE = \",mean_squared_error(y_test,ls2_pred))\n",
    "print(\"RMSE = \",np.sqrt(mean_squared_error(y_test,ls2_pred)))"
   ]
  },
  {
   "cell_type": "markdown",
   "metadata": {},
   "source": [
    "## 3.3 Elastic Net Regression Model"
   ]
  },
  {
   "cell_type": "code",
   "execution_count": 95,
   "metadata": {},
   "outputs": [
    {
     "data": {
      "text/plain": [
       "array([ 55.37224728,  66.52994746,  81.59774859,  79.61348333,\n",
       "        79.29680774, 148.4999524 ,  63.45811743,  71.9340589 ,\n",
       "        74.29747502,  50.33368143,  64.87747146, 107.45655265,\n",
       "        71.12033817, 105.27529539,  59.52197018,  66.38021954,\n",
       "        77.05953061,  50.38521316,  41.68218755, 103.61329332,\n",
       "        64.24323422,  66.18406304,  52.34910986, 106.24897995,\n",
       "        67.85475445,  58.93714173,  74.14429375,  65.89917325,\n",
       "        64.68130593, 106.20183382,  78.44556111,  89.15034333,\n",
       "       105.27641572,  80.83645389,  74.19114361,  63.4880279 ,\n",
       "        60.71879407,  55.84734234,  82.5466664 ,  82.73712375,\n",
       "        51.58172679,  80.72215196,  66.32950884,  49.9382446 ,\n",
       "        54.76221013,  62.9618367 ,  88.9877501 ,  51.88687525,\n",
       "        62.26310686,  61.0594944 ,  57.27411739,  67.80563093,\n",
       "        63.63903683,  79.06084324,  98.12586915,  54.37831982,\n",
       "        71.66637241,  62.72916361,  48.73981566,  46.06940092,\n",
       "        36.09126824,  69.25694788,  53.4345931 ,  64.00624899,\n",
       "        67.61168705,  70.36868032, 104.67008697,  69.88691911,\n",
       "        50.20436177,  49.54346727,  81.03582631, 105.17976845,\n",
       "        70.39115431,  68.03373477,  54.27635601,  80.9163388 ,\n",
       "        66.85033671,  66.18089001, 106.70377629,  52.89541546,\n",
       "       136.42254814,  81.65674968, 148.46274023,  66.79935372,\n",
       "        65.36585014,  66.60169795,  53.31422869,  47.60533624,\n",
       "        64.22158205,  69.82123818, 106.39649225,  68.90796578,\n",
       "        96.80921652,  58.98718123,  64.68401964,  68.51572072,\n",
       "        75.62356781,  60.02423317,  66.96117584,  65.44488677,\n",
       "        52.84854669,  64.80932153,  79.68743965,  64.70851934,\n",
       "        59.43047672,  47.07306037,  56.47179309,  67.79773951,\n",
       "       136.37488822,  75.02012184,  48.08984851,  86.60608249,\n",
       "        55.97460224, 146.16392321,  64.32035681, 135.34169805,\n",
       "        64.90422887,  50.2986567 ,  52.3851759 ,  41.67636637,\n",
       "        65.87065976,  68.23743866,  83.12684725,  64.2280707 ,\n",
       "        64.18305171,  38.75251414,  79.35088155,  52.39743845,\n",
       "        81.89537752,  70.81966172,  64.94438134])"
      ]
     },
     "execution_count": 95,
     "metadata": {},
     "output_type": "execute_result"
    }
   ],
   "source": [
    "from sklearn.linear_model import ElasticNet\n",
    "EN = ElasticNet(alpha =2)\n",
    "EN.fit(X_train, y_train)\n",
    "EN_pred = EN.predict(X_test)\n",
    "EN_pred"
   ]
  },
  {
   "cell_type": "code",
   "execution_count": 96,
   "metadata": {},
   "outputs": [
    {
     "name": "stdout",
     "output_type": "stream",
     "text": [
      "R2 score =  0.9373149647747678\n",
      "MAE =  5.458056724834674\n",
      "MSE =  51.66392118018847\n",
      "RMSE =  7.187761903415309\n"
     ]
    }
   ],
   "source": [
    "print(\"R2 score = \",r2_score(y_test,EN_pred))\n",
    "print(\"MAE = \",mean_absolute_error(y_test,EN_pred))\n",
    "print(\"MSE = \",mean_squared_error(y_test,EN_pred))\n",
    "print(\"RMSE = \",np.sqrt(mean_squared_error(y_test,EN_pred)))"
   ]
  },
  {
   "cell_type": "code",
   "execution_count": 97,
   "metadata": {},
   "outputs": [
    {
     "data": {
      "text/plain": [
       "array([ 52.23711277,  65.47442873,  83.78886418,  81.78944915,\n",
       "        80.77129621, 163.7718101 ,  62.35956213,  72.13934261,\n",
       "        75.2626091 ,  45.84225207,  64.99487751, 114.52453011,\n",
       "        70.94397895, 111.78125929,  57.34700624,  65.40241914,\n",
       "        78.36433056,  45.90983766,  37.04194986, 109.92444388,\n",
       "        63.15438305,  66.22536967,  49.56653863, 112.93870524,\n",
       "        67.06804532,  56.90942882,  75.21638786,  64.99690171,\n",
       "        64.11776749, 113.02755302,  80.13562868,  93.08550459,\n",
       "       111.98625333,  82.78091417,  74.8040942 ,  62.26798773,\n",
       "        58.79070833,  52.90973662,  84.64979673,  85.57275851,\n",
       "        47.7810811 ,  82.86550005,  66.36656941,  45.56734723,\n",
       "        51.31511382,  61.61306461,  92.79710482,  48.54900691,\n",
       "        60.97729099,  59.5756594 ,  55.50579598,  67.1748698 ,\n",
       "        62.54662081,  80.83097251, 103.20009941,  50.91145245,\n",
       "        72.84895241,  61.27962771,  44.68473941,  41.21339939,\n",
       "        29.27303184,  69.14755922,  50.26186397,  62.46743223,\n",
       "        66.85244492,  69.97873393, 111.59103703,  69.37036711,\n",
       "        46.20232039,  44.88505517,  82.95083997, 112.22399117,\n",
       "        70.3131192 ,  67.68219019,  51.7522889 ,  82.98471768,\n",
       "        66.19576604,  65.72195839, 113.86186517,  49.19373353,\n",
       "       149.41330086,  83.79413194, 163.9523246 ,  66.02224952,\n",
       "        65.35645542,  65.70630399,  49.72036139,  43.37999995,\n",
       "        62.93351551,  70.12808534, 112.91616258,  68.38791321,\n",
       "       101.95505519,  56.6738886 ,  63.16860872,  67.88731648,\n",
       "        76.58869917,  58.03696045,  66.56728893,  64.79880518,\n",
       "        50.71622003,  63.40003788,  81.34528236,  63.21057892,\n",
       "        57.28444203,  42.54918171,  53.86816354,  66.86757832,\n",
       "       149.31912534,  75.78631652,  43.748126  ,  89.54504373,\n",
       "        52.97300734, 161.11140404,  63.00288838, 148.15566767,\n",
       "        64.00947245,  45.8092233 ,  48.70662775,  36.11877216,\n",
       "        64.6306414 ,  67.20041856,  85.64764018,  63.39801496,\n",
       "        62.73182319,  32.42265348,  80.81724095,  49.07038868,\n",
       "        84.46138547,  70.91275129,  63.7016112 ])"
      ]
     },
     "execution_count": 97,
     "metadata": {},
     "output_type": "execute_result"
    }
   ],
   "source": [
    "EN2 = ElasticNet(alpha =0.6)\n",
    "EN2.fit(X_train, y_train)\n",
    "EN2_pred = EN2.predict(X_test)\n",
    "EN2_pred"
   ]
  },
  {
   "cell_type": "code",
   "execution_count": 98,
   "metadata": {},
   "outputs": [
    {
     "name": "stdout",
     "output_type": "stream",
     "text": [
      "R2 score =  0.9851322457295791\n",
      "MAE =  2.710928662795743\n",
      "MSE =  12.253745762341781\n",
      "RMSE =  3.500535068006287\n"
     ]
    }
   ],
   "source": [
    "print(\"R2 score = \",r2_score(y_test,EN2_pred))\n",
    "print(\"MAE = \",mean_absolute_error(y_test,EN2_pred))\n",
    "print(\"MSE = \",mean_squared_error(y_test,EN2_pred))\n",
    "print(\"RMSE = \",np.sqrt(mean_squared_error(y_test,EN2_pred)))"
   ]
  },
  {
   "cell_type": "markdown",
   "metadata": {},
   "source": [
    "## 3.4 Polynomial Regression Model"
   ]
  },
  {
   "cell_type": "code",
   "execution_count": 99,
   "metadata": {},
   "outputs": [],
   "source": [
    "from sklearn.preprocessing import PolynomialFeatures\n",
    "poly = PolynomialFeatures(degree = 3)\n",
    "poly.fit(X_train)\n",
    "X_train_poly = poly.transform(X_train)\n",
    "X_test_poly = poly.transform(X_test)"
   ]
  },
  {
   "cell_type": "code",
   "execution_count": 100,
   "metadata": {},
   "outputs": [
    {
     "name": "stdout",
     "output_type": "stream",
     "text": [
      "(393, 56)\n",
      "(131, 56)\n"
     ]
    }
   ],
   "source": [
    "print(X_train_poly.shape) \n",
    "print(X_test_poly.shape)"
   ]
  },
  {
   "cell_type": "code",
   "execution_count": 101,
   "metadata": {},
   "outputs": [
    {
     "data": {
      "text/plain": [
       "LinearRegression()"
      ]
     },
     "execution_count": 101,
     "metadata": {},
     "output_type": "execute_result"
    }
   ],
   "source": [
    "PR = LinearRegression()\n",
    "PR.fit(X_train_poly, y_train)"
   ]
  },
  {
   "cell_type": "code",
   "execution_count": 102,
   "metadata": {},
   "outputs": [
    {
     "data": {
      "text/plain": [
       "array([ 7.25437150e+12, -6.65226796e-01,  2.21664984e+01, -2.25564604e+01,\n",
       "        2.78930495e+01, -9.69210870e-01, -7.75467633e+01,  1.16640524e+02,\n",
       "        1.70063246e+01,  1.83996010e+01, -1.89827154e+01, -1.21096221e+02,\n",
       "       -1.00328706e+01,  1.26793501e+02,  6.13039883e+00,  4.91466506e+01,\n",
       "       -9.76454830e+01,  2.13261945e+01, -2.09418242e+01, -8.74966889e+00,\n",
       "        1.57818810e-01, -1.65254846e+02,  5.24742915e+02, -1.85260129e+02,\n",
       "        1.33817193e+02, -2.85782604e+01, -4.86106471e+02,  1.11629522e+02,\n",
       "       -2.70413780e+02,  9.57324262e+01,  6.09654071e+02, -8.77873610e+02,\n",
       "       -4.22614796e+01,  4.65062343e+02,  6.33321973e+00, -3.84272376e+00,\n",
       "        3.53244457e+02,  4.78796684e+02, -9.84317224e+02, -5.46559191e+01,\n",
       "       -7.06325958e+02,  4.05230513e+02, -4.60406171e+01,  8.63301412e+02,\n",
       "        7.13104552e+01,  3.75753841e+00, -1.15968397e+02,  3.75458287e+02,\n",
       "        9.44338875e+01, -1.48303721e+02, -1.14600731e+02,  8.61232946e+00,\n",
       "       -3.81315009e+02,  1.85004480e+01, -9.09593534e+00,  9.24115198e-02])"
      ]
     },
     "execution_count": 102,
     "metadata": {},
     "output_type": "execute_result"
    }
   ],
   "source": [
    "PR.coef_"
   ]
  },
  {
   "cell_type": "code",
   "execution_count": 103,
   "metadata": {},
   "outputs": [
    {
     "data": {
      "text/plain": [
       "-7254371504020.645"
      ]
     },
     "execution_count": 103,
     "metadata": {},
     "output_type": "execute_result"
    }
   ],
   "source": [
    "PR.intercept_"
   ]
  },
  {
   "cell_type": "code",
   "execution_count": 104,
   "metadata": {},
   "outputs": [
    {
     "data": {
      "text/plain": [
       "array([ 50.51269531,  61.43652344,  86.70507812,  82.6953125 ,\n",
       "        81.9296875 , 171.67089844,  58.97265625,  71.08105469,\n",
       "        74.00097656,  46.57226562,  74.42773438, 121.05175781,\n",
       "        69.3671875 , 117.22558594,  54.12304688,  63.85351562,\n",
       "        79.0234375 ,  42.80175781,  33.5546875 , 110.82519531,\n",
       "        61.6640625 ,  64.89746094,  49.78417969, 118.6015625 ,\n",
       "        64.99023438,  53.47851562,  76.43652344,  63.52246094,\n",
       "        64.15917969, 117.34082031,  90.73046875,  90.828125  ,\n",
       "       113.39746094,  83.953125  ,  74.70214844,  59.69824219,\n",
       "        55.04003906,  51.14941406,  86.97070312,  84.3671875 ,\n",
       "        45.80957031,  82.5703125 ,  69.26953125,  42.99707031,\n",
       "        49.25683594,  60.3671875 ,  94.48632812,  47.16503906,\n",
       "        60.06152344,  55.41113281,  57.20898438,  67.171875  ,\n",
       "        60.88574219,  81.9921875 , 107.89453125,  48.23339844,\n",
       "        47.88964844,  58.36816406,  44.56738281,  41.70019531,\n",
       "        40.68066406,  67.62207031,  47.53613281,  60.91015625,\n",
       "        64.3828125 ,  71.47070312, 113.42871094,  69.08886719,\n",
       "        43.93652344,  43.51660156,  88.25585938, 118.34375   ,\n",
       "        72.33496094,  65.94140625,  52.03417969,  80.7578125 ,\n",
       "        63.59863281,  61.57910156, 120.70214844,  46.97460938,\n",
       "       157.01855469,  85.8046875 , 153.18164062,  64.78710938,\n",
       "        66.52246094,  63.62011719,  44.79199219,  42.17480469,\n",
       "        59.76269531,  67.28808594, 117.63476562,  67.9609375 ,\n",
       "       107.62304688,  54.51660156,  61.62890625,  65.13964844,\n",
       "        78.66796875,  58.88378906,  64.12207031,  60.73632812,\n",
       "        47.01660156,  61.03125   ,  80.19238281,  61.17089844,\n",
       "        54.06347656,  42.29296875,  52.70605469,  63.88378906,\n",
       "       161.80273438,  76.72851562,  41.08203125,  93.17871094,\n",
       "        49.26464844, 161.80761719,  60.91113281, 161.0078125 ,\n",
       "        62.90820312,  41.59863281,  48.00976562,  41.18164062,\n",
       "        65.61621094,  64.4765625 ,  84.58691406,  62.95703125,\n",
       "        60.32128906,  32.95410156,  80.47363281,  45.75390625,\n",
       "        85.4140625 ,  69.7265625 ,  63.30078125])"
      ]
     },
     "execution_count": 104,
     "metadata": {},
     "output_type": "execute_result"
    }
   ],
   "source": [
    "PR_pred = PR.predict(X_test_poly)\n",
    "PR_pred"
   ]
  },
  {
   "cell_type": "code",
   "execution_count": 105,
   "metadata": {},
   "outputs": [
    {
     "name": "stdout",
     "output_type": "stream",
     "text": [
      "R2 score =  0.9769253693614909\n",
      "MAE =  2.266875759064885\n",
      "MSE =  19.017711233414687\n",
      "RMSE =  4.360930088113623\n"
     ]
    }
   ],
   "source": [
    "print(\"R2 score = \",r2_score(y_test,PR_pred))\n",
    "print(\"MAE = \",mean_absolute_error(y_test,PR_pred))\n",
    "print(\"MSE = \",mean_squared_error(y_test,PR_pred))\n",
    "print(\"RMSE = \",np.sqrt(mean_squared_error(y_test,PR_pred)))"
   ]
  },
  {
   "cell_type": "markdown",
   "metadata": {},
   "source": [
    "## 3.5 Supprot Vector Regression Model"
   ]
  },
  {
   "cell_type": "code",
   "execution_count": 106,
   "metadata": {},
   "outputs": [
    {
     "data": {
      "text/plain": [
       "array([ 50.15064155,  64.46567626,  85.35565571,  83.26971675,\n",
       "        81.66717969, 170.94733506,  61.79893654,  71.20285975,\n",
       "        75.84867411,  44.24681128,  65.45103273, 119.56797296,\n",
       "        69.90243953, 114.88727958,  56.17497565,  64.92773675,\n",
       "        79.01290452,  43.40809226,  34.78230788, 112.7483525 ,\n",
       "        62.92405814,  66.50234054,  48.92465655, 115.33807777,\n",
       "        66.67994451,  56.12477108,  76.28161737,  64.71977168,\n",
       "        64.93462458, 115.49584117,  81.57673946,  94.23114635,\n",
       "       114.68285237,  83.93631196,  74.9982333 ,  61.79408556,\n",
       "        57.74001622,  51.55522694,  85.57110254,  87.02692554,\n",
       "        45.54596603,  83.69193021,  69.41219561,  43.20947121,\n",
       "        49.07432645,  60.65521955,  94.4984398 ,  47.16300509,\n",
       "        60.63081449,  58.88692531,  56.23292601,  67.58507815,\n",
       "        62.33403688,  81.74470124, 106.67456556,  49.2966495 ,\n",
       "        77.9129441 ,  60.61547362,  43.54770444,  39.51176263,\n",
       "        25.42830517,  69.26072485,  48.6292239 ,  61.36640713,\n",
       "        66.51324898,  70.25739459, 114.52370524,  68.91369888,\n",
       "        44.52748456,  42.09913303,  85.41658795, 116.0915638 ,\n",
       "        70.99076436,  67.39010716,  51.83712107,  83.09599044,\n",
       "        65.5061409 ,  65.0058913 , 117.38276052,  47.26347639,\n",
       "       154.82572274,  84.99543507, 175.42485735,  65.74870628,\n",
       "        66.48317787,  65.27321926,  47.73732398,  41.9502755 ,\n",
       "        62.03925905,  69.92365758, 115.65311596,  68.42188551,\n",
       "       104.27866556,  55.74058352,  61.9399015 ,  67.09214595,\n",
       "        77.0469349 ,  57.77907399,  65.99029178,  64.04423006,\n",
       "        50.61372954,  62.7956927 ,  81.78144564,  62.25645929,\n",
       "        55.51814315,  39.82826827,  52.79885039,  65.92995185,\n",
       "       155.93897178,  76.45116266,  41.56307922,  91.38905457,\n",
       "        51.25416431, 168.43886879,  62.15378351, 154.83809946,\n",
       "        64.08272997,  43.67002572,  47.29522604,  35.17844949,\n",
       "        64.17377991,  65.99663805,  86.21108768,  63.06580467,\n",
       "        61.59847292,  29.73639565,  81.56521125,  47.36323661,\n",
       "        85.75088471,  70.88098273,  63.58741882])"
      ]
     },
     "execution_count": 106,
     "metadata": {},
     "output_type": "execute_result"
    }
   ],
   "source": [
    "from sklearn.svm import SVR\n",
    "sv_reg_model = SVR(kernel ='linear');\n",
    "sv_reg_model.fit(X_train,y_train)\n",
    "sv_reg_pred = sv_reg_model.predict(X_test)\n",
    "sv_reg_pred"
   ]
  },
  {
   "cell_type": "code",
   "execution_count": 107,
   "metadata": {},
   "outputs": [
    {
     "name": "stdout",
     "output_type": "stream",
     "text": [
      "R2 score =  0.9941309354197481\n",
      "MAE =  1.7109275820018661\n",
      "MSE =  4.837181454649941\n",
      "RMSE =  2.199359328224913\n"
     ]
    }
   ],
   "source": [
    "print(\"R2 score = \",r2_score(y_test,sv_reg_pred))\n",
    "print(\"MAE = \",mean_absolute_error(y_test,sv_reg_pred))\n",
    "print(\"MSE = \",mean_squared_error(y_test,sv_reg_pred))\n",
    "print(\"RMSE = \",np.sqrt(mean_squared_error(y_test,sv_reg_pred)))"
   ]
  },
  {
   "cell_type": "code",
   "execution_count": 114,
   "metadata": {},
   "outputs": [
    {
     "data": {
      "text/plain": [
       "array([ 49.4694653 ,  62.69444283,  86.53359176,  82.78652496,\n",
       "        81.81178425,  80.95960088,  60.74606248,  71.4278874 ,\n",
       "        75.9164111 ,  49.4543594 ,  64.77369357, 104.27961466,\n",
       "        69.06341329, 103.85314968,  54.37994912,  62.95475259,\n",
       "        79.63133345,  48.88127977,  53.87752238, 105.83630125,\n",
       "        61.37428695,  65.07884242,  50.68832373, 103.7986189 ,\n",
       "        64.57676185,  54.46826062,  75.74386515,  63.10072846,\n",
       "        63.12714198, 105.58537649,  81.86161387,  94.78731985,\n",
       "       106.1610552 ,  85.09267127,  74.72860841,  60.37371076,\n",
       "        55.96972405,  49.98795569,  86.71655866,  86.1550604 ,\n",
       "        46.04511729,  85.06921424,  65.59549193,  46.50130377,\n",
       "        49.55764876,  59.50472816,  95.90869865,  46.753616  ,\n",
       "        59.2608984 ,  57.72480258,  55.21061841,  65.35242109,\n",
       "        60.93349371,  82.73274205, 101.99709318,  49.13353801,\n",
       "        71.68009527,  58.9992085 ,  44.13105046,  43.4302997 ,\n",
       "        46.50690357,  68.51083171,  47.81897662,  59.36175624,\n",
       "        64.59164817,  67.70409089, 104.69410834,  66.85605584,\n",
       "        45.01581758,  48.783893  ,  85.04944434, 104.78239578,\n",
       "        69.34723286,  66.70672917,  51.00303299,  85.19087975,\n",
       "        64.7013514 ,  64.72928247, 105.95776339,  47.64438235,\n",
       "        85.51425415,  86.44030832,  80.82852803,  64.12648115,\n",
       "        64.40420135,  63.45635287,  47.85520858,  43.67922845,\n",
       "        60.47183054,  69.69684184,  99.43024515,  66.3639894 ,\n",
       "       104.40777741,  53.6404524 ,  59.96857726,  65.61984821,\n",
       "        77.23105233,  55.33563467,  65.65563999,  63.64128384,\n",
       "        58.99432317,  60.38172407,  83.01575001,  60.05297342,\n",
       "        54.3834223 ,  43.22136528,  51.0600016 ,  63.97365438,\n",
       "        85.48813094,  75.97330248,  43.62422823,  92.83364641,\n",
       "        50.10153064,  81.83627503,  60.38784841,  86.10129657,\n",
       "        62.57053312,  49.02121444,  46.89279335,  43.19967756,\n",
       "        61.64598502,  64.22946028,  88.52660136,  62.14089599,\n",
       "        59.76634639,  44.94488259,  81.76697219,  46.93553495,\n",
       "        85.95156951,  70.3501952 ,  61.08138495])"
      ]
     },
     "execution_count": 114,
     "metadata": {},
     "output_type": "execute_result"
    }
   ],
   "source": [
    "from sklearn.svm import SVR\n",
    "sv2_reg_model = SVR(kernel ='rbf');\n",
    "sv2_reg_model.fit(X_train,y_train)\n",
    "sv2_reg_pred = sv2_reg_model.predict(X_test)\n",
    "sv2_reg_pred"
   ]
  },
  {
   "cell_type": "code",
   "execution_count": 115,
   "metadata": {},
   "outputs": [
    {
     "name": "stdout",
     "output_type": "stream",
     "text": [
      "R2 score =  0.6074523019066106\n",
      "MAE =  6.819054079932823\n",
      "MSE =  323.53101918012294\n",
      "RMSE =  17.986968037446527\n"
     ]
    }
   ],
   "source": [
    "print(\"R2 score = \",r2_score(y_test,sv2_reg_pred))\n",
    "print(\"MAE = \",mean_absolute_error(y_test,sv2_reg_pred))\n",
    "print(\"MSE = \",mean_squared_error(y_test,sv2_reg_pred))\n",
    "print(\"RMSE = \",np.sqrt(mean_squared_error(y_test,sv2_reg_pred)))"
   ]
  },
  {
   "cell_type": "markdown",
   "metadata": {},
   "source": [
    "## 3.6 KNN Regression Model"
   ]
  },
  {
   "cell_type": "code",
   "execution_count": 51,
   "metadata": {},
   "outputs": [],
   "source": [
    "from sklearn.model_selection import GridSearchCV\n",
    "from sklearn.neighbors import KNeighborsRegressor"
   ]
  },
  {
   "cell_type": "code",
   "execution_count": 52,
   "metadata": {},
   "outputs": [
    {
     "data": {
      "text/plain": [
       "[2, 3, 4, 5, 6, 7, 8, 9, 10, 11, 12, 13, 14, 15, 16, 17, 18, 19, 20]"
      ]
     },
     "execution_count": 52,
     "metadata": {},
     "output_type": "execute_result"
    }
   ],
   "source": [
    "x_list = []\n",
    "for i in range (2,21):\n",
    "    x_list.append(i)\n",
    "x_list"
   ]
  },
  {
   "cell_type": "code",
   "execution_count": 53,
   "metadata": {},
   "outputs": [
    {
     "data": {
      "text/plain": [
       "{'n_neighbors': 4}"
      ]
     },
     "execution_count": 53,
     "metadata": {},
     "output_type": "execute_result"
    }
   ],
   "source": [
    "params = {'n_neighbors' : x_list}\n",
    "knnr = KNeighborsRegressor()\n",
    "check = GridSearchCV(knnr,params,cv=5)\n",
    "check.fit(X_train,y_train)\n",
    "check.best_params_   "
   ]
  },
  {
   "cell_type": "code",
   "execution_count": 54,
   "metadata": {},
   "outputs": [
    {
     "name": "stdout",
     "output_type": "stream",
     "text": [
      "R2 score for i =  2  is :  0.9905993482082358\n",
      "RMSE for i =  2  is :  2.7834968143162557\n",
      "R2 score for i =  3  is :  0.9907595975359318\n",
      "RMSE for i =  3  is :  2.759670232611334\n",
      "R2 score for i =  4  is :  0.9905962982278402\n",
      "RMSE for i =  4  is :  2.783948321425268\n",
      "R2 score for i =  5  is :  0.9901675793933473\n",
      "RMSE for i =  5  is :  2.8467017582063243\n",
      "R2 score for i =  6  is :  0.9898496965660482\n",
      "RMSE for i =  6  is :  2.892352749065502\n",
      "R2 score for i =  7  is :  0.9894573864496207\n",
      "RMSE for i =  7  is :  2.947717699086789\n",
      "R2 score for i =  8  is :  0.9891494985049433\n",
      "RMSE for i =  8  is :  2.9904507267433784\n",
      "R2 score for i =  9  is :  0.9877402551009614\n",
      "RMSE for i =  9  is :  3.178721374028926\n",
      "R2 score for i =  10  is :  0.986564259177053\n",
      "RMSE for i =  10  is :  3.327687644887182\n",
      "R2 score for i =  11  is :  0.9845404503934663\n",
      "RMSE for i =  11  is :  3.5695228303679083\n",
      "R2 score for i =  12  is :  0.9825081147782911\n",
      "RMSE for i =  12  is :  3.7969078311340403\n",
      "R2 score for i =  13  is :  0.9798908720156991\n",
      "RMSE for i =  13  is :  4.071068074596489\n",
      "R2 score for i =  14  is :  0.977190070545602\n",
      "RMSE for i =  14  is :  4.335844681085287\n",
      "R2 score for i =  15  is :  0.9750439613715238\n",
      "RMSE for i =  15  is :  4.5352326443460065\n",
      "R2 score for i =  16  is :  0.9725306192516588\n",
      "RMSE for i =  16  is :  4.758128646497924\n",
      "R2 score for i =  17  is :  0.9692696201110009\n",
      "RMSE for i =  17  is :  5.032638201996137\n",
      "R2 score for i =  18  is :  0.9655595295794978\n",
      "RMSE for i =  18  is :  5.3277799954517535\n",
      "R2 score for i =  19  is :  0.9622893086435941\n",
      "RMSE for i =  19  is :  5.5749887156431095\n",
      "R2 score for i =  20  is :  0.9589590469193368\n",
      "RMSE for i =  20  is :  5.815947322477326\n"
     ]
    }
   ],
   "source": [
    "r2_val = []\n",
    "rmse_val = []\n",
    "for i in range(2,21):\n",
    "    knnr_model = KNeighborsRegressor(n_neighbors = i)\n",
    "    knnr_model.fit(X_train,y_train)\n",
    "    pred = knnr_model.predict(X_test)\n",
    "    print('R2 score for i = ',i,\" is : \",r2_score(y_test,pred))\n",
    "    print('RMSE for i = ',i,\" is : \",np.sqrt(mean_squared_error(y_test,pred)))\n",
    "    r2_val.append(r2_score(y_test,pred))\n",
    "    rmse_val.append(np.sqrt(mean_squared_error(y_test,pred)))\n",
    "## found some error as per the results of best_params_ and above code"
   ]
  },
  {
   "cell_type": "code",
   "execution_count": 55,
   "metadata": {},
   "outputs": [
    {
     "data": {
      "image/png": "[encoded data removed]",
      "text/plain": [
       "<Figure size 432x288 with 1 Axes>"
      ]
     },
     "metadata": {
      "needs_background": "light"
     },
     "output_type": "display_data"
    }
   ],
   "source": [
    "# plt.plot(x_list,r2_val,\"bo--\",label = \"r2 score\")\n",
    "plt.plot(x_list,rmse_val,\"g+:\",label = \"rmse values\")\n",
    "plt.xlabel('k - neighbors')\n",
    "plt.ylabel('rmse value')\n",
    "plt.title(\"Variation of rmse values wrt k - neighbors\")\n",
    "# plt.legend()\n",
    "plt.show()"
   ]
  },
  {
   "cell_type": "code",
   "execution_count": 56,
   "metadata": {},
   "outputs": [
    {
     "data": {
      "image/png": "[encoded data removed]",
      "text/plain": [
       "<Figure size 432x288 with 1 Axes>"
      ]
     },
     "metadata": {
      "needs_background": "light"
     },
     "output_type": "display_data"
    }
   ],
   "source": [
    "plt.plot(x_list,r2_val,\"bo--\",label = \"r2 score\")\n",
    "# plt.plot(x_list,rmse_val,\"g+:\",label = \"rmse values\")\n",
    "plt.xlabel('k - neighbors')\n",
    "plt.ylabel('r2 score')\n",
    "plt.title(\"Variation of r2 score wrt k - neighbors\")\n",
    "# plt.legend()\n",
    "plt.show()"
   ]
  },
  {
   "cell_type": "code",
   "execution_count": null,
   "metadata": {},
   "outputs": [],
   "source": []
  }
 ],
 "metadata": {
  "kernelspec": {
   "display_name": "Python 3 (ipykernel)",
   "language": "python",
   "name": "python3"
  },
  "language_info": {
   "codemirror_mode": {
    "name": "ipython",
    "version": 3
   },
   "file_extension": ".py",
   "mimetype": "text/x-python",
   "name": "python",
   "nbconvert_exporter": "python",
   "pygments_lexer": "ipython3",
   "version": "3.9.7"
  }
 },
 "nbformat": 4,
 "nbformat_minor": 2
}
